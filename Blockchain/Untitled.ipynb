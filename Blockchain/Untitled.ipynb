{
 "cells": [
  {
   "cell_type": "code",
   "execution_count": 1,
   "id": "b59da7cf",
   "metadata": {},
   "outputs": [
    {
     "name": "stdout",
     "output_type": "stream",
     "text": [
      "Collecting web3\n",
      "  Downloading web3-5.31.3-py3-none-any.whl (501 kB)\n",
      "\u001b[2K     \u001b[90m━━━━━━━━━━━━━━━━━━━━━━━━━━━━━━━━━━━━━━━\u001b[0m \u001b[32m501.8/501.8 kB\u001b[0m \u001b[31m1.9 MB/s\u001b[0m eta \u001b[36m0:00:00\u001b[0m00:01\u001b[0m00:01\u001b[0m\n",
      "\u001b[?25hCollecting eth-account<0.6.0,>=0.5.9\n",
      "  Downloading eth_account-0.5.9-py3-none-any.whl (101 kB)\n",
      "\u001b[2K     \u001b[90m━━━━━━━━━━━━━━━━━━━━━━━━━━━━━━━━━━━━━━━\u001b[0m \u001b[32m101.8/101.8 kB\u001b[0m \u001b[31m3.0 MB/s\u001b[0m eta \u001b[36m0:00:00\u001b[0m\n",
      "\u001b[?25hCollecting lru-dict<2.0.0,>=1.1.6\n",
      "  Downloading lru_dict-1.1.8-cp39-cp39-macosx_10_9_x86_64.whl (9.9 kB)\n",
      "Collecting hexbytes<1.0.0,>=0.1.0\n",
      "  Downloading hexbytes-0.3.0-py3-none-any.whl (6.4 kB)\n",
      "Requirement already satisfied: jsonschema<5,>=3.2.0 in /Library/Frameworks/Python.framework/Versions/3.9/lib/python3.9/site-packages (from web3) (4.16.0)\n",
      "Collecting websockets<10,>=9.1\n",
      "  Downloading websockets-9.1-cp39-cp39-macosx_10_9_x86_64.whl (88 kB)\n",
      "\u001b[2K     \u001b[90m━━━━━━━━━━━━━━━━━━━━━━━━━━━━━━━━━━━━━━━━\u001b[0m \u001b[32m88.7/88.7 kB\u001b[0m \u001b[31m1.9 MB/s\u001b[0m eta \u001b[36m0:00:00\u001b[0ma \u001b[36m0:00:01\u001b[0m\n",
      "\u001b[?25hCollecting eth-rlp<0.3\n",
      "  Downloading eth_rlp-0.2.1-py3-none-any.whl (5.0 kB)\n",
      "Collecting eth-hash[pycryptodome]<1.0.0,>=0.2.0\n",
      "  Downloading eth_hash-0.5.1-py3-none-any.whl (9.0 kB)\n",
      "Collecting ipfshttpclient==0.8.0a2\n",
      "  Downloading ipfshttpclient-0.8.0a2-py3-none-any.whl (82 kB)\n",
      "\u001b[2K     \u001b[90m━━━━━━━━━━━━━━━━━━━━━━━━━━━━━━━━━━━━━━━━\u001b[0m \u001b[32m82.6/82.6 kB\u001b[0m \u001b[31m2.5 MB/s\u001b[0m eta \u001b[36m0:00:00\u001b[0m\n",
      "\u001b[?25hCollecting eth-abi<3.0.0,>=2.2.0\n",
      "  Downloading eth_abi-2.2.0-py3-none-any.whl (28 kB)\n",
      "Collecting eth-typing<3.0.0,>=2.0.0\n",
      "  Downloading eth_typing-2.3.0-py3-none-any.whl (6.2 kB)\n",
      "Collecting aiohttp<4,>=3.7.4.post0\n",
      "  Downloading aiohttp-3.8.4-cp39-cp39-macosx_10_9_x86_64.whl (360 kB)\n",
      "\u001b[2K     \u001b[90m━━━━━━━━━━━━━━━━━━━━━━━━━━━━━━━━━━━━━━━\u001b[0m \u001b[32m360.3/360.3 kB\u001b[0m \u001b[31m5.3 MB/s\u001b[0m eta \u001b[36m0:00:00\u001b[0ma \u001b[36m0:00:01\u001b[0m\n",
      "\u001b[?25hCollecting protobuf==3.19.5\n",
      "  Downloading protobuf-3.19.5-cp39-cp39-macosx_10_9_x86_64.whl (980 kB)\n",
      "\u001b[2K     \u001b[90m━━━━━━━━━━━━━━━━━━━━━━━━━━━━━━━━━━━━━━━\u001b[0m \u001b[32m980.5/980.5 kB\u001b[0m \u001b[31m1.2 MB/s\u001b[0m eta \u001b[36m0:00:00\u001b[0m00:01\u001b[0m00:01\u001b[0m\n",
      "\u001b[?25hRequirement already satisfied: requests<3.0.0,>=2.16.0 in /Library/Frameworks/Python.framework/Versions/3.9/lib/python3.9/site-packages (from web3) (2.27.1)\n",
      "Collecting eth-utils<2.0.0,>=1.9.5\n",
      "  Downloading eth_utils-1.10.0-py3-none-any.whl (24 kB)\n",
      "Collecting multiaddr>=0.0.7\n",
      "  Downloading multiaddr-0.0.9-py2.py3-none-any.whl (16 kB)\n",
      "Collecting aiosignal>=1.1.2\n",
      "  Downloading aiosignal-1.3.1-py3-none-any.whl (7.6 kB)\n",
      "Collecting frozenlist>=1.1.1\n",
      "  Downloading frozenlist-1.3.3-cp39-cp39-macosx_10_9_x86_64.whl (36 kB)\n",
      "Collecting yarl<2.0,>=1.0\n",
      "  Downloading yarl-1.8.2-cp39-cp39-macosx_10_9_x86_64.whl (61 kB)\n",
      "\u001b[2K     \u001b[90m━━━━━━━━━━━━━━━━━━━━━━━━━━━━━━━━━━━━━━━━\u001b[0m \u001b[32m61.2/61.2 kB\u001b[0m \u001b[31m2.1 MB/s\u001b[0m eta \u001b[36m0:00:00\u001b[0m\n",
      "\u001b[?25hRequirement already satisfied: charset-normalizer<4.0,>=2.0 in /Library/Frameworks/Python.framework/Versions/3.9/lib/python3.9/site-packages (from aiohttp<4,>=3.7.4.post0->web3) (2.0.10)\n",
      "Requirement already satisfied: attrs>=17.3.0 in /Library/Frameworks/Python.framework/Versions/3.9/lib/python3.9/site-packages (from aiohttp<4,>=3.7.4.post0->web3) (22.1.0)\n",
      "Collecting async-timeout<5.0,>=4.0.0a3\n",
      "  Downloading async_timeout-4.0.2-py3-none-any.whl (5.8 kB)\n",
      "Collecting multidict<7.0,>=4.5\n",
      "  Downloading multidict-6.0.4-cp39-cp39-macosx_10_9_x86_64.whl (29 kB)\n",
      "Collecting parsimonious<0.9.0,>=0.8.0\n",
      "  Downloading parsimonious-0.8.1.tar.gz (45 kB)\n",
      "\u001b[2K     \u001b[90m━━━━━━━━━━━━━━━━━━━━━━━━━━━━━━━━━━━━━━━\u001b[0m \u001b[32m45.1/45.1 kB\u001b[0m \u001b[31m745.4 kB/s\u001b[0m eta \u001b[36m0:00:00\u001b[0ma \u001b[36m0:00:01\u001b[0m\n",
      "\u001b[?25h  Preparing metadata (setup.py) ... \u001b[?25ldone\n",
      "\u001b[?25hCollecting bitarray<3,>=1.2.1\n",
      "  Downloading bitarray-2.7.3-cp39-cp39-macosx_10_9_x86_64.whl (120 kB)\n",
      "\u001b[2K     \u001b[90m━━━━━━━━━━━━━━━━━━━━━━━━━━━━━━━━━━━━━━━\u001b[0m \u001b[32m120.5/120.5 kB\u001b[0m \u001b[31m4.1 MB/s\u001b[0m eta \u001b[36m0:00:00\u001b[0m\n",
      "\u001b[?25hCollecting eth-keyfile<0.6.0,>=0.5.0\n",
      "  Downloading eth_keyfile-0.5.1-py3-none-any.whl (8.3 kB)\n",
      "Collecting eth-keys<0.4.0,>=0.3.4\n",
      "  Downloading eth_keys-0.3.4-py3-none-any.whl (21 kB)\n",
      "Collecting rlp<3,>=1.0.0\n",
      "  Downloading rlp-2.0.1-py2.py3-none-any.whl (20 kB)\n",
      "Collecting pycryptodome<4,>=3.6.6\n",
      "  Downloading pycryptodome-3.17-cp35-abi3-macosx_10_9_x86_64.whl (1.6 MB)\n",
      "\u001b[2K     \u001b[90m━━━━━━━━━━━━━━━━━━━━━━━━━━━━━━━━━━━━━━━━\u001b[0m \u001b[32m1.6/1.6 MB\u001b[0m \u001b[31m3.5 MB/s\u001b[0m eta \u001b[36m0:00:00\u001b[0m00:01\u001b[0m00:01\u001b[0m\n",
      "\u001b[?25hCollecting cytoolz<1.0.0,>=0.10.1\n",
      "  Downloading cytoolz-0.12.1-cp39-cp39-macosx_10_9_x86_64.whl (410 kB)\n",
      "\u001b[2K     \u001b[90m━━━━━━━━━━━━━━━━━━━━━━━━━━━━━━━━━━━━━━━\u001b[0m \u001b[32m410.7/410.7 kB\u001b[0m \u001b[31m2.4 MB/s\u001b[0m eta \u001b[36m0:00:00\u001b[0m00:01\u001b[0m00:01\u001b[0m\n",
      "\u001b[?25hCollecting eth-utils<2.0.0,>=1.9.5\n",
      "  Downloading eth_utils-1.9.5-py3-none-any.whl (23 kB)\n",
      "Requirement already satisfied: pyrsistent!=0.17.0,!=0.17.1,!=0.17.2,>=0.14.0 in /Library/Frameworks/Python.framework/Versions/3.9/lib/python3.9/site-packages (from jsonschema<5,>=3.2.0->web3) (0.18.1)\n",
      "Requirement already satisfied: certifi>=2017.4.17 in /Library/Frameworks/Python.framework/Versions/3.9/lib/python3.9/site-packages (from requests<3.0.0,>=2.16.0->web3) (2021.10.8)\n",
      "Requirement already satisfied: idna<4,>=2.5 in /Library/Frameworks/Python.framework/Versions/3.9/lib/python3.9/site-packages (from requests<3.0.0,>=2.16.0->web3) (3.3)\n",
      "Requirement already satisfied: urllib3<1.27,>=1.21.1 in /Library/Frameworks/Python.framework/Versions/3.9/lib/python3.9/site-packages (from requests<3.0.0,>=2.16.0->web3) (1.26.8)\n",
      "Collecting toolz>=0.8.0\n",
      "  Downloading toolz-0.12.0-py3-none-any.whl (55 kB)\n",
      "\u001b[2K     \u001b[90m━━━━━━━━━━━━━━━━━━━━━━━━━━━━━━━━━━━━━━━━\u001b[0m \u001b[32m55.8/55.8 kB\u001b[0m \u001b[31m1.8 MB/s\u001b[0m eta \u001b[36m0:00:00\u001b[0m\n",
      "\u001b[?25hRequirement already satisfied: six in /Library/Frameworks/Python.framework/Versions/3.9/lib/python3.9/site-packages (from multiaddr>=0.0.7->ipfshttpclient==0.8.0a2->web3) (1.16.0)\n",
      "Collecting base58\n",
      "  Downloading base58-2.1.1-py3-none-any.whl (5.6 kB)\n",
      "Collecting netaddr\n",
      "  Downloading netaddr-0.8.0-py2.py3-none-any.whl (1.9 MB)\n",
      "\u001b[2K     \u001b[90m━━━━━━━━━━━━━━━━━━━━━━━━━━━━━━━━━━━━━━━━\u001b[0m \u001b[32m1.9/1.9 MB\u001b[0m \u001b[31m3.6 MB/s\u001b[0m eta \u001b[36m0:00:00\u001b[0m00:01\u001b[0m00:01\u001b[0m\n",
      "\u001b[?25hCollecting varint\n",
      "  Downloading varint-1.0.2.tar.gz (1.9 kB)\n",
      "  Preparing metadata (setup.py) ... \u001b[?25ldone\n",
      "\u001b[?25hBuilding wheels for collected packages: parsimonious, varint\n",
      "  Building wheel for parsimonious (setup.py) ... \u001b[?25ldone\n",
      "\u001b[?25h  Created wheel for parsimonious: filename=parsimonious-0.8.1-py3-none-any.whl size=42709 sha256=7fe2fcb0285aca58599c5393ea340a7accb441fa129a824b53ac465f768615ff\n",
      "  Stored in directory: /Users/dipenbhuva/Library/Caches/pip/wheels/ae/3f/87/24298980f6c0436680b8b64caac154f542e138487ed0f90f2a\n",
      "  Building wheel for varint (setup.py) ... \u001b[?25ldone\n",
      "\u001b[?25h  Created wheel for varint: filename=varint-1.0.2-py3-none-any.whl size=1980 sha256=29f531bd4c5e09f01d6a916c7e9e5ec99996f9412f8ebf8b900908a79dafa340\n",
      "  Stored in directory: /Users/dipenbhuva/Library/Caches/pip/wheels/4b/47/bb/e4fd5cf6101ed8d6a9c52ff50e37bfb908ffdf330ddbbf9550\n",
      "Successfully built parsimonious varint\n",
      "Installing collected packages: varint, netaddr, lru-dict, bitarray, websockets, toolz, pycryptodome, protobuf, parsimonious, multidict, hexbytes, frozenlist, eth-typing, eth-hash, base58, async-timeout, yarl, multiaddr, cytoolz, aiosignal, ipfshttpclient, eth-utils, aiohttp, rlp, eth-keys, eth-abi, eth-rlp, eth-keyfile, eth-account, web3\n",
      "  Attempting uninstall: protobuf\n",
      "    Found existing installation: protobuf 3.19.6\n",
      "    Uninstalling protobuf-3.19.6:\n",
      "      Successfully uninstalled protobuf-3.19.6\n",
      "Successfully installed aiohttp-3.8.4 aiosignal-1.3.1 async-timeout-4.0.2 base58-2.1.1 bitarray-2.7.3 cytoolz-0.12.1 eth-abi-2.2.0 eth-account-0.5.9 eth-hash-0.5.1 eth-keyfile-0.5.1 eth-keys-0.3.4 eth-rlp-0.2.1 eth-typing-2.3.0 eth-utils-1.9.5 frozenlist-1.3.3 hexbytes-0.3.0 ipfshttpclient-0.8.0a2 lru-dict-1.1.8 multiaddr-0.0.9 multidict-6.0.4 netaddr-0.8.0 parsimonious-0.8.1 protobuf-3.19.5 pycryptodome-3.17 rlp-2.0.1 toolz-0.12.0 varint-1.0.2 web3-5.31.3 websockets-9.1 yarl-1.8.2\n",
      "\n",
      "\u001b[1m[\u001b[0m\u001b[34;49mnotice\u001b[0m\u001b[1;39;49m]\u001b[0m\u001b[39;49m A new release of pip is available: \u001b[0m\u001b[31;49m23.0\u001b[0m\u001b[39;49m -> \u001b[0m\u001b[32;49m23.0.1\u001b[0m\n",
      "\u001b[1m[\u001b[0m\u001b[34;49mnotice\u001b[0m\u001b[1;39;49m]\u001b[0m\u001b[39;49m To update, run: \u001b[0m\u001b[32;49mpip install --upgrade pip\u001b[0m\n"
     ]
    }
   ],
   "source": [
    "!pip install web3"
   ]
  },
  {
   "cell_type": "code",
   "execution_count": null,
   "id": "d74cca97",
   "metadata": {},
   "outputs": [],
   "source": []
  },
  {
   "cell_type": "code",
   "execution_count": 3,
   "id": "fb1f3713",
   "metadata": {},
   "outputs": [
    {
     "name": "stdout",
     "output_type": "stream",
     "text": [
      "Collecting jsonschema==3.2.0\n",
      "  Downloading jsonschema-3.2.0-py2.py3-none-any.whl (56 kB)\n",
      "\u001b[2K     \u001b[90m━━━━━━━━━━━━━━━━━━━━━━━━━━━━━━━━━━━━━━━\u001b[0m \u001b[32m56.3/56.3 kB\u001b[0m \u001b[31m838.9 kB/s\u001b[0m eta \u001b[36m0:00:00\u001b[0m \u001b[36m0:00:01\u001b[0m\n",
      "\u001b[?25hCollecting attrs>=17.4.0\n",
      "  Downloading attrs-22.2.0-py3-none-any.whl (60 kB)\n",
      "\u001b[2K     \u001b[90m━━━━━━━━━━━━━━━━━━━━━━━━━━━━━━━━━━━━━━━━\u001b[0m \u001b[32m60.0/60.0 kB\u001b[0m \u001b[31m1.7 MB/s\u001b[0m eta \u001b[36m0:00:00\u001b[0m\n",
      "\u001b[?25hCollecting six>=1.11.0\n",
      "  Using cached six-1.16.0-py2.py3-none-any.whl (11 kB)\n",
      "Collecting setuptools\n",
      "  Downloading setuptools-67.4.0-py3-none-any.whl (1.1 MB)\n",
      "\u001b[2K     \u001b[90m━━━━━━━━━━━━━━━━━━━━━━━━━━━━━━━━━━━━━━━━\u001b[0m \u001b[32m1.1/1.1 MB\u001b[0m \u001b[31m7.0 MB/s\u001b[0m eta \u001b[36m0:00:00\u001b[0m00:01\u001b[0m00:01\u001b[0m\n",
      "\u001b[?25hCollecting pyrsistent>=0.14.0\n",
      "  Downloading pyrsistent-0.19.3-cp39-cp39-macosx_10_9_universal2.whl (82 kB)\n",
      "\u001b[2K     \u001b[90m━━━━━━━━━━━━━━━━━━━━━━━━━━━━━━━━━━━━━━━━\u001b[0m \u001b[32m82.5/82.5 kB\u001b[0m \u001b[31m2.9 MB/s\u001b[0m eta \u001b[36m0:00:00\u001b[0m\n",
      "\u001b[?25hInstalling collected packages: six, setuptools, pyrsistent, attrs, jsonschema\n",
      "  Attempting uninstall: six\n",
      "    Found existing installation: six 1.16.0\n",
      "    Uninstalling six-1.16.0:\n",
      "      Successfully uninstalled six-1.16.0\n",
      "  Attempting uninstall: setuptools\n",
      "    Found existing installation: setuptools 49.2.1\n",
      "    Uninstalling setuptools-49.2.1:\n",
      "      Successfully uninstalled setuptools-49.2.1\n",
      "  Attempting uninstall: pyrsistent\n",
      "    Found existing installation: pyrsistent 0.18.1\n",
      "    Uninstalling pyrsistent-0.18.1:\n",
      "      Successfully uninstalled pyrsistent-0.18.1\n",
      "  Attempting uninstall: attrs\n",
      "    Found existing installation: attrs 22.1.0\n",
      "    Uninstalling attrs-22.1.0:\n",
      "      Successfully uninstalled attrs-22.1.0\n",
      "  Attempting uninstall: jsonschema\n",
      "    Found existing installation: jsonschema 4.16.0\n",
      "    Uninstalling jsonschema-4.16.0:\n",
      "      Successfully uninstalled jsonschema-4.16.0\n",
      "Successfully installed attrs-22.2.0 jsonschema-3.2.0 pyrsistent-0.19.3 setuptools-67.4.0 six-1.16.0\n",
      "\n",
      "\u001b[1m[\u001b[0m\u001b[34;49mnotice\u001b[0m\u001b[1;39;49m]\u001b[0m\u001b[39;49m A new release of pip is available: \u001b[0m\u001b[31;49m23.0\u001b[0m\u001b[39;49m -> \u001b[0m\u001b[32;49m23.0.1\u001b[0m\n",
      "\u001b[1m[\u001b[0m\u001b[34;49mnotice\u001b[0m\u001b[1;39;49m]\u001b[0m\u001b[39;49m To update, run: \u001b[0m\u001b[32;49mpip install --upgrade pip\u001b[0m\n"
     ]
    }
   ],
   "source": [
    "!pip install --force-reinstall jsonschema==3.2.0"
   ]
  },
  {
   "cell_type": "code",
   "execution_count": 1,
   "id": "e5d0454f",
   "metadata": {},
   "outputs": [],
   "source": [
    "from web3 import Web3"
   ]
  },
  {
   "cell_type": "code",
   "execution_count": 2,
   "id": "5f1ccc85",
   "metadata": {},
   "outputs": [
    {
     "data": {
      "text/plain": [
       "web3.main.Web3"
      ]
     },
     "execution_count": 2,
     "metadata": {},
     "output_type": "execute_result"
    }
   ],
   "source": [
    "Web3"
   ]
  },
  {
   "cell_type": "code",
   "execution_count": null,
   "id": "f842e099",
   "metadata": {},
   "outputs": [],
   "source": []
  },
  {
   "cell_type": "code",
   "execution_count": null,
   "id": "82fd4803",
   "metadata": {},
   "outputs": [],
   "source": [
    "    "
   ]
  },
  {
   "cell_type": "code",
   "execution_count": 3,
   "id": "eca5454d",
   "metadata": {},
   "outputs": [],
   "source": [
    "from web3 import EthereumTesterProvider\n"
   ]
  },
  {
   "cell_type": "code",
   "execution_count": 4,
   "id": "2f9ebe90",
   "metadata": {},
   "outputs": [
    {
     "data": {
      "text/plain": [
       "web3.providers.eth_tester.main.EthereumTesterProvider"
      ]
     },
     "execution_count": 4,
     "metadata": {},
     "output_type": "execute_result"
    }
   ],
   "source": [
    "EthereumTesterProvider"
   ]
  },
  {
   "cell_type": "code",
   "execution_count": 5,
   "id": "5f826f1d",
   "metadata": {},
   "outputs": [
    {
     "name": "stderr",
     "output_type": "stream",
     "text": [
      "/Library/Frameworks/Python.framework/Versions/3.9/lib/python3.9/site-packages/eth_tester/backends/__init__.py:30: UserWarning: Ethereum Tester: No backend was explicitly set, and no *full* backends were available.  Falling back to the `MockBackend` which does not support all EVM functionality.  Please refer to the `eth-tester` documentation for information on what backends are available and how to set them.  Your py-evm package may need to be updated.\n",
      "  warnings.warn(\n"
     ]
    },
    {
     "data": {
      "text/plain": [
       "True"
      ]
     },
     "execution_count": 5,
     "metadata": {},
     "output_type": "execute_result"
    }
   ],
   "source": [
    "w3 = Web3(EthereumTesterProvider())\n",
    "w3.isConnected()"
   ]
  },
  {
   "cell_type": "code",
   "execution_count": 6,
   "id": "dd9453b5",
   "metadata": {},
   "outputs": [
    {
     "data": {
      "text/plain": [
       "True"
      ]
     },
     "execution_count": 6,
     "metadata": {},
     "output_type": "execute_result"
    }
   ],
   "source": [
    "w3 = Web3(Web3.HTTPProvider('http://127.0.0.1:7545'))\n",
    "w3.isConnected()"
   ]
  },
  {
   "cell_type": "code",
   "execution_count": 7,
   "id": "ff7468fb",
   "metadata": {},
   "outputs": [
    {
     "data": {
      "text/plain": [
       "AttributeDict({'hash': HexBytes('0x4ea9723fec2bafe4c5fa0dacb7f16a1d1c2e14bfa675f24e73c11a53b49f72ca'),\n",
       " 'parentHash': HexBytes('0x98a671cd1cfb7313b16619619397b72f6dbb71e1974bdb18ba410bd80bb31f02'),\n",
       " 'sha3Uncles': HexBytes('0x1dcc4de8dec75d7aab85b567b6ccd41ad312451b948a7413f0a142fd40d49347'),\n",
       " 'miner': '0x0000000000000000000000000000000000000000',\n",
       " 'stateRoot': HexBytes('0x69f6cf0ed608168384660f6bff9a51fc744bf83bd38d1753f3fcd49e459142a9'),\n",
       " 'transactionsRoot': HexBytes('0x7f6cac232cffb2db3c696d81680020d9fcdecdd8b77632ba98ccc7877fb4cc8c'),\n",
       " 'receiptsRoot': HexBytes('0x6e60075437b56943c06420fad8bf2799cbc29f835e2cb8365700fba50c00bc35'),\n",
       " 'logsBloom': HexBytes('0x00000000000000000000000000000000000000000000000000000000000000000000000000000000000000000000000000000000000000000000000000000000000000000000000000000000000000000000000000000000000000000000000000000000000000000000000000000000000000000000000000000000000000000000000000000000000000000000000000000000000000000000000000000000000000000000000000000000000000000000000000000000000000000000000000000000000000000000000000000000000000000000000000000000000000000000000000000000000000000000000000000000000000000000000000000000'),\n",
       " 'difficulty': 0,\n",
       " 'number': 8,\n",
       " 'gasLimit': 6721975,\n",
       " 'gasUsed': 28638,\n",
       " 'timestamp': 1677872851,\n",
       " 'extraData': HexBytes('0x'),\n",
       " 'mixHash': HexBytes('0x0e3f382a025b28d152d9cf9070f3229c855c20132f0448ec051af3fb2a013438'),\n",
       " 'nonce': HexBytes('0x0000000000000000'),\n",
       " 'totalDifficulty': 0,\n",
       " 'baseFeePerGas': 356961769,\n",
       " 'size': 663,\n",
       " 'transactions': [HexBytes('0x5b5c4909eff44572458a7f625de3084fece19177f9c4eb9d4179e68e2fc7ddf9')],\n",
       " 'uncles': []})"
      ]
     },
     "execution_count": 7,
     "metadata": {},
     "output_type": "execute_result"
    }
   ],
   "source": [
    "w3.eth.get_block('latest')"
   ]
  },
  {
   "cell_type": "code",
   "execution_count": 25,
   "id": "f3a77ada",
   "metadata": {},
   "outputs": [
    {
     "data": {
      "text/plain": [
       "True"
      ]
     },
     "execution_count": 25,
     "metadata": {},
     "output_type": "execute_result"
    }
   ],
   "source": [
    "w3.isAddress('0x3f0b894Bfbc5000E80dBe7094C71a82937D936bF')"
   ]
  },
  {
   "cell_type": "code",
   "execution_count": 28,
   "id": "2780e6ad",
   "metadata": {},
   "outputs": [],
   "source": [
    "wallet = w3.toChecksumAddress('0x687019615C351c6bB384B7480edAE3E50fD1458A')\n",
    "bb=w3.eth.get_balance(wallet)"
   ]
  },
  {
   "cell_type": "code",
   "execution_count": 29,
   "id": "931f5c66",
   "metadata": {},
   "outputs": [
    {
     "name": "stdout",
     "output_type": "stream",
     "text": [
      "0\n"
     ]
    }
   ],
   "source": [
    "print(w3.fromWei(bb,'ether'))"
   ]
  },
  {
   "cell_type": "code",
   "execution_count": 35,
   "id": "b3755d73",
   "metadata": {},
   "outputs": [],
   "source": [
    "abi = '[ { \"constant\": true, \"inputs\": [], \"name\": \"bal\", \"outputs\": [ { \"internalType\": \"uint256\", \"name\": \"\", \"type\": \"uint256\" } ], \"payable\": false, \"stateMutability\": \"view\", \"type\": \"function\" }, { \"constant\": true, \"inputs\": [], \"name\": \"balance\", \"outputs\": [ { \"internalType\": \"uint256\", \"name\": \"\", \"type\": \"uint256\" } ], \"payable\": false, \"stateMutability\": \"view\", \"type\": \"function\" }, { \"constant\": true, \"inputs\": [], \"name\": \"getBalance\", \"outputs\": [ { \"internalType\": \"uint256\", \"name\": \"\", \"type\": \"uint256\" } ], \"payable\": false, \"stateMutability\": \"view\", \"type\": \"function\" }, { \"constant\": false, \"inputs\": [ { \"internalType\": \"uint256\", \"name\": \"amt\", \"type\": \"uint256\" } ], \"name\": \"withdraw\", \"outputs\": [], \"payable\": false, \"stateMutability\": \"nonpayable\", \"type\": \"function\" }, { \"constant\": false, \"inputs\": [ { \"internalType\": \"uint256\", \"name\": \"amt\", \"type\": \"uint256\" } ], \"name\": \"deposit\", \"outputs\": [], \"payable\": false, \"stateMutability\": \"nonpayable\", \"type\": \"function\" }, { \"constant\": true, \"inputs\": [], \"name\": \"sayHello\", \"outputs\": [ { \"internalType\": \"string\", \"name\": \"newName\", \"type\": \"string\" } ], \"payable\": false, \"stateMutability\": \"view\", \"type\": \"function\" }, { \"constant\": true, \"inputs\": [], \"name\": \"last_completed_migration\", \"outputs\": [ { \"internalType\": \"uint256\", \"name\": \"\", \"type\": \"uint256\" } ], \"payable\": false, \"stateMutability\": \"view\", \"type\": \"function\" }, { \"constant\": true, \"inputs\": [], \"name\": \"owner\", \"outputs\": [ { \"internalType\": \"address\", \"name\": \"\", \"type\": \"address\" } ], \"payable\": false, \"stateMutability\": \"view\", \"type\": \"function\" }, { \"constant\": false, \"inputs\": [ { \"internalType\": \"uint256\", \"name\": \"completed\", \"type\": \"uint256\" } ], \"name\": \"setCompleted\", \"outputs\": [], \"payable\": false, \"stateMutability\": \"nonpayable\", \"type\": \"function\" } ]'"
   ]
  },
  {
   "cell_type": "code",
   "execution_count": 44,
   "id": "685932d9",
   "metadata": {},
   "outputs": [],
   "source": [
    "contract_address = '0x70fB2ac1E235aDfeE882C064FBC9799bF9E6a185'"
   ]
  },
  {
   "cell_type": "code",
   "execution_count": 47,
   "id": "c9c2d94b",
   "metadata": {
    "scrolled": true
   },
   "outputs": [
    {
     "name": "stdout",
     "output_type": "stream",
     "text": [
      "110\n"
     ]
    }
   ],
   "source": [
    "contract_instance = w3.eth.contract(address=contract_address, abi = abi)\n",
    "getbal = contract_instance.functions.getBalance().call()\n",
    "print(getbal)"
   ]
  },
  {
   "cell_type": "code",
   "execution_count": 49,
   "id": "5239d050",
   "metadata": {},
   "outputs": [
    {
     "data": {
      "text/plain": [
       "HexBytes('0x608060405234801561001057600080fd5b50600436106100415760003560e01c8063445df0ac146100465780638da5cb5b14610064578063fdacd576146100ae575b600080fd5b61004e6100dc565b6040518082815260200191505060405180910390f35b61006c6100e2565b604051808273ffffffffffffffffffffffffffffffffffffffff1673ffffffffffffffffffffffffffffffffffffffff16815260200191505060405180910390f35b6100da600480360360208110156100c457600080fd5b8101908080359060200190929190505050610107565b005b60015481565b6000809054906101000a900473ffffffffffffffffffffffffffffffffffffffff1681565b6000809054906101000a900473ffffffffffffffffffffffffffffffffffffffff1673ffffffffffffffffffffffffffffffffffffffff163373ffffffffffffffffffffffffffffffffffffffff16146101ac576040517f08c379a00000000000000000000000000000000000000000000000000000000081526004018080602001828103825260338152602001806101b76033913960400191505060405180910390fd5b806001819055505056fe546869732066756e6374696f6e206973207265737472696374656420746f2074686520636f6e74726163742773206f776e6572a265627a7a72315820492e1cfdc45b6895d1b73a627209ac0a15dd3741d8eb3586ac7b130d476f0d6b64736f6c63430005100032')"
      ]
     },
     "execution_count": 49,
     "metadata": {},
     "output_type": "execute_result"
    }
   ],
   "source": [
    "w3.eth.getCode('0x54f5DE02c6906021218b7413Ff56dAF4BF1a45e9')"
   ]
  },
  {
   "cell_type": "code",
   "execution_count": 8,
   "id": "a846a62c",
   "metadata": {
    "scrolled": true
   },
   "outputs": [
    {
     "name": "stdout",
     "output_type": "stream",
     "text": [
      "Collecting py-solc-x\n",
      "  Using cached py_solc_x-1.1.1-py3-none-any.whl (15 kB)\n",
      "Requirement already satisfied: requests<3,>=2.19.0 in /Library/Frameworks/Python.framework/Versions/3.9/lib/python3.9/site-packages (from py-solc-x) (2.27.1)\n",
      "Requirement already satisfied: semantic-version<3,>=2.8.1 in /Library/Frameworks/Python.framework/Versions/3.9/lib/python3.9/site-packages (from py-solc-x) (2.10.0)\n",
      "Requirement already satisfied: urllib3<1.27,>=1.21.1 in /Library/Frameworks/Python.framework/Versions/3.9/lib/python3.9/site-packages (from requests<3,>=2.19.0->py-solc-x) (1.26.8)\n",
      "Requirement already satisfied: certifi>=2017.4.17 in /Library/Frameworks/Python.framework/Versions/3.9/lib/python3.9/site-packages (from requests<3,>=2.19.0->py-solc-x) (2021.10.8)\n",
      "Requirement already satisfied: charset-normalizer~=2.0.0 in /Library/Frameworks/Python.framework/Versions/3.9/lib/python3.9/site-packages (from requests<3,>=2.19.0->py-solc-x) (2.0.10)\n",
      "Requirement already satisfied: idna<4,>=2.5 in /Library/Frameworks/Python.framework/Versions/3.9/lib/python3.9/site-packages (from requests<3,>=2.19.0->py-solc-x) (3.3)\n",
      "Installing collected packages: py-solc-x\n",
      "Successfully installed py-solc-x-1.1.1\n"
     ]
    }
   ],
   "source": [
    "!pip install py-solc-x"
   ]
  },
  {
   "cell_type": "code",
   "execution_count": null,
   "id": "5f708855",
   "metadata": {},
   "outputs": [],
   "source": [
    "## Compiling Contract"
   ]
  },
  {
   "cell_type": "code",
   "execution_count": 50,
   "id": "f95acff9",
   "metadata": {},
   "outputs": [],
   "source": [
    "from solcx import compile_source"
   ]
  },
  {
   "cell_type": "code",
   "execution_count": 53,
   "id": "4f9774d0",
   "metadata": {},
   "outputs": [
    {
     "ename": "SolcError",
     "evalue": "An error occurred during execution\n> command: `/Users/dipenbhuva/.solcx/solc-v0.6.0 --combined-json abi,bin -`\n> return code: `1`\n> stdout:\n\n> stderr:\nError: The state mutability modifier \"constant\" was removed in version 0.5.0. Use \"view\" or \"pure\" instead.\n  --> <stdin>:65:55:\n   |\n65 |     function ViewDLRequestLength(address UserAddress) constant returns(uint)\n   |                                                       ^^^^^^^^\n\nError: The state mutability modifier \"constant\" was removed in version 0.5.0. Use \"view\" or \"pure\" instead.\n  --> <stdin>:70:74:\n   |\n70 |     function ViewDLRequestHeader(address UserAddress, uint RequestIndex) constant returns(string RequestedBy, uint DL_OverAll_Status)\n   |                                                                          ^^^^^^^^\n\nError: The state mutability modifier \"constant\" was removed in version 0.5.0. Use \"view\" or \"pure\" instead.\n  --> <stdin>:76:74:\n   |\n76 |  ... ss UserAddress, uint RequestIndex) constant returns(string RequestedBy, uint D ...\n   |                                         ^^^^^^^^\n\nError: The state mutability modifier \"constant\" was removed in version 0.5.0. Use \"view\" or \"pure\" instead.\n  --> <stdin>:92:60:\n   |\n92 |     function viewUser(address UserAddress, uint UserIndex) constant returns(string FullName,string EmailID,uint MobileNo)\n   |                                                            ^^^^^^^^\n\nError: The state mutability modifier \"constant\" was removed in version 0.5.0. Use \"view\" or \"pure\" instead.\n  --> <stdin>:98:65:\n   |\n98 |  ... ss UserAddress, uint RequestIndex) constant returns(uint DL_No_S, string DL_No ...\n   |                                         ^^^^^^^^",
     "output_type": "error",
     "traceback": [
      "\u001b[0;31m---------------------------------------------------------------------------\u001b[0m",
      "\u001b[0;31mSolcError\u001b[0m                                 Traceback (most recent call last)",
      "Cell \u001b[0;32mIn [53], line 1\u001b[0m\n\u001b[0;32m----> 1\u001b[0m cs \u001b[38;5;241m=\u001b[39m compile_source(\n\u001b[1;32m      2\u001b[0m \u001b[38;5;124;03m'''\u001b[39;00m\n\u001b[1;32m      3\u001b[0m \u001b[38;5;124;03mpragma solidity >0.4.0;\u001b[39;00m\n\u001b[1;32m      4\u001b[0m \n\u001b[1;32m      5\u001b[0m \u001b[38;5;124;03mcontract IdentityManagement\u001b[39;00m\n\u001b[1;32m      6\u001b[0m \u001b[38;5;124;03m{\u001b[39;00m\n\u001b[1;32m      7\u001b[0m \n\u001b[1;32m      8\u001b[0m \u001b[38;5;124;03m    address ContractOwner;\u001b[39;00m\n\u001b[1;32m      9\u001b[0m \u001b[38;5;124;03m    \u001b[39;00m\n\u001b[1;32m     10\u001b[0m \u001b[38;5;124;03m    function IdentityManagement() {\u001b[39;00m\n\u001b[1;32m     11\u001b[0m \u001b[38;5;124;03m        ContractOwner = msg.sender;\u001b[39;00m\n\u001b[1;32m     12\u001b[0m \u001b[38;5;124;03m    }\u001b[39;00m\n\u001b[1;32m     13\u001b[0m \n\u001b[1;32m     14\u001b[0m \u001b[38;5;124;03m    struct UserInfo{\u001b[39;00m\n\u001b[1;32m     15\u001b[0m \u001b[38;5;124;03m\t\tstring FullName;\u001b[39;00m\n\u001b[1;32m     16\u001b[0m \u001b[38;5;124;03m\t\tstring EmailID;\u001b[39;00m\n\u001b[1;32m     17\u001b[0m \u001b[38;5;124;03m\t\tuint MobileNo;\u001b[39;00m\n\u001b[1;32m     18\u001b[0m \u001b[38;5;124;03m    }\u001b[39;00m\n\u001b[1;32m     19\u001b[0m \u001b[38;5;124;03m    \u001b[39;00m\n\u001b[1;32m     20\u001b[0m \u001b[38;5;124;03m    struct UserDL{\u001b[39;00m\n\u001b[1;32m     21\u001b[0m \u001b[38;5;124;03m\t\tstring DL_No;\u001b[39;00m\n\u001b[1;32m     22\u001b[0m \u001b[38;5;124;03m\t\tstring DL_Name;\u001b[39;00m\n\u001b[1;32m     23\u001b[0m \u001b[38;5;124;03m\t\tstring DL_DOB;\u001b[39;00m\n\u001b[1;32m     24\u001b[0m \u001b[38;5;124;03m\t\tbytes DL_Hash;\u001b[39;00m\n\u001b[1;32m     25\u001b[0m \u001b[38;5;124;03m\t\tstring DL_Address;\u001b[39;00m\n\u001b[1;32m     26\u001b[0m \u001b[38;5;124;03m    }\u001b[39;00m\n\u001b[1;32m     27\u001b[0m \n\u001b[1;32m     28\u001b[0m \u001b[38;5;124;03m    struct DLRequest{\u001b[39;00m\n\u001b[1;32m     29\u001b[0m \u001b[38;5;124;03m\t\tstring RequestedBy;\u001b[39;00m\n\u001b[1;32m     30\u001b[0m \u001b[38;5;124;03m\t\tuint DL_No;\u001b[39;00m\n\u001b[1;32m     31\u001b[0m \u001b[38;5;124;03m\t\tuint DL_Name;\u001b[39;00m\n\u001b[1;32m     32\u001b[0m \u001b[38;5;124;03m\t\tuint DL_DOB;\u001b[39;00m\n\u001b[1;32m     33\u001b[0m \u001b[38;5;124;03m\t\tuint DL_Hash;\u001b[39;00m\n\u001b[1;32m     34\u001b[0m \u001b[38;5;124;03m\t\tuint DL_Address;\u001b[39;00m\n\u001b[1;32m     35\u001b[0m \u001b[38;5;124;03m\t\tuint DL_OverAll_Status;\u001b[39;00m\n\u001b[1;32m     36\u001b[0m \u001b[38;5;124;03m    }\u001b[39;00m\n\u001b[1;32m     37\u001b[0m \n\u001b[1;32m     38\u001b[0m \u001b[38;5;124;03m    /*\u001b[39;00m\n\u001b[1;32m     39\u001b[0m \u001b[38;5;124;03m            ApprovalStatus\u001b[39;00m\n\u001b[1;32m     40\u001b[0m \u001b[38;5;124;03m        -------------\u001b[39;00m\n\u001b[1;32m     41\u001b[0m \u001b[38;5;124;03m        0 --  default status\u001b[39;00m\n\u001b[1;32m     42\u001b[0m \u001b[38;5;124;03m        1 --  Requested\u001b[39;00m\n\u001b[1;32m     43\u001b[0m \u001b[38;5;124;03m        2 --  Approved\u001b[39;00m\n\u001b[1;32m     44\u001b[0m \u001b[38;5;124;03m        3 --  Rejected\u001b[39;00m\n\u001b[1;32m     45\u001b[0m \u001b[38;5;124;03m    */\u001b[39;00m\n\u001b[1;32m     46\u001b[0m \n\u001b[1;32m     47\u001b[0m \u001b[38;5;124;03m    mapping(address => UserInfo[]) UserMap;\u001b[39;00m\n\u001b[1;32m     48\u001b[0m \u001b[38;5;124;03m\tmapping(address => UserDL[]) UserDLMap;\u001b[39;00m\n\u001b[1;32m     49\u001b[0m \u001b[38;5;124;03m\tmapping(address => DLRequest[]) DLRequestMap;\u001b[39;00m\n\u001b[1;32m     50\u001b[0m \u001b[38;5;124;03m\t\u001b[39;00m\n\u001b[1;32m     51\u001b[0m \u001b[38;5;124;03m    function AddUser(address UserAddress,string FullName,string EmailID,uint MobileNo)\u001b[39;00m\n\u001b[1;32m     52\u001b[0m \u001b[38;5;124;03m    {\u001b[39;00m\n\u001b[1;32m     53\u001b[0m \u001b[38;5;124;03m        UserMap[UserAddress].push(UserInfo(FullName,EmailID,MobileNo));\u001b[39;00m\n\u001b[1;32m     54\u001b[0m \u001b[38;5;124;03m    }\u001b[39;00m\n\u001b[1;32m     55\u001b[0m \n\u001b[1;32m     56\u001b[0m \u001b[38;5;124;03m    function AddUserDL(address UserAddress,string DL_No, string DL_Name, string DL_DOB, bytes DL_Hash, string DL_Address)\u001b[39;00m\n\u001b[1;32m     57\u001b[0m \u001b[38;5;124;03m    {\u001b[39;00m\n\u001b[1;32m     58\u001b[0m \u001b[38;5;124;03m        UserDLMap[UserAddress].push(UserDL(DL_No, DL_Name, DL_DOB, DL_Hash, DL_Address));\u001b[39;00m\n\u001b[1;32m     59\u001b[0m \u001b[38;5;124;03m    }\u001b[39;00m\n\u001b[1;32m     60\u001b[0m \n\u001b[1;32m     61\u001b[0m \u001b[38;5;124;03m    function AddDLRequest(address UserAddress,string RequestedBy, uint DL_No, uint DL_Name, uint DL_DOB, uint DL_Hash, uint DL_Address, uint DL_OverAll_Status)\u001b[39;00m\n\u001b[1;32m     62\u001b[0m \u001b[38;5;124;03m    {\u001b[39;00m\n\u001b[1;32m     63\u001b[0m \u001b[38;5;124;03m        DLRequestMap[UserAddress].push(DLRequest(RequestedBy, DL_No, DL_Name, DL_DOB, DL_Hash, DL_Address, DL_OverAll_Status));\u001b[39;00m\n\u001b[1;32m     64\u001b[0m \u001b[38;5;124;03m    }\u001b[39;00m\n\u001b[1;32m     65\u001b[0m \n\u001b[1;32m     66\u001b[0m \u001b[38;5;124;03m    function ViewDLRequestLength(address UserAddress) constant returns(uint)\u001b[39;00m\n\u001b[1;32m     67\u001b[0m \u001b[38;5;124;03m    {\u001b[39;00m\n\u001b[1;32m     68\u001b[0m \u001b[38;5;124;03m        return DLRequestMap[UserAddress].length;\u001b[39;00m\n\u001b[1;32m     69\u001b[0m \u001b[38;5;124;03m    }\u001b[39;00m\n\u001b[1;32m     70\u001b[0m \n\u001b[1;32m     71\u001b[0m \u001b[38;5;124;03m    function ViewDLRequestHeader(address UserAddress, uint RequestIndex) constant returns(string RequestedBy, uint DL_OverAll_Status)\u001b[39;00m\n\u001b[1;32m     72\u001b[0m \u001b[38;5;124;03m    {\u001b[39;00m\n\u001b[1;32m     73\u001b[0m \u001b[38;5;124;03m        DLRequest ThisDLRequest=DLRequestMap[UserAddress][RequestIndex];\u001b[39;00m\n\u001b[1;32m     74\u001b[0m \u001b[38;5;124;03m        return (ThisDLRequest.RequestedBy, ThisDLRequest.DL_OverAll_Status);\u001b[39;00m\n\u001b[1;32m     75\u001b[0m \u001b[38;5;124;03m    }\u001b[39;00m\n\u001b[1;32m     76\u001b[0m \u001b[38;5;124;03m\t\u001b[39;00m\n\u001b[1;32m     77\u001b[0m \u001b[38;5;124;03m    function ViewDLRequestDetail(address UserAddress, uint RequestIndex) constant returns(string RequestedBy, uint DL_No, uint DL_Name, uint DL_DOB, uint DL_Hash, uint DL_Address, uint DL_OverAll_Status)\u001b[39;00m\n\u001b[1;32m     78\u001b[0m \u001b[38;5;124;03m    {\u001b[39;00m\n\u001b[1;32m     79\u001b[0m \u001b[38;5;124;03m        DLRequest ThisDLRequest=DLRequestMap[UserAddress][RequestIndex];\u001b[39;00m\n\u001b[1;32m     80\u001b[0m \u001b[38;5;124;03m        return (ThisDLRequest.RequestedBy, ThisDLRequest.DL_No, ThisDLRequest.DL_Name, ThisDLRequest.DL_DOB, ThisDLRequest.DL_Hash, ThisDLRequest.DL_Address, ThisDLRequest.DL_OverAll_Status);\u001b[39;00m\n\u001b[1;32m     81\u001b[0m \u001b[38;5;124;03m    }\u001b[39;00m\n\u001b[1;32m     82\u001b[0m \n\u001b[1;32m     83\u001b[0m \u001b[38;5;124;03m    function UpdateRequestStatus(address UserAddress, uint RequestIndex, uint DL_No, uint DL_Name, uint DL_DOB, uint DL_Hash, uint DL_Address, uint DL_OverAll_Status)\u001b[39;00m\n\u001b[1;32m     84\u001b[0m \u001b[38;5;124;03m    {\u001b[39;00m\n\u001b[1;32m     85\u001b[0m \u001b[38;5;124;03m        DLRequestMap[UserAddress][RequestIndex].DL_No=DL_No;\u001b[39;00m\n\u001b[1;32m     86\u001b[0m \u001b[38;5;124;03m\t\tDLRequestMap[UserAddress][RequestIndex].DL_Name=DL_Name;\u001b[39;00m\n\u001b[1;32m     87\u001b[0m \u001b[38;5;124;03m\t\tDLRequestMap[UserAddress][RequestIndex].DL_DOB=DL_DOB;\u001b[39;00m\n\u001b[1;32m     88\u001b[0m \u001b[38;5;124;03m\t\tDLRequestMap[UserAddress][RequestIndex].DL_Hash=DL_Hash;\u001b[39;00m\n\u001b[1;32m     89\u001b[0m \u001b[38;5;124;03m\t\tDLRequestMap[UserAddress][RequestIndex].DL_Address=DL_Address;\u001b[39;00m\n\u001b[1;32m     90\u001b[0m \u001b[38;5;124;03m\t\tDLRequestMap[UserAddress][RequestIndex].DL_OverAll_Status=DL_OverAll_Status;\u001b[39;00m\n\u001b[1;32m     91\u001b[0m \u001b[38;5;124;03m    }\u001b[39;00m\n\u001b[1;32m     92\u001b[0m \n\u001b[1;32m     93\u001b[0m \u001b[38;5;124;03m    function viewUser(address UserAddress, uint UserIndex) constant returns(string FullName,string EmailID,uint MobileNo)\u001b[39;00m\n\u001b[1;32m     94\u001b[0m \u001b[38;5;124;03m    {\u001b[39;00m\n\u001b[1;32m     95\u001b[0m \u001b[38;5;124;03m        UserInfo ThisUser=UserMap[UserAddress][UserIndex];\u001b[39;00m\n\u001b[1;32m     96\u001b[0m \u001b[38;5;124;03m        return (ThisUser.FullName, ThisUser.EmailID, ThisUser.MobileNo);\u001b[39;00m\n\u001b[1;32m     97\u001b[0m \u001b[38;5;124;03m    }\u001b[39;00m\n\u001b[1;32m     98\u001b[0m \n\u001b[1;32m     99\u001b[0m \u001b[38;5;124;03m    function viewUserDL(address UserAddress, uint RequestIndex) constant returns(uint DL_No_S, string DL_No_V, uint DL_Name_S, string DL_Name_V, uint DL_DOB_S, string DL_DOB_V, uint DL_Hash_S, bytes DL_Hash_V, uint DL_Address_S, string DL_Address_V)\u001b[39;00m\n\u001b[1;32m    100\u001b[0m \u001b[38;5;124;03m    {\u001b[39;00m\n\u001b[1;32m    101\u001b[0m \u001b[38;5;124;03m        UserDL ThisUserDL=UserDLMap[UserAddress][0];\u001b[39;00m\n\u001b[1;32m    102\u001b[0m \u001b[38;5;124;03m\t\tDLRequest ThisDLRequest=DLRequestMap[UserAddress][RequestIndex];\u001b[39;00m\n\u001b[1;32m    103\u001b[0m \u001b[38;5;124;03m        return (ThisDLRequest.DL_No, ThisUserDL.DL_No, ThisDLRequest.DL_Name, ThisUserDL.DL_Name, ThisDLRequest.DL_DOB, ThisUserDL.DL_DOB, ThisDLRequest.DL_Hash, ThisUserDL.DL_Hash, ThisDLRequest.DL_Address, ThisUserDL.DL_Address);\u001b[39;00m\n\u001b[1;32m    104\u001b[0m \u001b[38;5;124;03m    }\u001b[39;00m\n\u001b[1;32m    105\u001b[0m \n\u001b[1;32m    106\u001b[0m \u001b[38;5;124;03m}\u001b[39;00m\n\u001b[1;32m    107\u001b[0m \u001b[38;5;124;03m'''\u001b[39;00m, output_values\u001b[38;5;241m=\u001b[39m[\u001b[38;5;124m'\u001b[39m\u001b[38;5;124mabi\u001b[39m\u001b[38;5;124m'\u001b[39m,\u001b[38;5;124m'\u001b[39m\u001b[38;5;124mbin\u001b[39m\u001b[38;5;124m'\u001b[39m]\n\u001b[1;32m    108\u001b[0m \n\u001b[1;32m    109\u001b[0m )\n",
      "File \u001b[0;32m/Library/Frameworks/Python.framework/Versions/3.9/lib/python3.9/site-packages/solcx/main.py:112\u001b[0m, in \u001b[0;36mcompile_source\u001b[0;34m(source, output_values, import_remappings, base_path, allow_paths, output_dir, overwrite, evm_version, revert_strings, metadata_hash, metadata_literal, optimize, optimize_runs, optimize_yul, no_optimize_yul, yul_optimizations, solc_binary, solc_version, allow_empty)\u001b[0m\n\u001b[1;32m     30\u001b[0m \u001b[38;5;28;01mdef\u001b[39;00m \u001b[38;5;21mcompile_source\u001b[39m(\n\u001b[1;32m     31\u001b[0m     source: \u001b[38;5;28mstr\u001b[39m,\n\u001b[1;32m     32\u001b[0m     output_values: List \u001b[38;5;241m=\u001b[39m \u001b[38;5;28;01mNone\u001b[39;00m,\n\u001b[0;32m   (...)\u001b[0m\n\u001b[1;32m     49\u001b[0m     allow_empty: \u001b[38;5;28mbool\u001b[39m \u001b[38;5;241m=\u001b[39m \u001b[38;5;28;01mFalse\u001b[39;00m,\n\u001b[1;32m     50\u001b[0m ) \u001b[38;5;241m-\u001b[39m\u001b[38;5;241m>\u001b[39m Dict:\n\u001b[1;32m     51\u001b[0m     \u001b[38;5;124;03m\"\"\"\u001b[39;00m\n\u001b[1;32m     52\u001b[0m \u001b[38;5;124;03m    Compile a Solidity contract.\u001b[39;00m\n\u001b[1;32m     53\u001b[0m \n\u001b[0;32m   (...)\u001b[0m\n\u001b[1;32m    110\u001b[0m \u001b[38;5;124;03m        Compiler output. The source file name is given as `<stdin>`.\u001b[39;00m\n\u001b[1;32m    111\u001b[0m \u001b[38;5;124;03m    \"\"\"\u001b[39;00m\n\u001b[0;32m--> 112\u001b[0m     \u001b[38;5;28;01mreturn\u001b[39;00m \u001b[43m_compile_combined_json\u001b[49m\u001b[43m(\u001b[49m\n\u001b[1;32m    113\u001b[0m \u001b[43m        \u001b[49m\u001b[43msolc_binary\u001b[49m\u001b[38;5;241;43m=\u001b[39;49m\u001b[43msolc_binary\u001b[49m\u001b[43m,\u001b[49m\n\u001b[1;32m    114\u001b[0m \u001b[43m        \u001b[49m\u001b[43msolc_version\u001b[49m\u001b[38;5;241;43m=\u001b[39;49m\u001b[43msolc_version\u001b[49m\u001b[43m,\u001b[49m\n\u001b[1;32m    115\u001b[0m \u001b[43m        \u001b[49m\u001b[43mstdin\u001b[49m\u001b[38;5;241;43m=\u001b[39;49m\u001b[43msource\u001b[49m\u001b[43m,\u001b[49m\n\u001b[1;32m    116\u001b[0m \u001b[43m        \u001b[49m\u001b[43moutput_values\u001b[49m\u001b[38;5;241;43m=\u001b[39;49m\u001b[43moutput_values\u001b[49m\u001b[43m,\u001b[49m\n\u001b[1;32m    117\u001b[0m \u001b[43m        \u001b[49m\u001b[43mimport_remappings\u001b[49m\u001b[38;5;241;43m=\u001b[39;49m\u001b[43mimport_remappings\u001b[49m\u001b[43m,\u001b[49m\n\u001b[1;32m    118\u001b[0m \u001b[43m        \u001b[49m\u001b[43mbase_path\u001b[49m\u001b[38;5;241;43m=\u001b[39;49m\u001b[43mbase_path\u001b[49m\u001b[43m,\u001b[49m\n\u001b[1;32m    119\u001b[0m \u001b[43m        \u001b[49m\u001b[43mallow_paths\u001b[49m\u001b[38;5;241;43m=\u001b[39;49m\u001b[43mallow_paths\u001b[49m\u001b[43m,\u001b[49m\n\u001b[1;32m    120\u001b[0m \u001b[43m        \u001b[49m\u001b[43moutput_dir\u001b[49m\u001b[38;5;241;43m=\u001b[39;49m\u001b[43moutput_dir\u001b[49m\u001b[43m,\u001b[49m\n\u001b[1;32m    121\u001b[0m \u001b[43m        \u001b[49m\u001b[43moverwrite\u001b[49m\u001b[38;5;241;43m=\u001b[39;49m\u001b[43moverwrite\u001b[49m\u001b[43m,\u001b[49m\n\u001b[1;32m    122\u001b[0m \u001b[43m        \u001b[49m\u001b[43mevm_version\u001b[49m\u001b[38;5;241;43m=\u001b[39;49m\u001b[43mevm_version\u001b[49m\u001b[43m,\u001b[49m\n\u001b[1;32m    123\u001b[0m \u001b[43m        \u001b[49m\u001b[43mrevert_strings\u001b[49m\u001b[38;5;241;43m=\u001b[39;49m\u001b[43mrevert_strings\u001b[49m\u001b[43m,\u001b[49m\n\u001b[1;32m    124\u001b[0m \u001b[43m        \u001b[49m\u001b[43mmetadata_hash\u001b[49m\u001b[38;5;241;43m=\u001b[39;49m\u001b[43mmetadata_hash\u001b[49m\u001b[43m,\u001b[49m\n\u001b[1;32m    125\u001b[0m \u001b[43m        \u001b[49m\u001b[43mmetadata_literal\u001b[49m\u001b[38;5;241;43m=\u001b[39;49m\u001b[43mmetadata_literal\u001b[49m\u001b[43m,\u001b[49m\n\u001b[1;32m    126\u001b[0m \u001b[43m        \u001b[49m\u001b[43moptimize\u001b[49m\u001b[38;5;241;43m=\u001b[39;49m\u001b[43moptimize\u001b[49m\u001b[43m,\u001b[49m\n\u001b[1;32m    127\u001b[0m \u001b[43m        \u001b[49m\u001b[43moptimize_runs\u001b[49m\u001b[38;5;241;43m=\u001b[39;49m\u001b[43moptimize_runs\u001b[49m\u001b[43m,\u001b[49m\n\u001b[1;32m    128\u001b[0m \u001b[43m        \u001b[49m\u001b[43mno_optimize_yul\u001b[49m\u001b[38;5;241;43m=\u001b[39;49m\u001b[43mno_optimize_yul\u001b[49m\u001b[43m,\u001b[49m\n\u001b[1;32m    129\u001b[0m \u001b[43m        \u001b[49m\u001b[43myul_optimizations\u001b[49m\u001b[38;5;241;43m=\u001b[39;49m\u001b[43myul_optimizations\u001b[49m\u001b[43m,\u001b[49m\n\u001b[1;32m    130\u001b[0m \u001b[43m        \u001b[49m\u001b[43mallow_empty\u001b[49m\u001b[38;5;241;43m=\u001b[39;49m\u001b[43mallow_empty\u001b[49m\u001b[43m,\u001b[49m\n\u001b[1;32m    131\u001b[0m \u001b[43m    \u001b[49m\u001b[43m)\u001b[49m\n",
      "File \u001b[0;32m/Library/Frameworks/Python.framework/Versions/3.9/lib/python3.9/site-packages/solcx/main.py:291\u001b[0m, in \u001b[0;36m_compile_combined_json\u001b[0;34m(output_values, solc_binary, solc_version, output_dir, overwrite, allow_empty, **kwargs)\u001b[0m\n\u001b[1;32m    286\u001b[0m         target_path \u001b[38;5;241m=\u001b[39m output_dir\u001b[38;5;241m.\u001b[39mjoinpath(\u001b[38;5;124m\"\u001b[39m\u001b[38;5;124mcombined.json\u001b[39m\u001b[38;5;124m\"\u001b[39m)\n\u001b[1;32m    287\u001b[0m         \u001b[38;5;28;01mraise\u001b[39;00m \u001b[38;5;167;01mFileExistsError\u001b[39;00m(\n\u001b[1;32m    288\u001b[0m             \u001b[38;5;124mf\u001b[39m\u001b[38;5;124m\"\u001b[39m\u001b[38;5;124mTarget output file \u001b[39m\u001b[38;5;132;01m{\u001b[39;00mtarget_path\u001b[38;5;132;01m}\u001b[39;00m\u001b[38;5;124m already exists - use overwrite=True to overwrite\u001b[39m\u001b[38;5;124m\"\u001b[39m\n\u001b[1;32m    289\u001b[0m         )\n\u001b[0;32m--> 291\u001b[0m stdoutdata, stderrdata, command, proc \u001b[38;5;241m=\u001b[39m \u001b[43mwrapper\u001b[49m\u001b[38;5;241;43m.\u001b[39;49m\u001b[43msolc_wrapper\u001b[49m\u001b[43m(\u001b[49m\n\u001b[1;32m    292\u001b[0m \u001b[43m    \u001b[49m\u001b[43msolc_binary\u001b[49m\u001b[38;5;241;43m=\u001b[39;49m\u001b[43msolc_binary\u001b[49m\u001b[43m,\u001b[49m\n\u001b[1;32m    293\u001b[0m \u001b[43m    \u001b[49m\u001b[43mcombined_json\u001b[49m\u001b[38;5;241;43m=\u001b[39;49m\u001b[43mcombined_json\u001b[49m\u001b[43m,\u001b[49m\n\u001b[1;32m    294\u001b[0m \u001b[43m    \u001b[49m\u001b[43moutput_dir\u001b[49m\u001b[38;5;241;43m=\u001b[39;49m\u001b[43moutput_dir\u001b[49m\u001b[43m,\u001b[49m\n\u001b[1;32m    295\u001b[0m \u001b[43m    \u001b[49m\u001b[43moverwrite\u001b[49m\u001b[38;5;241;43m=\u001b[39;49m\u001b[43moverwrite\u001b[49m\u001b[43m,\u001b[49m\n\u001b[1;32m    296\u001b[0m \u001b[43m    \u001b[49m\u001b[38;5;241;43m*\u001b[39;49m\u001b[38;5;241;43m*\u001b[39;49m\u001b[43mkwargs\u001b[49m\u001b[43m,\u001b[49m\n\u001b[1;32m    297\u001b[0m \u001b[43m\u001b[49m\u001b[43m)\u001b[49m\n\u001b[1;32m    299\u001b[0m \u001b[38;5;28;01mif\u001b[39;00m output_dir:\n\u001b[1;32m    300\u001b[0m     output_path \u001b[38;5;241m=\u001b[39m Path(output_dir)\u001b[38;5;241m.\u001b[39mjoinpath(\u001b[38;5;124m\"\u001b[39m\u001b[38;5;124mcombined.json\u001b[39m\u001b[38;5;124m\"\u001b[39m)\n",
      "File \u001b[0;32m/Library/Frameworks/Python.framework/Versions/3.9/lib/python3.9/site-packages/solcx/wrapper.py:158\u001b[0m, in \u001b[0;36msolc_wrapper\u001b[0;34m(solc_binary, stdin, source_files, import_remappings, success_return_code, **kwargs)\u001b[0m\n\u001b[1;32m    153\u001b[0m         flag \u001b[38;5;241m=\u001b[39m flag\u001b[38;5;241m.\u001b[39msplit(\u001b[38;5;124m\"\u001b[39m\u001b[38;5;124m \u001b[39m\u001b[38;5;124m\"\u001b[39m)[\u001b[38;5;241m-\u001b[39m\u001b[38;5;241m1\u001b[39m]\n\u001b[1;32m    154\u001b[0m         \u001b[38;5;28;01mraise\u001b[39;00m UnknownValue(\n\u001b[1;32m    155\u001b[0m             \u001b[38;5;124mf\u001b[39m\u001b[38;5;124m\"\u001b[39m\u001b[38;5;124msolc \u001b[39m\u001b[38;5;132;01m{\u001b[39;00msolc_version\u001b[38;5;132;01m}\u001b[39;00m\u001b[38;5;124m does not accept \u001b[39m\u001b[38;5;124m'\u001b[39m\u001b[38;5;132;01m{\u001b[39;00moption\u001b[38;5;132;01m}\u001b[39;00m\u001b[38;5;124m'\u001b[39m\u001b[38;5;124m as an option for the \u001b[39m\u001b[38;5;124m'\u001b[39m\u001b[38;5;132;01m{\u001b[39;00mflag\u001b[38;5;132;01m}\u001b[39;00m\u001b[38;5;124m'\u001b[39m\u001b[38;5;124m flag\u001b[39m\u001b[38;5;124m\"\u001b[39m\n\u001b[1;32m    156\u001b[0m         )\n\u001b[0;32m--> 158\u001b[0m     \u001b[38;5;28;01mraise\u001b[39;00m SolcError(\n\u001b[1;32m    159\u001b[0m         command\u001b[38;5;241m=\u001b[39mcommand,\n\u001b[1;32m    160\u001b[0m         return_code\u001b[38;5;241m=\u001b[39mproc\u001b[38;5;241m.\u001b[39mreturncode,\n\u001b[1;32m    161\u001b[0m         stdin_data\u001b[38;5;241m=\u001b[39mstdin,\n\u001b[1;32m    162\u001b[0m         stdout_data\u001b[38;5;241m=\u001b[39mstdoutdata,\n\u001b[1;32m    163\u001b[0m         stderr_data\u001b[38;5;241m=\u001b[39mstderrdata,\n\u001b[1;32m    164\u001b[0m     )\n\u001b[1;32m    166\u001b[0m \u001b[38;5;28;01mreturn\u001b[39;00m stdoutdata, stderrdata, command, proc\n",
      "\u001b[0;31mSolcError\u001b[0m: An error occurred during execution\n> command: `/Users/dipenbhuva/.solcx/solc-v0.6.0 --combined-json abi,bin -`\n> return code: `1`\n> stdout:\n\n> stderr:\nError: The state mutability modifier \"constant\" was removed in version 0.5.0. Use \"view\" or \"pure\" instead.\n  --> <stdin>:65:55:\n   |\n65 |     function ViewDLRequestLength(address UserAddress) constant returns(uint)\n   |                                                       ^^^^^^^^\n\nError: The state mutability modifier \"constant\" was removed in version 0.5.0. Use \"view\" or \"pure\" instead.\n  --> <stdin>:70:74:\n   |\n70 |     function ViewDLRequestHeader(address UserAddress, uint RequestIndex) constant returns(string RequestedBy, uint DL_OverAll_Status)\n   |                                                                          ^^^^^^^^\n\nError: The state mutability modifier \"constant\" was removed in version 0.5.0. Use \"view\" or \"pure\" instead.\n  --> <stdin>:76:74:\n   |\n76 |  ... ss UserAddress, uint RequestIndex) constant returns(string RequestedBy, uint D ...\n   |                                         ^^^^^^^^\n\nError: The state mutability modifier \"constant\" was removed in version 0.5.0. Use \"view\" or \"pure\" instead.\n  --> <stdin>:92:60:\n   |\n92 |     function viewUser(address UserAddress, uint UserIndex) constant returns(string FullName,string EmailID,uint MobileNo)\n   |                                                            ^^^^^^^^\n\nError: The state mutability modifier \"constant\" was removed in version 0.5.0. Use \"view\" or \"pure\" instead.\n  --> <stdin>:98:65:\n   |\n98 |  ... ss UserAddress, uint RequestIndex) constant returns(uint DL_No_S, string DL_No ...\n   |                                         ^^^^^^^^"
     ]
    }
   ],
   "source": [
    "cs = compile_source(\n",
    "'''\n",
    "pragma solidity >0.4.25;\n",
    "\n",
    "contract Bank\n",
    "{\n",
    "    uint256 public bal = 10;\n",
    "    uint256 public balance = 100;\n",
    "\n",
    "    \n",
    "    function getBalance() view public returns(uint256)\n",
    "    {\n",
    "\n",
    "        return bal;\n",
    "       \n",
    "    }\n",
    "\n",
    "    function withdraw(uint256 amt) public\n",
    "    {\n",
    "        bal = bal - amt;\n",
    "\n",
    "    }\n",
    "\n",
    "     function deposit(uint256 amt) public\n",
    "    {\n",
    "        bal = bal + amt;\n",
    "\n",
    "    }\n",
    "\n",
    "    function sayHello() view public returns(string memory newName)\n",
    "    {\n",
    "    newName = \"hello\";\n",
    "    }\n",
    "}\n",
    "\n",
    "''', output_values=['abi','bin']\n",
    "\n",
    ")"
   ]
  },
  {
   "cell_type": "code",
   "execution_count": 7,
   "id": "cbd5c4c0",
   "metadata": {},
   "outputs": [],
   "source": [
    "contract_id, contract_interface = cs.popitem()"
   ]
  },
  {
   "cell_type": "code",
   "execution_count": 8,
   "id": "9c01143d",
   "metadata": {},
   "outputs": [
    {
     "name": "stdout",
     "output_type": "stream",
     "text": [
      "<stdin>:Bank\n"
     ]
    }
   ],
   "source": [
    "print(contract_id)"
   ]
  },
  {
   "cell_type": "code",
   "execution_count": 18,
   "id": "409be459",
   "metadata": {
    "scrolled": true
   },
   "outputs": [
    {
     "name": "stdout",
     "output_type": "stream",
     "text": [
      "6080604052600a600055606460015534801561001a57600080fd5b506102448061002a6000396000f3fe608060405234801561001057600080fd5b50600436106100625760003560e01c806312065fe0146100675780632e1a7d4d146100855780633d79d1c8146100b3578063b69ef8a8146100d1578063b6b55f25146100ef578063ef5fb05b1461011d575b600080fd5b61006f6101a0565b6040518082815260200191505060405180910390f35b6100b16004803603602081101561009b57600080fd5b81019080803590602001909291905050506101a9565b005b6100bb6101b7565b6040518082815260200191505060405180910390f35b6100d96101bd565b6040518082815260200191505060405180910390f35b61011b6004803603602081101561010557600080fd5b81019080803590602001909291905050506101c3565b005b6101256101d1565b6040518080602001828103825283818151815260200191508051906020019080838360005b8381101561016557808201518184015260208101905061014a565b50505050905090810190601f1680156101925780820380516001836020036101000a031916815260200191505b509250505060405180910390f35b60008054905090565b806000540360008190555050565b60005481565b60015481565b806000540160008190555050565b60606040518060400160405280600581526020017f68656c6c6f00000000000000000000000000000000000000000000000000000081525090509056fea26469706673582212205ed3cfdbd6ea3b90d73d01b812076ba805e69a72e94de7113f3a83c12997547364736f6c63430006000033\n"
     ]
    }
   ],
   "source": [
    "print(contract_interface['bin'])"
   ]
  },
  {
   "cell_type": "code",
   "execution_count": null,
   "id": "0fa98c35",
   "metadata": {},
   "outputs": [],
   "source": [
    "## Deploying Contract to LocalHost Blockchain"
   ]
  },
  {
   "cell_type": "code",
   "execution_count": 20,
   "id": "0cd01499",
   "metadata": {},
   "outputs": [
    {
     "name": "stdout",
     "output_type": "stream",
     "text": [
      "<class 'web3._utils.datatypes.Contract'>\n"
     ]
    }
   ],
   "source": [
    "from web3 import Web3\n",
    "w3 = Web3(Web3.HTTPProvider('http://127.0.0.1:7545'))\n",
    "w3.isConnected()\n",
    "w3.eth.default_account = w3.eth.accounts[0]\n",
    "abi = contract_interface['abi']\n",
    "bytecode = contract_interface['bin']\n",
    "Bank = w3.eth.contract(abi=abi, bytecode = bytecode)\n",
    "print(Bank)"
   ]
  },
  {
   "cell_type": "code",
   "execution_count": 21,
   "id": "36398827",
   "metadata": {},
   "outputs": [
    {
     "name": "stdout",
     "output_type": "stream",
     "text": [
      "b'\\xca\\xd9gI\\x01\\x8a\\x14\\xde\\xe0\\xb4\\xa3\\x03k\\xeep\\xee4\\x10\\x82\\xcc\\x92\\xaa\\xcb\\xd9\\ro\\xde\\xa8eO\\x02\\xf8'\n"
     ]
    }
   ],
   "source": [
    "transcation_Hash = Bank.constructor().transact()\n",
    "print(transcation_Hash)"
   ]
  },
  {
   "cell_type": "markdown",
   "id": "597f208f",
   "metadata": {},
   "source": [
    "transcation_receipt = w3.eth.wait_for_transaction_receipt(transcation_Hash)\n",
    "print(transcation_receipt)"
   ]
  },
  {
   "cell_type": "code",
   "execution_count": null,
   "id": "5710f377",
   "metadata": {},
   "outputs": [],
   "source": [
    "##Calling Function To Print Values"
   ]
  },
  {
   "cell_type": "code",
   "execution_count": 31,
   "id": "82e0ecc9",
   "metadata": {},
   "outputs": [],
   "source": [
    "Bankcontract = w3.eth.contract(address = transcation_receipt.contractAddress, abi=abi)"
   ]
  },
  {
   "cell_type": "code",
   "execution_count": 42,
   "id": "497dd524",
   "metadata": {},
   "outputs": [
    {
     "data": {
      "text/plain": [
       "110"
      ]
     },
     "execution_count": 42,
     "metadata": {},
     "output_type": "execute_result"
    }
   ],
   "source": [
    "Bankcontract.functions.getBalance().call()"
   ]
  },
  {
   "cell_type": "code",
   "execution_count": null,
   "id": "cc7bf5a1",
   "metadata": {},
   "outputs": [],
   "source": [
    "##Doing Transcation with Deposit Call Function"
   ]
  },
  {
   "cell_type": "code",
   "execution_count": 41,
   "id": "231f1e24",
   "metadata": {},
   "outputs": [
    {
     "name": "stdout",
     "output_type": "stream",
     "text": [
      "b\"\\xefm\\xec\\x93\\x8c\\xfbl\\x937\\xfc\\x8e\\xa9\\xa3\\xce2+&kE\\xbdtr\\x84\\xdb\\x16H.\\x04\\xc1'\\x02\\x88\"\n",
      "AttributeDict({'transactionHash': HexBytes('0xef6dec938cfb6c9337fc8ea9a3ce322b266b45bd747284db16482e04c1270288'), 'transactionIndex': 0, 'blockNumber': 4, 'blockHash': HexBytes('0x93d3588ba8d65c19077b3f26acb8c9c3fdeaa5814fe2d28e560378f35a04f956'), 'from': '0x85BF50788c3f3b3dF633F069057E82519a515629', 'to': '0x70fB2ac1E235aDfeE882C064FBC9799bF9E6a185', 'cumulativeGasUsed': 26518, 'gasUsed': 26518, 'contractAddress': None, 'logs': [], 'logsBloom': HexBytes('0x00000000000000000000000000000000000000000000000000000000000000000000000000000000000000000000000000000000000000000000000000000000000000000000000000000000000000000000000000000000000000000000000000000000000000000000000000000000000000000000000000000000000000000000000000000000000000000000000000000000000000000000000000000000000000000000000000000000000000000000000000000000000000000000000000000000000000000000000000000000000000000000000000000000000000000000000000000000000000000000000000000000000000000000000000000000'), 'status': 1, 'effectiveGasPrice': 750591730, 'type': '0x2'})\n"
     ]
    }
   ],
   "source": [
    "deposit_Hash = Bankcontract.functions.deposit(100).transact()\n",
    "print(deposit_Hash)\n",
    "deposit_receipt = w3.eth.wait_for_transaction_receipt(deposit_Hash)\n",
    "print(deposit_receipt)"
   ]
  },
  {
   "cell_type": "code",
   "execution_count": null,
   "id": "963a2fe8",
   "metadata": {},
   "outputs": [],
   "source": [
    "##Doing Transcation with withdraw Call Function"
   ]
  },
  {
   "cell_type": "code",
   "execution_count": 39,
   "id": "ce1465e8",
   "metadata": {},
   "outputs": [
    {
     "name": "stdout",
     "output_type": "stream",
     "text": [
      "b'+,Gt^E\\x8f\\xcc\\xdf\\x14\\xc6\\xd1\\xd7[\\x10\\tm\\x9d\\xca\\xb5\\xdf\\xfd\\x0bx\\xfc\\xc3\\xfe\\xf7\\x96\\x9e\\xc7\\xb4'\n",
      "AttributeDict({'transactionHash': HexBytes('0xc0a1b32f2d015e5b665071bc5ef396808fb2e18f0f36514987a1bcdcffddce0c'), 'transactionIndex': 0, 'blockNumber': 3, 'blockHash': HexBytes('0x3ce0436ff34c9c1696e19db455de2aaa6302bc4002687bd36aecec8cf3332a7a'), 'from': '0x85BF50788c3f3b3dF633F069057E82519a515629', 'to': '0x70fB2ac1E235aDfeE882C064FBC9799bF9E6a185', 'cumulativeGasUsed': 26452, 'gasUsed': 26452, 'contractAddress': None, 'logs': [], 'logsBloom': HexBytes('0x00000000000000000000000000000000000000000000000000000000000000000000000000000000000000000000000000000000000000000000000000000000000000000000000000000000000000000000000000000000000000000000000000000000000000000000000000000000000000000000000000000000000000000000000000000000000000000000000000000000000000000000000000000000000000000000000000000000000000000000000000000000000000000000000000000000000000000000000000000000000000000000000000000000000000000000000000000000000000000000000000000000000000000000000000000000'), 'status': 1, 'effectiveGasPrice': 856855731, 'type': '0x2'})\n"
     ]
    }
   ],
   "source": [
    "withdraw_Hash = Bankcontract.functions.withdraw(100).transact()\n",
    "print(deposit_Hash)\n",
    "withdraw_receipt = w3.eth.wait_for_transaction_receipt(withdraw_Hash)\n",
    "print(withdraw_receipt)"
   ]
  },
  {
   "cell_type": "code",
   "execution_count": null,
   "id": "13169075",
   "metadata": {},
   "outputs": [],
   "source": [
    "## Compiling IAM Contract  "
   ]
  },
  {
   "cell_type": "code",
   "execution_count": 2,
   "id": "a7f8f9df",
   "metadata": {},
   "outputs": [],
   "source": [
    "from solcx import compile_source"
   ]
  },
  {
   "cell_type": "code",
   "execution_count": 5,
   "id": "7aa27a5a",
   "metadata": {},
   "outputs": [
    {
     "ename": "SolcError",
     "evalue": "An error occurred during execution\n> command: `/Users/dipenbhuva/.solcx/solc-v0.6.0 --combined-json abi,bin -`\n> return code: `1`\n> stdout:\n\n> stderr:\nError: No visibility specified. Did you intend to add \"public\"?\n  --> <stdin>:16:5:\n   |\n16 |     constructor() {\n   |     ^ (Relevant source part starts here and spans across multiple lines).",
     "output_type": "error",
     "traceback": [
      "\u001b[0;31m---------------------------------------------------------------------------\u001b[0m",
      "\u001b[0;31mSolcError\u001b[0m                                 Traceback (most recent call last)",
      "Cell \u001b[0;32mIn [5], line 1\u001b[0m\n\u001b[0;32m----> 1\u001b[0m cs \u001b[38;5;241m=\u001b[39m compile_source(\n\u001b[1;32m      2\u001b[0m \u001b[38;5;124;03m'''\u001b[39;00m\n\u001b[1;32m      3\u001b[0m \u001b[38;5;124;03mpragma solidity >0.4.0;\u001b[39;00m\n\u001b[1;32m      4\u001b[0m \n\u001b[1;32m      5\u001b[0m \u001b[38;5;124;03mcontract IdentityAccessManagement {\u001b[39;00m\n\u001b[1;32m      6\u001b[0m \n\u001b[1;32m      7\u001b[0m \u001b[38;5;124;03m    // Mapping of user addresses to their roles\u001b[39;00m\n\u001b[1;32m      8\u001b[0m \u001b[38;5;124;03m    mapping(address => string) roles;\u001b[39;00m\n\u001b[1;32m      9\u001b[0m \n\u001b[1;32m     10\u001b[0m \u001b[38;5;124;03m    // Admin address\u001b[39;00m\n\u001b[1;32m     11\u001b[0m \u001b[38;5;124;03m    address public admin;\u001b[39;00m\n\u001b[1;32m     12\u001b[0m \n\u001b[1;32m     13\u001b[0m \u001b[38;5;124;03m    // Events for logging role changes\u001b[39;00m\n\u001b[1;32m     14\u001b[0m \u001b[38;5;124;03m    event RoleSet(address indexed user, string role);\u001b[39;00m\n\u001b[1;32m     15\u001b[0m \n\u001b[1;32m     16\u001b[0m \u001b[38;5;124;03m    // Constructor function sets the admin address\u001b[39;00m\n\u001b[1;32m     17\u001b[0m \u001b[38;5;124;03m    constructor() {\u001b[39;00m\n\u001b[1;32m     18\u001b[0m \u001b[38;5;124;03m        admin = msg.sender;\u001b[39;00m\n\u001b[1;32m     19\u001b[0m \u001b[38;5;124;03m    }\u001b[39;00m\n\u001b[1;32m     20\u001b[0m \n\u001b[1;32m     21\u001b[0m \u001b[38;5;124;03m    // Modifier that only allows the admin to perform a function\u001b[39;00m\n\u001b[1;32m     22\u001b[0m \u001b[38;5;124;03m    modifier onlyAdmin() {\u001b[39;00m\n\u001b[1;32m     23\u001b[0m \u001b[38;5;124;03m        require(msg.sender == admin, \"Only the admin can perform this action.\");\u001b[39;00m\n\u001b[1;32m     24\u001b[0m \u001b[38;5;124;03m        _;\u001b[39;00m\n\u001b[1;32m     25\u001b[0m \u001b[38;5;124;03m    }\u001b[39;00m\n\u001b[1;32m     26\u001b[0m \n\u001b[1;32m     27\u001b[0m \u001b[38;5;124;03m    // Function to set a user's role\u001b[39;00m\n\u001b[1;32m     28\u001b[0m \u001b[38;5;124;03m    function setRole(address user, string memory role) public onlyAdmin {\u001b[39;00m\n\u001b[1;32m     29\u001b[0m \u001b[38;5;124;03m        roles[user] = role;\u001b[39;00m\n\u001b[1;32m     30\u001b[0m \u001b[38;5;124;03m        emit RoleSet(user, role);\u001b[39;00m\n\u001b[1;32m     31\u001b[0m \u001b[38;5;124;03m    }\u001b[39;00m\n\u001b[1;32m     32\u001b[0m \n\u001b[1;32m     33\u001b[0m \u001b[38;5;124;03m    // Function to get a user's role\u001b[39;00m\n\u001b[1;32m     34\u001b[0m \u001b[38;5;124;03m    function getRole(address user) public view returns (string memory) {\u001b[39;00m\n\u001b[1;32m     35\u001b[0m \u001b[38;5;124;03m        return roles[user];\u001b[39;00m\n\u001b[1;32m     36\u001b[0m \u001b[38;5;124;03m    }\u001b[39;00m\n\u001b[1;32m     37\u001b[0m \n\u001b[1;32m     38\u001b[0m \u001b[38;5;124;03m}\u001b[39;00m\n\u001b[1;32m     39\u001b[0m \n\u001b[1;32m     40\u001b[0m \n\u001b[1;32m     41\u001b[0m \n\u001b[1;32m     42\u001b[0m \u001b[38;5;124;03m'''\u001b[39;00m, output_values\u001b[38;5;241m=\u001b[39m[\u001b[38;5;124m'\u001b[39m\u001b[38;5;124mabi\u001b[39m\u001b[38;5;124m'\u001b[39m,\u001b[38;5;124m'\u001b[39m\u001b[38;5;124mbin\u001b[39m\u001b[38;5;124m'\u001b[39m]\n\u001b[1;32m     43\u001b[0m \n\u001b[1;32m     44\u001b[0m )\n",
      "File \u001b[0;32m/Library/Frameworks/Python.framework/Versions/3.9/lib/python3.9/site-packages/solcx/main.py:112\u001b[0m, in \u001b[0;36mcompile_source\u001b[0;34m(source, output_values, import_remappings, base_path, allow_paths, output_dir, overwrite, evm_version, revert_strings, metadata_hash, metadata_literal, optimize, optimize_runs, optimize_yul, no_optimize_yul, yul_optimizations, solc_binary, solc_version, allow_empty)\u001b[0m\n\u001b[1;32m     30\u001b[0m \u001b[38;5;28;01mdef\u001b[39;00m \u001b[38;5;21mcompile_source\u001b[39m(\n\u001b[1;32m     31\u001b[0m     source: \u001b[38;5;28mstr\u001b[39m,\n\u001b[1;32m     32\u001b[0m     output_values: List \u001b[38;5;241m=\u001b[39m \u001b[38;5;28;01mNone\u001b[39;00m,\n\u001b[0;32m   (...)\u001b[0m\n\u001b[1;32m     49\u001b[0m     allow_empty: \u001b[38;5;28mbool\u001b[39m \u001b[38;5;241m=\u001b[39m \u001b[38;5;28;01mFalse\u001b[39;00m,\n\u001b[1;32m     50\u001b[0m ) \u001b[38;5;241m-\u001b[39m\u001b[38;5;241m>\u001b[39m Dict:\n\u001b[1;32m     51\u001b[0m     \u001b[38;5;124;03m\"\"\"\u001b[39;00m\n\u001b[1;32m     52\u001b[0m \u001b[38;5;124;03m    Compile a Solidity contract.\u001b[39;00m\n\u001b[1;32m     53\u001b[0m \n\u001b[0;32m   (...)\u001b[0m\n\u001b[1;32m    110\u001b[0m \u001b[38;5;124;03m        Compiler output. The source file name is given as `<stdin>`.\u001b[39;00m\n\u001b[1;32m    111\u001b[0m \u001b[38;5;124;03m    \"\"\"\u001b[39;00m\n\u001b[0;32m--> 112\u001b[0m     \u001b[38;5;28;01mreturn\u001b[39;00m \u001b[43m_compile_combined_json\u001b[49m\u001b[43m(\u001b[49m\n\u001b[1;32m    113\u001b[0m \u001b[43m        \u001b[49m\u001b[43msolc_binary\u001b[49m\u001b[38;5;241;43m=\u001b[39;49m\u001b[43msolc_binary\u001b[49m\u001b[43m,\u001b[49m\n\u001b[1;32m    114\u001b[0m \u001b[43m        \u001b[49m\u001b[43msolc_version\u001b[49m\u001b[38;5;241;43m=\u001b[39;49m\u001b[43msolc_version\u001b[49m\u001b[43m,\u001b[49m\n\u001b[1;32m    115\u001b[0m \u001b[43m        \u001b[49m\u001b[43mstdin\u001b[49m\u001b[38;5;241;43m=\u001b[39;49m\u001b[43msource\u001b[49m\u001b[43m,\u001b[49m\n\u001b[1;32m    116\u001b[0m \u001b[43m        \u001b[49m\u001b[43moutput_values\u001b[49m\u001b[38;5;241;43m=\u001b[39;49m\u001b[43moutput_values\u001b[49m\u001b[43m,\u001b[49m\n\u001b[1;32m    117\u001b[0m \u001b[43m        \u001b[49m\u001b[43mimport_remappings\u001b[49m\u001b[38;5;241;43m=\u001b[39;49m\u001b[43mimport_remappings\u001b[49m\u001b[43m,\u001b[49m\n\u001b[1;32m    118\u001b[0m \u001b[43m        \u001b[49m\u001b[43mbase_path\u001b[49m\u001b[38;5;241;43m=\u001b[39;49m\u001b[43mbase_path\u001b[49m\u001b[43m,\u001b[49m\n\u001b[1;32m    119\u001b[0m \u001b[43m        \u001b[49m\u001b[43mallow_paths\u001b[49m\u001b[38;5;241;43m=\u001b[39;49m\u001b[43mallow_paths\u001b[49m\u001b[43m,\u001b[49m\n\u001b[1;32m    120\u001b[0m \u001b[43m        \u001b[49m\u001b[43moutput_dir\u001b[49m\u001b[38;5;241;43m=\u001b[39;49m\u001b[43moutput_dir\u001b[49m\u001b[43m,\u001b[49m\n\u001b[1;32m    121\u001b[0m \u001b[43m        \u001b[49m\u001b[43moverwrite\u001b[49m\u001b[38;5;241;43m=\u001b[39;49m\u001b[43moverwrite\u001b[49m\u001b[43m,\u001b[49m\n\u001b[1;32m    122\u001b[0m \u001b[43m        \u001b[49m\u001b[43mevm_version\u001b[49m\u001b[38;5;241;43m=\u001b[39;49m\u001b[43mevm_version\u001b[49m\u001b[43m,\u001b[49m\n\u001b[1;32m    123\u001b[0m \u001b[43m        \u001b[49m\u001b[43mrevert_strings\u001b[49m\u001b[38;5;241;43m=\u001b[39;49m\u001b[43mrevert_strings\u001b[49m\u001b[43m,\u001b[49m\n\u001b[1;32m    124\u001b[0m \u001b[43m        \u001b[49m\u001b[43mmetadata_hash\u001b[49m\u001b[38;5;241;43m=\u001b[39;49m\u001b[43mmetadata_hash\u001b[49m\u001b[43m,\u001b[49m\n\u001b[1;32m    125\u001b[0m \u001b[43m        \u001b[49m\u001b[43mmetadata_literal\u001b[49m\u001b[38;5;241;43m=\u001b[39;49m\u001b[43mmetadata_literal\u001b[49m\u001b[43m,\u001b[49m\n\u001b[1;32m    126\u001b[0m \u001b[43m        \u001b[49m\u001b[43moptimize\u001b[49m\u001b[38;5;241;43m=\u001b[39;49m\u001b[43moptimize\u001b[49m\u001b[43m,\u001b[49m\n\u001b[1;32m    127\u001b[0m \u001b[43m        \u001b[49m\u001b[43moptimize_runs\u001b[49m\u001b[38;5;241;43m=\u001b[39;49m\u001b[43moptimize_runs\u001b[49m\u001b[43m,\u001b[49m\n\u001b[1;32m    128\u001b[0m \u001b[43m        \u001b[49m\u001b[43mno_optimize_yul\u001b[49m\u001b[38;5;241;43m=\u001b[39;49m\u001b[43mno_optimize_yul\u001b[49m\u001b[43m,\u001b[49m\n\u001b[1;32m    129\u001b[0m \u001b[43m        \u001b[49m\u001b[43myul_optimizations\u001b[49m\u001b[38;5;241;43m=\u001b[39;49m\u001b[43myul_optimizations\u001b[49m\u001b[43m,\u001b[49m\n\u001b[1;32m    130\u001b[0m \u001b[43m        \u001b[49m\u001b[43mallow_empty\u001b[49m\u001b[38;5;241;43m=\u001b[39;49m\u001b[43mallow_empty\u001b[49m\u001b[43m,\u001b[49m\n\u001b[1;32m    131\u001b[0m \u001b[43m    \u001b[49m\u001b[43m)\u001b[49m\n",
      "File \u001b[0;32m/Library/Frameworks/Python.framework/Versions/3.9/lib/python3.9/site-packages/solcx/main.py:291\u001b[0m, in \u001b[0;36m_compile_combined_json\u001b[0;34m(output_values, solc_binary, solc_version, output_dir, overwrite, allow_empty, **kwargs)\u001b[0m\n\u001b[1;32m    286\u001b[0m         target_path \u001b[38;5;241m=\u001b[39m output_dir\u001b[38;5;241m.\u001b[39mjoinpath(\u001b[38;5;124m\"\u001b[39m\u001b[38;5;124mcombined.json\u001b[39m\u001b[38;5;124m\"\u001b[39m)\n\u001b[1;32m    287\u001b[0m         \u001b[38;5;28;01mraise\u001b[39;00m \u001b[38;5;167;01mFileExistsError\u001b[39;00m(\n\u001b[1;32m    288\u001b[0m             \u001b[38;5;124mf\u001b[39m\u001b[38;5;124m\"\u001b[39m\u001b[38;5;124mTarget output file \u001b[39m\u001b[38;5;132;01m{\u001b[39;00mtarget_path\u001b[38;5;132;01m}\u001b[39;00m\u001b[38;5;124m already exists - use overwrite=True to overwrite\u001b[39m\u001b[38;5;124m\"\u001b[39m\n\u001b[1;32m    289\u001b[0m         )\n\u001b[0;32m--> 291\u001b[0m stdoutdata, stderrdata, command, proc \u001b[38;5;241m=\u001b[39m \u001b[43mwrapper\u001b[49m\u001b[38;5;241;43m.\u001b[39;49m\u001b[43msolc_wrapper\u001b[49m\u001b[43m(\u001b[49m\n\u001b[1;32m    292\u001b[0m \u001b[43m    \u001b[49m\u001b[43msolc_binary\u001b[49m\u001b[38;5;241;43m=\u001b[39;49m\u001b[43msolc_binary\u001b[49m\u001b[43m,\u001b[49m\n\u001b[1;32m    293\u001b[0m \u001b[43m    \u001b[49m\u001b[43mcombined_json\u001b[49m\u001b[38;5;241;43m=\u001b[39;49m\u001b[43mcombined_json\u001b[49m\u001b[43m,\u001b[49m\n\u001b[1;32m    294\u001b[0m \u001b[43m    \u001b[49m\u001b[43moutput_dir\u001b[49m\u001b[38;5;241;43m=\u001b[39;49m\u001b[43moutput_dir\u001b[49m\u001b[43m,\u001b[49m\n\u001b[1;32m    295\u001b[0m \u001b[43m    \u001b[49m\u001b[43moverwrite\u001b[49m\u001b[38;5;241;43m=\u001b[39;49m\u001b[43moverwrite\u001b[49m\u001b[43m,\u001b[49m\n\u001b[1;32m    296\u001b[0m \u001b[43m    \u001b[49m\u001b[38;5;241;43m*\u001b[39;49m\u001b[38;5;241;43m*\u001b[39;49m\u001b[43mkwargs\u001b[49m\u001b[43m,\u001b[49m\n\u001b[1;32m    297\u001b[0m \u001b[43m\u001b[49m\u001b[43m)\u001b[49m\n\u001b[1;32m    299\u001b[0m \u001b[38;5;28;01mif\u001b[39;00m output_dir:\n\u001b[1;32m    300\u001b[0m     output_path \u001b[38;5;241m=\u001b[39m Path(output_dir)\u001b[38;5;241m.\u001b[39mjoinpath(\u001b[38;5;124m\"\u001b[39m\u001b[38;5;124mcombined.json\u001b[39m\u001b[38;5;124m\"\u001b[39m)\n",
      "File \u001b[0;32m/Library/Frameworks/Python.framework/Versions/3.9/lib/python3.9/site-packages/solcx/wrapper.py:158\u001b[0m, in \u001b[0;36msolc_wrapper\u001b[0;34m(solc_binary, stdin, source_files, import_remappings, success_return_code, **kwargs)\u001b[0m\n\u001b[1;32m    153\u001b[0m         flag \u001b[38;5;241m=\u001b[39m flag\u001b[38;5;241m.\u001b[39msplit(\u001b[38;5;124m\"\u001b[39m\u001b[38;5;124m \u001b[39m\u001b[38;5;124m\"\u001b[39m)[\u001b[38;5;241m-\u001b[39m\u001b[38;5;241m1\u001b[39m]\n\u001b[1;32m    154\u001b[0m         \u001b[38;5;28;01mraise\u001b[39;00m UnknownValue(\n\u001b[1;32m    155\u001b[0m             \u001b[38;5;124mf\u001b[39m\u001b[38;5;124m\"\u001b[39m\u001b[38;5;124msolc \u001b[39m\u001b[38;5;132;01m{\u001b[39;00msolc_version\u001b[38;5;132;01m}\u001b[39;00m\u001b[38;5;124m does not accept \u001b[39m\u001b[38;5;124m'\u001b[39m\u001b[38;5;132;01m{\u001b[39;00moption\u001b[38;5;132;01m}\u001b[39;00m\u001b[38;5;124m'\u001b[39m\u001b[38;5;124m as an option for the \u001b[39m\u001b[38;5;124m'\u001b[39m\u001b[38;5;132;01m{\u001b[39;00mflag\u001b[38;5;132;01m}\u001b[39;00m\u001b[38;5;124m'\u001b[39m\u001b[38;5;124m flag\u001b[39m\u001b[38;5;124m\"\u001b[39m\n\u001b[1;32m    156\u001b[0m         )\n\u001b[0;32m--> 158\u001b[0m     \u001b[38;5;28;01mraise\u001b[39;00m SolcError(\n\u001b[1;32m    159\u001b[0m         command\u001b[38;5;241m=\u001b[39mcommand,\n\u001b[1;32m    160\u001b[0m         return_code\u001b[38;5;241m=\u001b[39mproc\u001b[38;5;241m.\u001b[39mreturncode,\n\u001b[1;32m    161\u001b[0m         stdin_data\u001b[38;5;241m=\u001b[39mstdin,\n\u001b[1;32m    162\u001b[0m         stdout_data\u001b[38;5;241m=\u001b[39mstdoutdata,\n\u001b[1;32m    163\u001b[0m         stderr_data\u001b[38;5;241m=\u001b[39mstderrdata,\n\u001b[1;32m    164\u001b[0m     )\n\u001b[1;32m    166\u001b[0m \u001b[38;5;28;01mreturn\u001b[39;00m stdoutdata, stderrdata, command, proc\n",
      "\u001b[0;31mSolcError\u001b[0m: An error occurred during execution\n> command: `/Users/dipenbhuva/.solcx/solc-v0.6.0 --combined-json abi,bin -`\n> return code: `1`\n> stdout:\n\n> stderr:\nError: No visibility specified. Did you intend to add \"public\"?\n  --> <stdin>:16:5:\n   |\n16 |     constructor() {\n   |     ^ (Relevant source part starts here and spans across multiple lines)."
     ]
    }
   ],
   "source": [
    "cs = compile_source(\n",
    "'''\n",
    "pragma solidity >0.4.0;\n",
    "\n",
    "contract IdentityAccessManagement {\n",
    "\n",
    "    // Mapping of user addresses to their roles\n",
    "    mapping(address => string) roles;\n",
    "\n",
    "    // Admin address\n",
    "    address public admin;\n",
    "\n",
    "    // Events for logging role changes\n",
    "    event RoleSet(address indexed user, string role);\n",
    "\n",
    "    // Constructor function sets the admin address\n",
    "    constructor() {\n",
    "        admin = msg.sender;\n",
    "    }\n",
    "\n",
    "    // Modifier that only allows the admin to perform a function\n",
    "    modifier onlyAdmin() {\n",
    "        require(msg.sender == admin, \"Only the admin can perform this action.\");\n",
    "        _;\n",
    "    }\n",
    "\n",
    "    // Function to set a user's role\n",
    "    function setRole(address user, string memory role) public onlyAdmin {\n",
    "        roles[user] = role;\n",
    "        emit RoleSet(user, role);\n",
    "    }\n",
    "\n",
    "    // Function to get a user's role\n",
    "    function getRole(address user) public view returns (string memory) {\n",
    "        return roles[user];\n",
    "    }\n",
    "\n",
    "}\n",
    "\n",
    "\n",
    "\n",
    "''', output_values=['abi','bin']\n",
    "\n",
    ")"
   ]
  },
  {
   "cell_type": "code",
   "execution_count": 7,
   "id": "93421437",
   "metadata": {},
   "outputs": [],
   "source": [
    "contract_id, contract_interface = cs.popitem()"
   ]
  },
  {
   "cell_type": "code",
   "execution_count": 8,
   "id": "fe768d70",
   "metadata": {},
   "outputs": [
    {
     "name": "stdout",
     "output_type": "stream",
     "text": [
      "<stdin>:Bank\n"
     ]
    }
   ],
   "source": [
    "print(contract_id)"
   ]
  },
  {
   "cell_type": "code",
   "execution_count": 18,
   "id": "d71e250b",
   "metadata": {
    "scrolled": true
   },
   "outputs": [
    {
     "name": "stdout",
     "output_type": "stream",
     "text": [
      "6080604052600a600055606460015534801561001a57600080fd5b506102448061002a6000396000f3fe608060405234801561001057600080fd5b50600436106100625760003560e01c806312065fe0146100675780632e1a7d4d146100855780633d79d1c8146100b3578063b69ef8a8146100d1578063b6b55f25146100ef578063ef5fb05b1461011d575b600080fd5b61006f6101a0565b6040518082815260200191505060405180910390f35b6100b16004803603602081101561009b57600080fd5b81019080803590602001909291905050506101a9565b005b6100bb6101b7565b6040518082815260200191505060405180910390f35b6100d96101bd565b6040518082815260200191505060405180910390f35b61011b6004803603602081101561010557600080fd5b81019080803590602001909291905050506101c3565b005b6101256101d1565b6040518080602001828103825283818151815260200191508051906020019080838360005b8381101561016557808201518184015260208101905061014a565b50505050905090810190601f1680156101925780820380516001836020036101000a031916815260200191505b509250505060405180910390f35b60008054905090565b806000540360008190555050565b60005481565b60015481565b806000540160008190555050565b60606040518060400160405280600581526020017f68656c6c6f00000000000000000000000000000000000000000000000000000081525090509056fea26469706673582212205ed3cfdbd6ea3b90d73d01b812076ba805e69a72e94de7113f3a83c12997547364736f6c63430006000033\n"
     ]
    }
   ],
   "source": [
    "print(contract_interface['bin'])"
   ]
  },
  {
   "cell_type": "code",
   "execution_count": null,
   "id": "ab08c927",
   "metadata": {},
   "outputs": [],
   "source": [
    "## Deploying Contract to LocalHost Blockchain"
   ]
  },
  {
   "cell_type": "code",
   "execution_count": 6,
   "id": "79d4b972",
   "metadata": {},
   "outputs": [
    {
     "ename": "ConnectionError",
     "evalue": "HTTPConnectionPool(host='127.0.0.1', port=7545): Max retries exceeded with url: / (Caused by NewConnectionError('<urllib3.connection.HTTPConnection object at 0x7fd8f927bb80>: Failed to establish a new connection: [Errno 61] Connection refused'))",
     "output_type": "error",
     "traceback": [
      "\u001b[0;31m---------------------------------------------------------------------------\u001b[0m",
      "\u001b[0;31mConnectionRefusedError\u001b[0m                    Traceback (most recent call last)",
      "File \u001b[0;32m/Library/Frameworks/Python.framework/Versions/3.9/lib/python3.9/site-packages/urllib3/connection.py:174\u001b[0m, in \u001b[0;36mHTTPConnection._new_conn\u001b[0;34m(self)\u001b[0m\n\u001b[1;32m    173\u001b[0m \u001b[38;5;28;01mtry\u001b[39;00m:\n\u001b[0;32m--> 174\u001b[0m     conn \u001b[38;5;241m=\u001b[39m \u001b[43mconnection\u001b[49m\u001b[38;5;241;43m.\u001b[39;49m\u001b[43mcreate_connection\u001b[49m\u001b[43m(\u001b[49m\n\u001b[1;32m    175\u001b[0m \u001b[43m        \u001b[49m\u001b[43m(\u001b[49m\u001b[38;5;28;43mself\u001b[39;49m\u001b[38;5;241;43m.\u001b[39;49m\u001b[43m_dns_host\u001b[49m\u001b[43m,\u001b[49m\u001b[43m \u001b[49m\u001b[38;5;28;43mself\u001b[39;49m\u001b[38;5;241;43m.\u001b[39;49m\u001b[43mport\u001b[49m\u001b[43m)\u001b[49m\u001b[43m,\u001b[49m\u001b[43m \u001b[49m\u001b[38;5;28;43mself\u001b[39;49m\u001b[38;5;241;43m.\u001b[39;49m\u001b[43mtimeout\u001b[49m\u001b[43m,\u001b[49m\u001b[43m \u001b[49m\u001b[38;5;241;43m*\u001b[39;49m\u001b[38;5;241;43m*\u001b[39;49m\u001b[43mextra_kw\u001b[49m\n\u001b[1;32m    176\u001b[0m \u001b[43m    \u001b[49m\u001b[43m)\u001b[49m\n\u001b[1;32m    178\u001b[0m \u001b[38;5;28;01mexcept\u001b[39;00m SocketTimeout:\n",
      "File \u001b[0;32m/Library/Frameworks/Python.framework/Versions/3.9/lib/python3.9/site-packages/urllib3/util/connection.py:95\u001b[0m, in \u001b[0;36mcreate_connection\u001b[0;34m(address, timeout, source_address, socket_options)\u001b[0m\n\u001b[1;32m     94\u001b[0m \u001b[38;5;28;01mif\u001b[39;00m err \u001b[38;5;129;01mis\u001b[39;00m \u001b[38;5;129;01mnot\u001b[39;00m \u001b[38;5;28;01mNone\u001b[39;00m:\n\u001b[0;32m---> 95\u001b[0m     \u001b[38;5;28;01mraise\u001b[39;00m err\n\u001b[1;32m     97\u001b[0m \u001b[38;5;28;01mraise\u001b[39;00m socket\u001b[38;5;241m.\u001b[39merror(\u001b[38;5;124m\"\u001b[39m\u001b[38;5;124mgetaddrinfo returns an empty list\u001b[39m\u001b[38;5;124m\"\u001b[39m)\n",
      "File \u001b[0;32m/Library/Frameworks/Python.framework/Versions/3.9/lib/python3.9/site-packages/urllib3/util/connection.py:85\u001b[0m, in \u001b[0;36mcreate_connection\u001b[0;34m(address, timeout, source_address, socket_options)\u001b[0m\n\u001b[1;32m     84\u001b[0m     sock\u001b[38;5;241m.\u001b[39mbind(source_address)\n\u001b[0;32m---> 85\u001b[0m \u001b[43msock\u001b[49m\u001b[38;5;241;43m.\u001b[39;49m\u001b[43mconnect\u001b[49m\u001b[43m(\u001b[49m\u001b[43msa\u001b[49m\u001b[43m)\u001b[49m\n\u001b[1;32m     86\u001b[0m \u001b[38;5;28;01mreturn\u001b[39;00m sock\n",
      "\u001b[0;31mConnectionRefusedError\u001b[0m: [Errno 61] Connection refused",
      "\nDuring handling of the above exception, another exception occurred:\n",
      "\u001b[0;31mNewConnectionError\u001b[0m                        Traceback (most recent call last)",
      "File \u001b[0;32m/Library/Frameworks/Python.framework/Versions/3.9/lib/python3.9/site-packages/urllib3/connectionpool.py:703\u001b[0m, in \u001b[0;36mHTTPConnectionPool.urlopen\u001b[0;34m(self, method, url, body, headers, retries, redirect, assert_same_host, timeout, pool_timeout, release_conn, chunked, body_pos, **response_kw)\u001b[0m\n\u001b[1;32m    702\u001b[0m \u001b[38;5;66;03m# Make the request on the httplib connection object.\u001b[39;00m\n\u001b[0;32m--> 703\u001b[0m httplib_response \u001b[38;5;241m=\u001b[39m \u001b[38;5;28;43mself\u001b[39;49m\u001b[38;5;241;43m.\u001b[39;49m\u001b[43m_make_request\u001b[49m\u001b[43m(\u001b[49m\n\u001b[1;32m    704\u001b[0m \u001b[43m    \u001b[49m\u001b[43mconn\u001b[49m\u001b[43m,\u001b[49m\n\u001b[1;32m    705\u001b[0m \u001b[43m    \u001b[49m\u001b[43mmethod\u001b[49m\u001b[43m,\u001b[49m\n\u001b[1;32m    706\u001b[0m \u001b[43m    \u001b[49m\u001b[43murl\u001b[49m\u001b[43m,\u001b[49m\n\u001b[1;32m    707\u001b[0m \u001b[43m    \u001b[49m\u001b[43mtimeout\u001b[49m\u001b[38;5;241;43m=\u001b[39;49m\u001b[43mtimeout_obj\u001b[49m\u001b[43m,\u001b[49m\n\u001b[1;32m    708\u001b[0m \u001b[43m    \u001b[49m\u001b[43mbody\u001b[49m\u001b[38;5;241;43m=\u001b[39;49m\u001b[43mbody\u001b[49m\u001b[43m,\u001b[49m\n\u001b[1;32m    709\u001b[0m \u001b[43m    \u001b[49m\u001b[43mheaders\u001b[49m\u001b[38;5;241;43m=\u001b[39;49m\u001b[43mheaders\u001b[49m\u001b[43m,\u001b[49m\n\u001b[1;32m    710\u001b[0m \u001b[43m    \u001b[49m\u001b[43mchunked\u001b[49m\u001b[38;5;241;43m=\u001b[39;49m\u001b[43mchunked\u001b[49m\u001b[43m,\u001b[49m\n\u001b[1;32m    711\u001b[0m \u001b[43m\u001b[49m\u001b[43m)\u001b[49m\n\u001b[1;32m    713\u001b[0m \u001b[38;5;66;03m# If we're going to release the connection in ``finally:``, then\u001b[39;00m\n\u001b[1;32m    714\u001b[0m \u001b[38;5;66;03m# the response doesn't need to know about the connection. Otherwise\u001b[39;00m\n\u001b[1;32m    715\u001b[0m \u001b[38;5;66;03m# it will also try to release it and we'll have a double-release\u001b[39;00m\n\u001b[1;32m    716\u001b[0m \u001b[38;5;66;03m# mess.\u001b[39;00m\n",
      "File \u001b[0;32m/Library/Frameworks/Python.framework/Versions/3.9/lib/python3.9/site-packages/urllib3/connectionpool.py:398\u001b[0m, in \u001b[0;36mHTTPConnectionPool._make_request\u001b[0;34m(self, conn, method, url, timeout, chunked, **httplib_request_kw)\u001b[0m\n\u001b[1;32m    397\u001b[0m     \u001b[38;5;28;01melse\u001b[39;00m:\n\u001b[0;32m--> 398\u001b[0m         \u001b[43mconn\u001b[49m\u001b[38;5;241;43m.\u001b[39;49m\u001b[43mrequest\u001b[49m\u001b[43m(\u001b[49m\u001b[43mmethod\u001b[49m\u001b[43m,\u001b[49m\u001b[43m \u001b[49m\u001b[43murl\u001b[49m\u001b[43m,\u001b[49m\u001b[43m \u001b[49m\u001b[38;5;241;43m*\u001b[39;49m\u001b[38;5;241;43m*\u001b[39;49m\u001b[43mhttplib_request_kw\u001b[49m\u001b[43m)\u001b[49m\n\u001b[1;32m    400\u001b[0m \u001b[38;5;66;03m# We are swallowing BrokenPipeError (errno.EPIPE) since the server is\u001b[39;00m\n\u001b[1;32m    401\u001b[0m \u001b[38;5;66;03m# legitimately able to close the connection after sending a valid response.\u001b[39;00m\n\u001b[1;32m    402\u001b[0m \u001b[38;5;66;03m# With this behaviour, the received response is still readable.\u001b[39;00m\n",
      "File \u001b[0;32m/Library/Frameworks/Python.framework/Versions/3.9/lib/python3.9/site-packages/urllib3/connection.py:239\u001b[0m, in \u001b[0;36mHTTPConnection.request\u001b[0;34m(self, method, url, body, headers)\u001b[0m\n\u001b[1;32m    238\u001b[0m     headers[\u001b[38;5;124m\"\u001b[39m\u001b[38;5;124mUser-Agent\u001b[39m\u001b[38;5;124m\"\u001b[39m] \u001b[38;5;241m=\u001b[39m _get_default_user_agent()\n\u001b[0;32m--> 239\u001b[0m \u001b[38;5;28;43msuper\u001b[39;49m\u001b[43m(\u001b[49m\u001b[43mHTTPConnection\u001b[49m\u001b[43m,\u001b[49m\u001b[43m \u001b[49m\u001b[38;5;28;43mself\u001b[39;49m\u001b[43m)\u001b[49m\u001b[38;5;241;43m.\u001b[39;49m\u001b[43mrequest\u001b[49m\u001b[43m(\u001b[49m\u001b[43mmethod\u001b[49m\u001b[43m,\u001b[49m\u001b[43m \u001b[49m\u001b[43murl\u001b[49m\u001b[43m,\u001b[49m\u001b[43m \u001b[49m\u001b[43mbody\u001b[49m\u001b[38;5;241;43m=\u001b[39;49m\u001b[43mbody\u001b[49m\u001b[43m,\u001b[49m\u001b[43m \u001b[49m\u001b[43mheaders\u001b[49m\u001b[38;5;241;43m=\u001b[39;49m\u001b[43mheaders\u001b[49m\u001b[43m)\u001b[49m\n",
      "File \u001b[0;32m/Library/Frameworks/Python.framework/Versions/3.9/lib/python3.9/http/client.py:1253\u001b[0m, in \u001b[0;36mHTTPConnection.request\u001b[0;34m(self, method, url, body, headers, encode_chunked)\u001b[0m\n\u001b[1;32m   1252\u001b[0m \u001b[38;5;124;03m\"\"\"Send a complete request to the server.\"\"\"\u001b[39;00m\n\u001b[0;32m-> 1253\u001b[0m \u001b[38;5;28;43mself\u001b[39;49m\u001b[38;5;241;43m.\u001b[39;49m\u001b[43m_send_request\u001b[49m\u001b[43m(\u001b[49m\u001b[43mmethod\u001b[49m\u001b[43m,\u001b[49m\u001b[43m \u001b[49m\u001b[43murl\u001b[49m\u001b[43m,\u001b[49m\u001b[43m \u001b[49m\u001b[43mbody\u001b[49m\u001b[43m,\u001b[49m\u001b[43m \u001b[49m\u001b[43mheaders\u001b[49m\u001b[43m,\u001b[49m\u001b[43m \u001b[49m\u001b[43mencode_chunked\u001b[49m\u001b[43m)\u001b[49m\n",
      "File \u001b[0;32m/Library/Frameworks/Python.framework/Versions/3.9/lib/python3.9/http/client.py:1299\u001b[0m, in \u001b[0;36mHTTPConnection._send_request\u001b[0;34m(self, method, url, body, headers, encode_chunked)\u001b[0m\n\u001b[1;32m   1298\u001b[0m     body \u001b[38;5;241m=\u001b[39m _encode(body, \u001b[38;5;124m'\u001b[39m\u001b[38;5;124mbody\u001b[39m\u001b[38;5;124m'\u001b[39m)\n\u001b[0;32m-> 1299\u001b[0m \u001b[38;5;28;43mself\u001b[39;49m\u001b[38;5;241;43m.\u001b[39;49m\u001b[43mendheaders\u001b[49m\u001b[43m(\u001b[49m\u001b[43mbody\u001b[49m\u001b[43m,\u001b[49m\u001b[43m \u001b[49m\u001b[43mencode_chunked\u001b[49m\u001b[38;5;241;43m=\u001b[39;49m\u001b[43mencode_chunked\u001b[49m\u001b[43m)\u001b[49m\n",
      "File \u001b[0;32m/Library/Frameworks/Python.framework/Versions/3.9/lib/python3.9/http/client.py:1248\u001b[0m, in \u001b[0;36mHTTPConnection.endheaders\u001b[0;34m(self, message_body, encode_chunked)\u001b[0m\n\u001b[1;32m   1247\u001b[0m     \u001b[38;5;28;01mraise\u001b[39;00m CannotSendHeader()\n\u001b[0;32m-> 1248\u001b[0m \u001b[38;5;28;43mself\u001b[39;49m\u001b[38;5;241;43m.\u001b[39;49m\u001b[43m_send_output\u001b[49m\u001b[43m(\u001b[49m\u001b[43mmessage_body\u001b[49m\u001b[43m,\u001b[49m\u001b[43m \u001b[49m\u001b[43mencode_chunked\u001b[49m\u001b[38;5;241;43m=\u001b[39;49m\u001b[43mencode_chunked\u001b[49m\u001b[43m)\u001b[49m\n",
      "File \u001b[0;32m/Library/Frameworks/Python.framework/Versions/3.9/lib/python3.9/http/client.py:1008\u001b[0m, in \u001b[0;36mHTTPConnection._send_output\u001b[0;34m(self, message_body, encode_chunked)\u001b[0m\n\u001b[1;32m   1007\u001b[0m \u001b[38;5;28;01mdel\u001b[39;00m \u001b[38;5;28mself\u001b[39m\u001b[38;5;241m.\u001b[39m_buffer[:]\n\u001b[0;32m-> 1008\u001b[0m \u001b[38;5;28;43mself\u001b[39;49m\u001b[38;5;241;43m.\u001b[39;49m\u001b[43msend\u001b[49m\u001b[43m(\u001b[49m\u001b[43mmsg\u001b[49m\u001b[43m)\u001b[49m\n\u001b[1;32m   1010\u001b[0m \u001b[38;5;28;01mif\u001b[39;00m message_body \u001b[38;5;129;01mis\u001b[39;00m \u001b[38;5;129;01mnot\u001b[39;00m \u001b[38;5;28;01mNone\u001b[39;00m:\n\u001b[1;32m   1011\u001b[0m \n\u001b[1;32m   1012\u001b[0m     \u001b[38;5;66;03m# create a consistent interface to message_body\u001b[39;00m\n",
      "File \u001b[0;32m/Library/Frameworks/Python.framework/Versions/3.9/lib/python3.9/http/client.py:948\u001b[0m, in \u001b[0;36mHTTPConnection.send\u001b[0;34m(self, data)\u001b[0m\n\u001b[1;32m    947\u001b[0m \u001b[38;5;28;01mif\u001b[39;00m \u001b[38;5;28mself\u001b[39m\u001b[38;5;241m.\u001b[39mauto_open:\n\u001b[0;32m--> 948\u001b[0m     \u001b[38;5;28;43mself\u001b[39;49m\u001b[38;5;241;43m.\u001b[39;49m\u001b[43mconnect\u001b[49m\u001b[43m(\u001b[49m\u001b[43m)\u001b[49m\n\u001b[1;32m    949\u001b[0m \u001b[38;5;28;01melse\u001b[39;00m:\n",
      "File \u001b[0;32m/Library/Frameworks/Python.framework/Versions/3.9/lib/python3.9/site-packages/urllib3/connection.py:205\u001b[0m, in \u001b[0;36mHTTPConnection.connect\u001b[0;34m(self)\u001b[0m\n\u001b[1;32m    204\u001b[0m \u001b[38;5;28;01mdef\u001b[39;00m \u001b[38;5;21mconnect\u001b[39m(\u001b[38;5;28mself\u001b[39m):\n\u001b[0;32m--> 205\u001b[0m     conn \u001b[38;5;241m=\u001b[39m \u001b[38;5;28;43mself\u001b[39;49m\u001b[38;5;241;43m.\u001b[39;49m\u001b[43m_new_conn\u001b[49m\u001b[43m(\u001b[49m\u001b[43m)\u001b[49m\n\u001b[1;32m    206\u001b[0m     \u001b[38;5;28mself\u001b[39m\u001b[38;5;241m.\u001b[39m_prepare_conn(conn)\n",
      "File \u001b[0;32m/Library/Frameworks/Python.framework/Versions/3.9/lib/python3.9/site-packages/urllib3/connection.py:186\u001b[0m, in \u001b[0;36mHTTPConnection._new_conn\u001b[0;34m(self)\u001b[0m\n\u001b[1;32m    185\u001b[0m \u001b[38;5;28;01mexcept\u001b[39;00m SocketError \u001b[38;5;28;01mas\u001b[39;00m e:\n\u001b[0;32m--> 186\u001b[0m     \u001b[38;5;28;01mraise\u001b[39;00m NewConnectionError(\n\u001b[1;32m    187\u001b[0m         \u001b[38;5;28mself\u001b[39m, \u001b[38;5;124m\"\u001b[39m\u001b[38;5;124mFailed to establish a new connection: \u001b[39m\u001b[38;5;132;01m%s\u001b[39;00m\u001b[38;5;124m\"\u001b[39m \u001b[38;5;241m%\u001b[39m e\n\u001b[1;32m    188\u001b[0m     )\n\u001b[1;32m    190\u001b[0m \u001b[38;5;28;01mreturn\u001b[39;00m conn\n",
      "\u001b[0;31mNewConnectionError\u001b[0m: <urllib3.connection.HTTPConnection object at 0x7fd8f927bb80>: Failed to establish a new connection: [Errno 61] Connection refused",
      "\nDuring handling of the above exception, another exception occurred:\n",
      "\u001b[0;31mMaxRetryError\u001b[0m                             Traceback (most recent call last)",
      "File \u001b[0;32m/Library/Frameworks/Python.framework/Versions/3.9/lib/python3.9/site-packages/requests/adapters.py:440\u001b[0m, in \u001b[0;36mHTTPAdapter.send\u001b[0;34m(self, request, stream, timeout, verify, cert, proxies)\u001b[0m\n\u001b[1;32m    439\u001b[0m \u001b[38;5;28;01mif\u001b[39;00m \u001b[38;5;129;01mnot\u001b[39;00m chunked:\n\u001b[0;32m--> 440\u001b[0m     resp \u001b[38;5;241m=\u001b[39m \u001b[43mconn\u001b[49m\u001b[38;5;241;43m.\u001b[39;49m\u001b[43murlopen\u001b[49m\u001b[43m(\u001b[49m\n\u001b[1;32m    441\u001b[0m \u001b[43m        \u001b[49m\u001b[43mmethod\u001b[49m\u001b[38;5;241;43m=\u001b[39;49m\u001b[43mrequest\u001b[49m\u001b[38;5;241;43m.\u001b[39;49m\u001b[43mmethod\u001b[49m\u001b[43m,\u001b[49m\n\u001b[1;32m    442\u001b[0m \u001b[43m        \u001b[49m\u001b[43murl\u001b[49m\u001b[38;5;241;43m=\u001b[39;49m\u001b[43murl\u001b[49m\u001b[43m,\u001b[49m\n\u001b[1;32m    443\u001b[0m \u001b[43m        \u001b[49m\u001b[43mbody\u001b[49m\u001b[38;5;241;43m=\u001b[39;49m\u001b[43mrequest\u001b[49m\u001b[38;5;241;43m.\u001b[39;49m\u001b[43mbody\u001b[49m\u001b[43m,\u001b[49m\n\u001b[1;32m    444\u001b[0m \u001b[43m        \u001b[49m\u001b[43mheaders\u001b[49m\u001b[38;5;241;43m=\u001b[39;49m\u001b[43mrequest\u001b[49m\u001b[38;5;241;43m.\u001b[39;49m\u001b[43mheaders\u001b[49m\u001b[43m,\u001b[49m\n\u001b[1;32m    445\u001b[0m \u001b[43m        \u001b[49m\u001b[43mredirect\u001b[49m\u001b[38;5;241;43m=\u001b[39;49m\u001b[38;5;28;43;01mFalse\u001b[39;49;00m\u001b[43m,\u001b[49m\n\u001b[1;32m    446\u001b[0m \u001b[43m        \u001b[49m\u001b[43massert_same_host\u001b[49m\u001b[38;5;241;43m=\u001b[39;49m\u001b[38;5;28;43;01mFalse\u001b[39;49;00m\u001b[43m,\u001b[49m\n\u001b[1;32m    447\u001b[0m \u001b[43m        \u001b[49m\u001b[43mpreload_content\u001b[49m\u001b[38;5;241;43m=\u001b[39;49m\u001b[38;5;28;43;01mFalse\u001b[39;49;00m\u001b[43m,\u001b[49m\n\u001b[1;32m    448\u001b[0m \u001b[43m        \u001b[49m\u001b[43mdecode_content\u001b[49m\u001b[38;5;241;43m=\u001b[39;49m\u001b[38;5;28;43;01mFalse\u001b[39;49;00m\u001b[43m,\u001b[49m\n\u001b[1;32m    449\u001b[0m \u001b[43m        \u001b[49m\u001b[43mretries\u001b[49m\u001b[38;5;241;43m=\u001b[39;49m\u001b[38;5;28;43mself\u001b[39;49m\u001b[38;5;241;43m.\u001b[39;49m\u001b[43mmax_retries\u001b[49m\u001b[43m,\u001b[49m\n\u001b[1;32m    450\u001b[0m \u001b[43m        \u001b[49m\u001b[43mtimeout\u001b[49m\u001b[38;5;241;43m=\u001b[39;49m\u001b[43mtimeout\u001b[49m\n\u001b[1;32m    451\u001b[0m \u001b[43m    \u001b[49m\u001b[43m)\u001b[49m\n\u001b[1;32m    453\u001b[0m \u001b[38;5;66;03m# Send the request.\u001b[39;00m\n\u001b[1;32m    454\u001b[0m \u001b[38;5;28;01melse\u001b[39;00m:\n",
      "File \u001b[0;32m/Library/Frameworks/Python.framework/Versions/3.9/lib/python3.9/site-packages/urllib3/connectionpool.py:785\u001b[0m, in \u001b[0;36mHTTPConnectionPool.urlopen\u001b[0;34m(self, method, url, body, headers, retries, redirect, assert_same_host, timeout, pool_timeout, release_conn, chunked, body_pos, **response_kw)\u001b[0m\n\u001b[1;32m    783\u001b[0m     e \u001b[38;5;241m=\u001b[39m ProtocolError(\u001b[38;5;124m\"\u001b[39m\u001b[38;5;124mConnection aborted.\u001b[39m\u001b[38;5;124m\"\u001b[39m, e)\n\u001b[0;32m--> 785\u001b[0m retries \u001b[38;5;241m=\u001b[39m \u001b[43mretries\u001b[49m\u001b[38;5;241;43m.\u001b[39;49m\u001b[43mincrement\u001b[49m\u001b[43m(\u001b[49m\n\u001b[1;32m    786\u001b[0m \u001b[43m    \u001b[49m\u001b[43mmethod\u001b[49m\u001b[43m,\u001b[49m\u001b[43m \u001b[49m\u001b[43murl\u001b[49m\u001b[43m,\u001b[49m\u001b[43m \u001b[49m\u001b[43merror\u001b[49m\u001b[38;5;241;43m=\u001b[39;49m\u001b[43me\u001b[49m\u001b[43m,\u001b[49m\u001b[43m \u001b[49m\u001b[43m_pool\u001b[49m\u001b[38;5;241;43m=\u001b[39;49m\u001b[38;5;28;43mself\u001b[39;49m\u001b[43m,\u001b[49m\u001b[43m \u001b[49m\u001b[43m_stacktrace\u001b[49m\u001b[38;5;241;43m=\u001b[39;49m\u001b[43msys\u001b[49m\u001b[38;5;241;43m.\u001b[39;49m\u001b[43mexc_info\u001b[49m\u001b[43m(\u001b[49m\u001b[43m)\u001b[49m\u001b[43m[\u001b[49m\u001b[38;5;241;43m2\u001b[39;49m\u001b[43m]\u001b[49m\n\u001b[1;32m    787\u001b[0m \u001b[43m\u001b[49m\u001b[43m)\u001b[49m\n\u001b[1;32m    788\u001b[0m retries\u001b[38;5;241m.\u001b[39msleep()\n",
      "File \u001b[0;32m/Library/Frameworks/Python.framework/Versions/3.9/lib/python3.9/site-packages/urllib3/util/retry.py:592\u001b[0m, in \u001b[0;36mRetry.increment\u001b[0;34m(self, method, url, response, error, _pool, _stacktrace)\u001b[0m\n\u001b[1;32m    591\u001b[0m \u001b[38;5;28;01mif\u001b[39;00m new_retry\u001b[38;5;241m.\u001b[39mis_exhausted():\n\u001b[0;32m--> 592\u001b[0m     \u001b[38;5;28;01mraise\u001b[39;00m MaxRetryError(_pool, url, error \u001b[38;5;129;01mor\u001b[39;00m ResponseError(cause))\n\u001b[1;32m    594\u001b[0m log\u001b[38;5;241m.\u001b[39mdebug(\u001b[38;5;124m\"\u001b[39m\u001b[38;5;124mIncremented Retry for (url=\u001b[39m\u001b[38;5;124m'\u001b[39m\u001b[38;5;132;01m%s\u001b[39;00m\u001b[38;5;124m'\u001b[39m\u001b[38;5;124m): \u001b[39m\u001b[38;5;132;01m%r\u001b[39;00m\u001b[38;5;124m\"\u001b[39m, url, new_retry)\n",
      "\u001b[0;31mMaxRetryError\u001b[0m: HTTPConnectionPool(host='127.0.0.1', port=7545): Max retries exceeded with url: / (Caused by NewConnectionError('<urllib3.connection.HTTPConnection object at 0x7fd8f927bb80>: Failed to establish a new connection: [Errno 61] Connection refused'))",
      "\nDuring handling of the above exception, another exception occurred:\n",
      "\u001b[0;31mConnectionError\u001b[0m                           Traceback (most recent call last)",
      "Cell \u001b[0;32mIn [6], line 4\u001b[0m\n\u001b[1;32m      2\u001b[0m w3 \u001b[38;5;241m=\u001b[39m Web3(Web3\u001b[38;5;241m.\u001b[39mHTTPProvider(\u001b[38;5;124m'\u001b[39m\u001b[38;5;124mhttp://127.0.0.1:7545\u001b[39m\u001b[38;5;124m'\u001b[39m))\n\u001b[1;32m      3\u001b[0m w3\u001b[38;5;241m.\u001b[39misConnected()\n\u001b[0;32m----> 4\u001b[0m w3\u001b[38;5;241m.\u001b[39meth\u001b[38;5;241m.\u001b[39mdefault_account \u001b[38;5;241m=\u001b[39m w3\u001b[38;5;241m.\u001b[39meth\u001b[38;5;241m.\u001b[39maccounts[\u001b[38;5;241m0\u001b[39m]\n\u001b[1;32m      5\u001b[0m abi \u001b[38;5;241m=\u001b[39m contract_interface[\u001b[38;5;124m'\u001b[39m\u001b[38;5;124mabi\u001b[39m\u001b[38;5;124m'\u001b[39m]\n\u001b[1;32m      6\u001b[0m bytecode \u001b[38;5;241m=\u001b[39m contract_interface[\u001b[38;5;124m'\u001b[39m\u001b[38;5;124mbin\u001b[39m\u001b[38;5;124m'\u001b[39m]\n",
      "File \u001b[0;32m/Library/Frameworks/Python.framework/Versions/3.9/lib/python3.9/site-packages/web3/eth.py:616\u001b[0m, in \u001b[0;36mEth.accounts\u001b[0;34m(self)\u001b[0m\n\u001b[1;32m    614\u001b[0m \u001b[38;5;129m@property\u001b[39m\n\u001b[1;32m    615\u001b[0m \u001b[38;5;28;01mdef\u001b[39;00m \u001b[38;5;21maccounts\u001b[39m(\u001b[38;5;28mself\u001b[39m) \u001b[38;5;241m-\u001b[39m\u001b[38;5;241m>\u001b[39m Tuple[ChecksumAddress]:\n\u001b[0;32m--> 616\u001b[0m     \u001b[38;5;28;01mreturn\u001b[39;00m \u001b[38;5;28;43mself\u001b[39;49m\u001b[38;5;241;43m.\u001b[39;49m\u001b[43m_get_accounts\u001b[49m\u001b[43m(\u001b[49m\u001b[43m)\u001b[49m\n",
      "File \u001b[0;32m/Library/Frameworks/Python.framework/Versions/3.9/lib/python3.9/site-packages/web3/module.py:57\u001b[0m, in \u001b[0;36mretrieve_blocking_method_call_fn.<locals>.caller\u001b[0;34m(*args, **kwargs)\u001b[0m\n\u001b[1;32m     55\u001b[0m     \u001b[38;5;28;01mreturn\u001b[39;00m LogFilter(eth_module\u001b[38;5;241m=\u001b[39mmodule, filter_id\u001b[38;5;241m=\u001b[39merr\u001b[38;5;241m.\u001b[39mfilter_id)\n\u001b[1;32m     56\u001b[0m result_formatters, error_formatters, null_result_formatters \u001b[38;5;241m=\u001b[39m response_formatters\n\u001b[0;32m---> 57\u001b[0m result \u001b[38;5;241m=\u001b[39m \u001b[43mw3\u001b[49m\u001b[38;5;241;43m.\u001b[39;49m\u001b[43mmanager\u001b[49m\u001b[38;5;241;43m.\u001b[39;49m\u001b[43mrequest_blocking\u001b[49m\u001b[43m(\u001b[49m\u001b[43mmethod_str\u001b[49m\u001b[43m,\u001b[49m\n\u001b[1;32m     58\u001b[0m \u001b[43m                                     \u001b[49m\u001b[43mparams\u001b[49m\u001b[43m,\u001b[49m\n\u001b[1;32m     59\u001b[0m \u001b[43m                                     \u001b[49m\u001b[43merror_formatters\u001b[49m\u001b[43m,\u001b[49m\n\u001b[1;32m     60\u001b[0m \u001b[43m                                     \u001b[49m\u001b[43mnull_result_formatters\u001b[49m\u001b[43m)\u001b[49m\n\u001b[1;32m     61\u001b[0m \u001b[38;5;28;01mreturn\u001b[39;00m apply_result_formatters(result_formatters, result)\n",
      "File \u001b[0;32m/Library/Frameworks/Python.framework/Versions/3.9/lib/python3.9/site-packages/web3/manager.py:197\u001b[0m, in \u001b[0;36mRequestManager.request_blocking\u001b[0;34m(self, method, params, error_formatters, null_result_formatters)\u001b[0m\n\u001b[1;32m    187\u001b[0m \u001b[38;5;28;01mdef\u001b[39;00m \u001b[38;5;21mrequest_blocking\u001b[39m(\n\u001b[1;32m    188\u001b[0m     \u001b[38;5;28mself\u001b[39m,\n\u001b[1;32m    189\u001b[0m     method: Union[RPCEndpoint, Callable[\u001b[38;5;241m.\u001b[39m\u001b[38;5;241m.\u001b[39m\u001b[38;5;241m.\u001b[39m, RPCEndpoint]],\n\u001b[0;32m   (...)\u001b[0m\n\u001b[1;32m    192\u001b[0m     null_result_formatters: Optional[Callable[\u001b[38;5;241m.\u001b[39m\u001b[38;5;241m.\u001b[39m\u001b[38;5;241m.\u001b[39m, Any]] \u001b[38;5;241m=\u001b[39m \u001b[38;5;28;01mNone\u001b[39;00m,\n\u001b[1;32m    193\u001b[0m ) \u001b[38;5;241m-\u001b[39m\u001b[38;5;241m>\u001b[39m Any:\n\u001b[1;32m    194\u001b[0m     \u001b[38;5;124;03m\"\"\"\u001b[39;00m\n\u001b[1;32m    195\u001b[0m \u001b[38;5;124;03m    Make a synchronous request using the provider\u001b[39;00m\n\u001b[1;32m    196\u001b[0m \u001b[38;5;124;03m    \"\"\"\u001b[39;00m\n\u001b[0;32m--> 197\u001b[0m     response \u001b[38;5;241m=\u001b[39m \u001b[38;5;28;43mself\u001b[39;49m\u001b[38;5;241;43m.\u001b[39;49m\u001b[43m_make_request\u001b[49m\u001b[43m(\u001b[49m\u001b[43mmethod\u001b[49m\u001b[43m,\u001b[49m\u001b[43m \u001b[49m\u001b[43mparams\u001b[49m\u001b[43m)\u001b[49m\n\u001b[1;32m    198\u001b[0m     \u001b[38;5;28;01mreturn\u001b[39;00m \u001b[38;5;28mself\u001b[39m\u001b[38;5;241m.\u001b[39mformatted_response(response,\n\u001b[1;32m    199\u001b[0m                                    params,\n\u001b[1;32m    200\u001b[0m                                    error_formatters,\n\u001b[1;32m    201\u001b[0m                                    null_result_formatters)\n",
      "File \u001b[0;32m/Library/Frameworks/Python.framework/Versions/3.9/lib/python3.9/site-packages/web3/manager.py:150\u001b[0m, in \u001b[0;36mRequestManager._make_request\u001b[0;34m(self, method, params)\u001b[0m\n\u001b[1;32m    146\u001b[0m request_func \u001b[38;5;241m=\u001b[39m \u001b[38;5;28mself\u001b[39m\u001b[38;5;241m.\u001b[39mprovider\u001b[38;5;241m.\u001b[39mrequest_func(\n\u001b[1;32m    147\u001b[0m     \u001b[38;5;28mself\u001b[39m\u001b[38;5;241m.\u001b[39mweb3,\n\u001b[1;32m    148\u001b[0m     \u001b[38;5;28mself\u001b[39m\u001b[38;5;241m.\u001b[39mmiddleware_onion)\n\u001b[1;32m    149\u001b[0m \u001b[38;5;28mself\u001b[39m\u001b[38;5;241m.\u001b[39mlogger\u001b[38;5;241m.\u001b[39mdebug(\u001b[38;5;124m\"\u001b[39m\u001b[38;5;124mMaking request. Method: \u001b[39m\u001b[38;5;132;01m%s\u001b[39;00m\u001b[38;5;124m\"\u001b[39m, method)\n\u001b[0;32m--> 150\u001b[0m \u001b[38;5;28;01mreturn\u001b[39;00m \u001b[43mrequest_func\u001b[49m\u001b[43m(\u001b[49m\u001b[43mmethod\u001b[49m\u001b[43m,\u001b[49m\u001b[43m \u001b[49m\u001b[43mparams\u001b[49m\u001b[43m)\u001b[49m\n",
      "File \u001b[0;32m/Library/Frameworks/Python.framework/Versions/3.9/lib/python3.9/site-packages/web3/middleware/formatting.py:94\u001b[0m, in \u001b[0;36mconstruct_web3_formatting_middleware.<locals>.formatter_middleware.<locals>.middleware\u001b[0;34m(method, params)\u001b[0m\n\u001b[1;32m     92\u001b[0m     formatter \u001b[38;5;241m=\u001b[39m request_formatters[method]\n\u001b[1;32m     93\u001b[0m     params \u001b[38;5;241m=\u001b[39m formatter(params)\n\u001b[0;32m---> 94\u001b[0m response \u001b[38;5;241m=\u001b[39m \u001b[43mmake_request\u001b[49m\u001b[43m(\u001b[49m\u001b[43mmethod\u001b[49m\u001b[43m,\u001b[49m\u001b[43m \u001b[49m\u001b[43mparams\u001b[49m\u001b[43m)\u001b[49m\n\u001b[1;32m     96\u001b[0m \u001b[38;5;28;01mreturn\u001b[39;00m _apply_response_formatters(method\u001b[38;5;241m=\u001b[39mmethod, response\u001b[38;5;241m=\u001b[39mresponse, \u001b[38;5;241m*\u001b[39m\u001b[38;5;241m*\u001b[39mformatters)\n",
      "File \u001b[0;32m/Library/Frameworks/Python.framework/Versions/3.9/lib/python3.9/site-packages/web3/middleware/gas_price_strategy.py:90\u001b[0m, in \u001b[0;36mgas_price_strategy_middleware.<locals>.middleware\u001b[0;34m(method, params)\u001b[0m\n\u001b[1;32m     86\u001b[0m     transaction \u001b[38;5;241m=\u001b[39m validate_transaction_params(\n\u001b[1;32m     87\u001b[0m         transaction, latest_block, generated_gas_price\n\u001b[1;32m     88\u001b[0m     )\n\u001b[1;32m     89\u001b[0m     \u001b[38;5;28;01mreturn\u001b[39;00m make_request(method, (transaction,))\n\u001b[0;32m---> 90\u001b[0m \u001b[38;5;28;01mreturn\u001b[39;00m \u001b[43mmake_request\u001b[49m\u001b[43m(\u001b[49m\u001b[43mmethod\u001b[49m\u001b[43m,\u001b[49m\u001b[43m \u001b[49m\u001b[43mparams\u001b[49m\u001b[43m)\u001b[49m\n",
      "File \u001b[0;32m/Library/Frameworks/Python.framework/Versions/3.9/lib/python3.9/site-packages/web3/middleware/formatting.py:94\u001b[0m, in \u001b[0;36mconstruct_web3_formatting_middleware.<locals>.formatter_middleware.<locals>.middleware\u001b[0;34m(method, params)\u001b[0m\n\u001b[1;32m     92\u001b[0m     formatter \u001b[38;5;241m=\u001b[39m request_formatters[method]\n\u001b[1;32m     93\u001b[0m     params \u001b[38;5;241m=\u001b[39m formatter(params)\n\u001b[0;32m---> 94\u001b[0m response \u001b[38;5;241m=\u001b[39m \u001b[43mmake_request\u001b[49m\u001b[43m(\u001b[49m\u001b[43mmethod\u001b[49m\u001b[43m,\u001b[49m\u001b[43m \u001b[49m\u001b[43mparams\u001b[49m\u001b[43m)\u001b[49m\n\u001b[1;32m     96\u001b[0m \u001b[38;5;28;01mreturn\u001b[39;00m _apply_response_formatters(method\u001b[38;5;241m=\u001b[39mmethod, response\u001b[38;5;241m=\u001b[39mresponse, \u001b[38;5;241m*\u001b[39m\u001b[38;5;241m*\u001b[39mformatters)\n",
      "File \u001b[0;32m/Library/Frameworks/Python.framework/Versions/3.9/lib/python3.9/site-packages/web3/middleware/attrdict.py:33\u001b[0m, in \u001b[0;36mattrdict_middleware.<locals>.middleware\u001b[0;34m(method, params)\u001b[0m\n\u001b[1;32m     32\u001b[0m \u001b[38;5;28;01mdef\u001b[39;00m \u001b[38;5;21mmiddleware\u001b[39m(method: RPCEndpoint, params: Any) \u001b[38;5;241m-\u001b[39m\u001b[38;5;241m>\u001b[39m RPCResponse:\n\u001b[0;32m---> 33\u001b[0m     response \u001b[38;5;241m=\u001b[39m \u001b[43mmake_request\u001b[49m\u001b[43m(\u001b[49m\u001b[43mmethod\u001b[49m\u001b[43m,\u001b[49m\u001b[43m \u001b[49m\u001b[43mparams\u001b[49m\u001b[43m)\u001b[49m\n\u001b[1;32m     35\u001b[0m     \u001b[38;5;28;01mif\u001b[39;00m \u001b[38;5;124m'\u001b[39m\u001b[38;5;124mresult\u001b[39m\u001b[38;5;124m'\u001b[39m \u001b[38;5;129;01min\u001b[39;00m response:\n\u001b[1;32m     36\u001b[0m         result \u001b[38;5;241m=\u001b[39m response[\u001b[38;5;124m'\u001b[39m\u001b[38;5;124mresult\u001b[39m\u001b[38;5;124m'\u001b[39m]\n",
      "File \u001b[0;32m/Library/Frameworks/Python.framework/Versions/3.9/lib/python3.9/site-packages/web3/middleware/formatting.py:94\u001b[0m, in \u001b[0;36mconstruct_web3_formatting_middleware.<locals>.formatter_middleware.<locals>.middleware\u001b[0;34m(method, params)\u001b[0m\n\u001b[1;32m     92\u001b[0m     formatter \u001b[38;5;241m=\u001b[39m request_formatters[method]\n\u001b[1;32m     93\u001b[0m     params \u001b[38;5;241m=\u001b[39m formatter(params)\n\u001b[0;32m---> 94\u001b[0m response \u001b[38;5;241m=\u001b[39m \u001b[43mmake_request\u001b[49m\u001b[43m(\u001b[49m\u001b[43mmethod\u001b[49m\u001b[43m,\u001b[49m\u001b[43m \u001b[49m\u001b[43mparams\u001b[49m\u001b[43m)\u001b[49m\n\u001b[1;32m     96\u001b[0m \u001b[38;5;28;01mreturn\u001b[39;00m _apply_response_formatters(method\u001b[38;5;241m=\u001b[39mmethod, response\u001b[38;5;241m=\u001b[39mresponse, \u001b[38;5;241m*\u001b[39m\u001b[38;5;241m*\u001b[39mformatters)\n",
      "File \u001b[0;32m/Library/Frameworks/Python.framework/Versions/3.9/lib/python3.9/site-packages/web3/middleware/formatting.py:94\u001b[0m, in \u001b[0;36mconstruct_web3_formatting_middleware.<locals>.formatter_middleware.<locals>.middleware\u001b[0;34m(method, params)\u001b[0m\n\u001b[1;32m     92\u001b[0m     formatter \u001b[38;5;241m=\u001b[39m request_formatters[method]\n\u001b[1;32m     93\u001b[0m     params \u001b[38;5;241m=\u001b[39m formatter(params)\n\u001b[0;32m---> 94\u001b[0m response \u001b[38;5;241m=\u001b[39m \u001b[43mmake_request\u001b[49m\u001b[43m(\u001b[49m\u001b[43mmethod\u001b[49m\u001b[43m,\u001b[49m\u001b[43m \u001b[49m\u001b[43mparams\u001b[49m\u001b[43m)\u001b[49m\n\u001b[1;32m     96\u001b[0m \u001b[38;5;28;01mreturn\u001b[39;00m _apply_response_formatters(method\u001b[38;5;241m=\u001b[39mmethod, response\u001b[38;5;241m=\u001b[39mresponse, \u001b[38;5;241m*\u001b[39m\u001b[38;5;241m*\u001b[39mformatters)\n",
      "File \u001b[0;32m/Library/Frameworks/Python.framework/Versions/3.9/lib/python3.9/site-packages/web3/middleware/formatting.py:94\u001b[0m, in \u001b[0;36mconstruct_web3_formatting_middleware.<locals>.formatter_middleware.<locals>.middleware\u001b[0;34m(method, params)\u001b[0m\n\u001b[1;32m     92\u001b[0m     formatter \u001b[38;5;241m=\u001b[39m request_formatters[method]\n\u001b[1;32m     93\u001b[0m     params \u001b[38;5;241m=\u001b[39m formatter(params)\n\u001b[0;32m---> 94\u001b[0m response \u001b[38;5;241m=\u001b[39m \u001b[43mmake_request\u001b[49m\u001b[43m(\u001b[49m\u001b[43mmethod\u001b[49m\u001b[43m,\u001b[49m\u001b[43m \u001b[49m\u001b[43mparams\u001b[49m\u001b[43m)\u001b[49m\n\u001b[1;32m     96\u001b[0m \u001b[38;5;28;01mreturn\u001b[39;00m _apply_response_formatters(method\u001b[38;5;241m=\u001b[39mmethod, response\u001b[38;5;241m=\u001b[39mresponse, \u001b[38;5;241m*\u001b[39m\u001b[38;5;241m*\u001b[39mformatters)\n",
      "File \u001b[0;32m/Library/Frameworks/Python.framework/Versions/3.9/lib/python3.9/site-packages/web3/middleware/buffered_gas_estimate.py:40\u001b[0m, in \u001b[0;36mbuffered_gas_estimate_middleware.<locals>.middleware\u001b[0;34m(method, params)\u001b[0m\n\u001b[1;32m     34\u001b[0m         transaction \u001b[38;5;241m=\u001b[39m assoc(\n\u001b[1;32m     35\u001b[0m             transaction,\n\u001b[1;32m     36\u001b[0m             \u001b[38;5;124m'\u001b[39m\u001b[38;5;124mgas\u001b[39m\u001b[38;5;124m'\u001b[39m,\n\u001b[1;32m     37\u001b[0m             \u001b[38;5;28mhex\u001b[39m(get_buffered_gas_estimate(web3, transaction)),\n\u001b[1;32m     38\u001b[0m         )\n\u001b[1;32m     39\u001b[0m         \u001b[38;5;28;01mreturn\u001b[39;00m make_request(method, [transaction])\n\u001b[0;32m---> 40\u001b[0m \u001b[38;5;28;01mreturn\u001b[39;00m \u001b[43mmake_request\u001b[49m\u001b[43m(\u001b[49m\u001b[43mmethod\u001b[49m\u001b[43m,\u001b[49m\u001b[43m \u001b[49m\u001b[43mparams\u001b[49m\u001b[43m)\u001b[49m\n",
      "File \u001b[0;32m/Library/Frameworks/Python.framework/Versions/3.9/lib/python3.9/site-packages/web3/middleware/exception_retry_request.py:105\u001b[0m, in \u001b[0;36mexception_retry_middleware.<locals>.middleware\u001b[0;34m(method, params)\u001b[0m\n\u001b[1;32m    103\u001b[0m \u001b[38;5;28;01mfor\u001b[39;00m i \u001b[38;5;129;01min\u001b[39;00m \u001b[38;5;28mrange\u001b[39m(retries):\n\u001b[1;32m    104\u001b[0m     \u001b[38;5;28;01mtry\u001b[39;00m:\n\u001b[0;32m--> 105\u001b[0m         \u001b[38;5;28;01mreturn\u001b[39;00m \u001b[43mmake_request\u001b[49m\u001b[43m(\u001b[49m\u001b[43mmethod\u001b[49m\u001b[43m,\u001b[49m\u001b[43m \u001b[49m\u001b[43mparams\u001b[49m\u001b[43m)\u001b[49m\n\u001b[1;32m    106\u001b[0m     \u001b[38;5;66;03m# https://github.com/python/mypy/issues/5349\u001b[39;00m\n\u001b[1;32m    107\u001b[0m     \u001b[38;5;28;01mexcept\u001b[39;00m errors:  \u001b[38;5;66;03m# type: ignore\u001b[39;00m\n",
      "File \u001b[0;32m/Library/Frameworks/Python.framework/Versions/3.9/lib/python3.9/site-packages/web3/providers/rpc.py:88\u001b[0m, in \u001b[0;36mHTTPProvider.make_request\u001b[0;34m(self, method, params)\u001b[0m\n\u001b[1;32m     85\u001b[0m \u001b[38;5;28mself\u001b[39m\u001b[38;5;241m.\u001b[39mlogger\u001b[38;5;241m.\u001b[39mdebug(\u001b[38;5;124m\"\u001b[39m\u001b[38;5;124mMaking request HTTP. URI: \u001b[39m\u001b[38;5;132;01m%s\u001b[39;00m\u001b[38;5;124m, Method: \u001b[39m\u001b[38;5;132;01m%s\u001b[39;00m\u001b[38;5;124m\"\u001b[39m,\n\u001b[1;32m     86\u001b[0m                   \u001b[38;5;28mself\u001b[39m\u001b[38;5;241m.\u001b[39mendpoint_uri, method)\n\u001b[1;32m     87\u001b[0m request_data \u001b[38;5;241m=\u001b[39m \u001b[38;5;28mself\u001b[39m\u001b[38;5;241m.\u001b[39mencode_rpc_request(method, params)\n\u001b[0;32m---> 88\u001b[0m raw_response \u001b[38;5;241m=\u001b[39m \u001b[43mmake_post_request\u001b[49m\u001b[43m(\u001b[49m\n\u001b[1;32m     89\u001b[0m \u001b[43m    \u001b[49m\u001b[38;5;28;43mself\u001b[39;49m\u001b[38;5;241;43m.\u001b[39;49m\u001b[43mendpoint_uri\u001b[49m\u001b[43m,\u001b[49m\n\u001b[1;32m     90\u001b[0m \u001b[43m    \u001b[49m\u001b[43mrequest_data\u001b[49m\u001b[43m,\u001b[49m\n\u001b[1;32m     91\u001b[0m \u001b[43m    \u001b[49m\u001b[38;5;241;43m*\u001b[39;49m\u001b[38;5;241;43m*\u001b[39;49m\u001b[38;5;28;43mself\u001b[39;49m\u001b[38;5;241;43m.\u001b[39;49m\u001b[43mget_request_kwargs\u001b[49m\u001b[43m(\u001b[49m\u001b[43m)\u001b[49m\n\u001b[1;32m     92\u001b[0m \u001b[43m\u001b[49m\u001b[43m)\u001b[49m\n\u001b[1;32m     93\u001b[0m response \u001b[38;5;241m=\u001b[39m \u001b[38;5;28mself\u001b[39m\u001b[38;5;241m.\u001b[39mdecode_rpc_response(raw_response)\n\u001b[1;32m     94\u001b[0m \u001b[38;5;28mself\u001b[39m\u001b[38;5;241m.\u001b[39mlogger\u001b[38;5;241m.\u001b[39mdebug(\u001b[38;5;124m\"\u001b[39m\u001b[38;5;124mGetting response HTTP. URI: \u001b[39m\u001b[38;5;132;01m%s\u001b[39;00m\u001b[38;5;124m, \u001b[39m\u001b[38;5;124m\"\u001b[39m\n\u001b[1;32m     95\u001b[0m                   \u001b[38;5;124m\"\u001b[39m\u001b[38;5;124mMethod: \u001b[39m\u001b[38;5;132;01m%s\u001b[39;00m\u001b[38;5;124m, Response: \u001b[39m\u001b[38;5;132;01m%s\u001b[39;00m\u001b[38;5;124m\"\u001b[39m,\n\u001b[1;32m     96\u001b[0m                   \u001b[38;5;28mself\u001b[39m\u001b[38;5;241m.\u001b[39mendpoint_uri, method, response)\n",
      "File \u001b[0;32m/Library/Frameworks/Python.framework/Versions/3.9/lib/python3.9/site-packages/web3/_utils/request.py:112\u001b[0m, in \u001b[0;36mmake_post_request\u001b[0;34m(endpoint_uri, data, *args, **kwargs)\u001b[0m\n\u001b[1;32m    110\u001b[0m session \u001b[38;5;241m=\u001b[39m _get_session(endpoint_uri)\n\u001b[1;32m    111\u001b[0m \u001b[38;5;66;03m# https://github.com/python/mypy/issues/2582\u001b[39;00m\n\u001b[0;32m--> 112\u001b[0m response \u001b[38;5;241m=\u001b[39m \u001b[43msession\u001b[49m\u001b[38;5;241;43m.\u001b[39;49m\u001b[43mpost\u001b[49m\u001b[43m(\u001b[49m\u001b[43mendpoint_uri\u001b[49m\u001b[43m,\u001b[49m\u001b[43m \u001b[49m\u001b[43mdata\u001b[49m\u001b[38;5;241;43m=\u001b[39;49m\u001b[43mdata\u001b[49m\u001b[43m,\u001b[49m\u001b[43m \u001b[49m\u001b[38;5;241;43m*\u001b[39;49m\u001b[43margs\u001b[49m\u001b[43m,\u001b[49m\u001b[43m \u001b[49m\u001b[38;5;241;43m*\u001b[39;49m\u001b[38;5;241;43m*\u001b[39;49m\u001b[43mkwargs\u001b[49m\u001b[43m)\u001b[49m  \u001b[38;5;66;03m# type: ignore\u001b[39;00m\n\u001b[1;32m    113\u001b[0m response\u001b[38;5;241m.\u001b[39mraise_for_status()\n\u001b[1;32m    115\u001b[0m \u001b[38;5;28;01mreturn\u001b[39;00m response\u001b[38;5;241m.\u001b[39mcontent\n",
      "File \u001b[0;32m/Library/Frameworks/Python.framework/Versions/3.9/lib/python3.9/site-packages/requests/sessions.py:577\u001b[0m, in \u001b[0;36mSession.post\u001b[0;34m(self, url, data, json, **kwargs)\u001b[0m\n\u001b[1;32m    566\u001b[0m \u001b[38;5;28;01mdef\u001b[39;00m \u001b[38;5;21mpost\u001b[39m(\u001b[38;5;28mself\u001b[39m, url, data\u001b[38;5;241m=\u001b[39m\u001b[38;5;28;01mNone\u001b[39;00m, json\u001b[38;5;241m=\u001b[39m\u001b[38;5;28;01mNone\u001b[39;00m, \u001b[38;5;241m*\u001b[39m\u001b[38;5;241m*\u001b[39mkwargs):\n\u001b[1;32m    567\u001b[0m     \u001b[38;5;124mr\u001b[39m\u001b[38;5;124;03m\"\"\"Sends a POST request. Returns :class:`Response` object.\u001b[39;00m\n\u001b[1;32m    568\u001b[0m \n\u001b[1;32m    569\u001b[0m \u001b[38;5;124;03m    :param url: URL for the new :class:`Request` object.\u001b[39;00m\n\u001b[0;32m   (...)\u001b[0m\n\u001b[1;32m    574\u001b[0m \u001b[38;5;124;03m    :rtype: requests.Response\u001b[39;00m\n\u001b[1;32m    575\u001b[0m \u001b[38;5;124;03m    \"\"\"\u001b[39;00m\n\u001b[0;32m--> 577\u001b[0m     \u001b[38;5;28;01mreturn\u001b[39;00m \u001b[38;5;28;43mself\u001b[39;49m\u001b[38;5;241;43m.\u001b[39;49m\u001b[43mrequest\u001b[49m\u001b[43m(\u001b[49m\u001b[38;5;124;43m'\u001b[39;49m\u001b[38;5;124;43mPOST\u001b[39;49m\u001b[38;5;124;43m'\u001b[39;49m\u001b[43m,\u001b[49m\u001b[43m \u001b[49m\u001b[43murl\u001b[49m\u001b[43m,\u001b[49m\u001b[43m \u001b[49m\u001b[43mdata\u001b[49m\u001b[38;5;241;43m=\u001b[39;49m\u001b[43mdata\u001b[49m\u001b[43m,\u001b[49m\u001b[43m \u001b[49m\u001b[43mjson\u001b[49m\u001b[38;5;241;43m=\u001b[39;49m\u001b[43mjson\u001b[49m\u001b[43m,\u001b[49m\u001b[43m \u001b[49m\u001b[38;5;241;43m*\u001b[39;49m\u001b[38;5;241;43m*\u001b[39;49m\u001b[43mkwargs\u001b[49m\u001b[43m)\u001b[49m\n",
      "File \u001b[0;32m/Library/Frameworks/Python.framework/Versions/3.9/lib/python3.9/site-packages/requests/sessions.py:529\u001b[0m, in \u001b[0;36mSession.request\u001b[0;34m(self, method, url, params, data, headers, cookies, files, auth, timeout, allow_redirects, proxies, hooks, stream, verify, cert, json)\u001b[0m\n\u001b[1;32m    524\u001b[0m send_kwargs \u001b[38;5;241m=\u001b[39m {\n\u001b[1;32m    525\u001b[0m     \u001b[38;5;124m'\u001b[39m\u001b[38;5;124mtimeout\u001b[39m\u001b[38;5;124m'\u001b[39m: timeout,\n\u001b[1;32m    526\u001b[0m     \u001b[38;5;124m'\u001b[39m\u001b[38;5;124mallow_redirects\u001b[39m\u001b[38;5;124m'\u001b[39m: allow_redirects,\n\u001b[1;32m    527\u001b[0m }\n\u001b[1;32m    528\u001b[0m send_kwargs\u001b[38;5;241m.\u001b[39mupdate(settings)\n\u001b[0;32m--> 529\u001b[0m resp \u001b[38;5;241m=\u001b[39m \u001b[38;5;28;43mself\u001b[39;49m\u001b[38;5;241;43m.\u001b[39;49m\u001b[43msend\u001b[49m\u001b[43m(\u001b[49m\u001b[43mprep\u001b[49m\u001b[43m,\u001b[49m\u001b[43m \u001b[49m\u001b[38;5;241;43m*\u001b[39;49m\u001b[38;5;241;43m*\u001b[39;49m\u001b[43msend_kwargs\u001b[49m\u001b[43m)\u001b[49m\n\u001b[1;32m    531\u001b[0m \u001b[38;5;28;01mreturn\u001b[39;00m resp\n",
      "File \u001b[0;32m/Library/Frameworks/Python.framework/Versions/3.9/lib/python3.9/site-packages/requests/sessions.py:645\u001b[0m, in \u001b[0;36mSession.send\u001b[0;34m(self, request, **kwargs)\u001b[0m\n\u001b[1;32m    642\u001b[0m start \u001b[38;5;241m=\u001b[39m preferred_clock()\n\u001b[1;32m    644\u001b[0m \u001b[38;5;66;03m# Send the request\u001b[39;00m\n\u001b[0;32m--> 645\u001b[0m r \u001b[38;5;241m=\u001b[39m \u001b[43madapter\u001b[49m\u001b[38;5;241;43m.\u001b[39;49m\u001b[43msend\u001b[49m\u001b[43m(\u001b[49m\u001b[43mrequest\u001b[49m\u001b[43m,\u001b[49m\u001b[43m \u001b[49m\u001b[38;5;241;43m*\u001b[39;49m\u001b[38;5;241;43m*\u001b[39;49m\u001b[43mkwargs\u001b[49m\u001b[43m)\u001b[49m\n\u001b[1;32m    647\u001b[0m \u001b[38;5;66;03m# Total elapsed time of the request (approximately)\u001b[39;00m\n\u001b[1;32m    648\u001b[0m elapsed \u001b[38;5;241m=\u001b[39m preferred_clock() \u001b[38;5;241m-\u001b[39m start\n",
      "File \u001b[0;32m/Library/Frameworks/Python.framework/Versions/3.9/lib/python3.9/site-packages/requests/adapters.py:519\u001b[0m, in \u001b[0;36mHTTPAdapter.send\u001b[0;34m(self, request, stream, timeout, verify, cert, proxies)\u001b[0m\n\u001b[1;32m    515\u001b[0m     \u001b[38;5;28;01mif\u001b[39;00m \u001b[38;5;28misinstance\u001b[39m(e\u001b[38;5;241m.\u001b[39mreason, _SSLError):\n\u001b[1;32m    516\u001b[0m         \u001b[38;5;66;03m# This branch is for urllib3 v1.22 and later.\u001b[39;00m\n\u001b[1;32m    517\u001b[0m         \u001b[38;5;28;01mraise\u001b[39;00m SSLError(e, request\u001b[38;5;241m=\u001b[39mrequest)\n\u001b[0;32m--> 519\u001b[0m     \u001b[38;5;28;01mraise\u001b[39;00m \u001b[38;5;167;01mConnectionError\u001b[39;00m(e, request\u001b[38;5;241m=\u001b[39mrequest)\n\u001b[1;32m    521\u001b[0m \u001b[38;5;28;01mexcept\u001b[39;00m ClosedPoolError \u001b[38;5;28;01mas\u001b[39;00m e:\n\u001b[1;32m    522\u001b[0m     \u001b[38;5;28;01mraise\u001b[39;00m \u001b[38;5;167;01mConnectionError\u001b[39;00m(e, request\u001b[38;5;241m=\u001b[39mrequest)\n",
      "\u001b[0;31mConnectionError\u001b[0m: HTTPConnectionPool(host='127.0.0.1', port=7545): Max retries exceeded with url: / (Caused by NewConnectionError('<urllib3.connection.HTTPConnection object at 0x7fd8f927bb80>: Failed to establish a new connection: [Errno 61] Connection refused'))"
     ]
    }
   ],
   "source": [
    "from web3 import Web3\n",
    "w3 = Web3(Web3.HTTPProvider('http://127.0.0.1:7545'))\n",
    "w3.isConnected()\n",
    "w3.eth.default_account = w3.eth.accounts[0]\n",
    "abi = contract_interface['abi']\n",
    "bytecode = contract_interface['bin']\n",
    "Bank = w3.eth.contract(abi=abi, bytecode = bytecode)\n",
    "print(Bank)"
   ]
  },
  {
   "cell_type": "code",
   "execution_count": 21,
   "id": "b850d9ab",
   "metadata": {},
   "outputs": [
    {
     "name": "stdout",
     "output_type": "stream",
     "text": [
      "b'\\xca\\xd9gI\\x01\\x8a\\x14\\xde\\xe0\\xb4\\xa3\\x03k\\xeep\\xee4\\x10\\x82\\xcc\\x92\\xaa\\xcb\\xd9\\ro\\xde\\xa8eO\\x02\\xf8'\n"
     ]
    }
   ],
   "source": [
    "transcation_Hash = Bank.constructor().transact()\n",
    "print(transcation_Hash)"
   ]
  },
  {
   "cell_type": "markdown",
   "id": "3c666e98",
   "metadata": {},
   "source": [
    "transcation_receipt = w3.eth.wait_for_transaction_receipt(transcation_Hash)\n",
    "print(transcation_receipt)"
   ]
  },
  {
   "cell_type": "code",
   "execution_count": null,
   "id": "d33a4d2f",
   "metadata": {},
   "outputs": [],
   "source": [
    "##Calling Function To Print Values"
   ]
  },
  {
   "cell_type": "code",
   "execution_count": 31,
   "id": "fba5cab5",
   "metadata": {},
   "outputs": [],
   "source": [
    "Bankcontract = w3.eth.contract(address = transcation_receipt.contractAddress, abi=abi)"
   ]
  },
  {
   "cell_type": "code",
   "execution_count": 42,
   "id": "3547f121",
   "metadata": {},
   "outputs": [
    {
     "data": {
      "text/plain": [
       "110"
      ]
     },
     "execution_count": 42,
     "metadata": {},
     "output_type": "execute_result"
    }
   ],
   "source": [
    "Bankcontract.functions.getBalance().call()"
   ]
  },
  {
   "cell_type": "code",
   "execution_count": null,
   "id": "fbc0423d",
   "metadata": {},
   "outputs": [],
   "source": [
    "##Doing Transcation with Deposit Call Function"
   ]
  },
  {
   "cell_type": "code",
   "execution_count": 41,
   "id": "a3f3a652",
   "metadata": {},
   "outputs": [
    {
     "name": "stdout",
     "output_type": "stream",
     "text": [
      "b\"\\xefm\\xec\\x93\\x8c\\xfbl\\x937\\xfc\\x8e\\xa9\\xa3\\xce2+&kE\\xbdtr\\x84\\xdb\\x16H.\\x04\\xc1'\\x02\\x88\"\n",
      "AttributeDict({'transactionHash': HexBytes('0xef6dec938cfb6c9337fc8ea9a3ce322b266b45bd747284db16482e04c1270288'), 'transactionIndex': 0, 'blockNumber': 4, 'blockHash': HexBytes('0x93d3588ba8d65c19077b3f26acb8c9c3fdeaa5814fe2d28e560378f35a04f956'), 'from': '0x85BF50788c3f3b3dF633F069057E82519a515629', 'to': '0x70fB2ac1E235aDfeE882C064FBC9799bF9E6a185', 'cumulativeGasUsed': 26518, 'gasUsed': 26518, 'contractAddress': None, 'logs': [], 'logsBloom': HexBytes('0x00000000000000000000000000000000000000000000000000000000000000000000000000000000000000000000000000000000000000000000000000000000000000000000000000000000000000000000000000000000000000000000000000000000000000000000000000000000000000000000000000000000000000000000000000000000000000000000000000000000000000000000000000000000000000000000000000000000000000000000000000000000000000000000000000000000000000000000000000000000000000000000000000000000000000000000000000000000000000000000000000000000000000000000000000000000'), 'status': 1, 'effectiveGasPrice': 750591730, 'type': '0x2'})\n"
     ]
    }
   ],
   "source": [
    "deposit_Hash = Bankcontract.functions.deposit(100).transact()\n",
    "print(deposit_Hash)\n",
    "deposit_receipt = w3.eth.wait_for_transaction_receipt(deposit_Hash)\n",
    "print(deposit_receipt)"
   ]
  },
  {
   "cell_type": "code",
   "execution_count": null,
   "id": "af0c6863",
   "metadata": {},
   "outputs": [],
   "source": [
    "##Doing Transcation with withdraw Call Function"
   ]
  },
  {
   "cell_type": "code",
   "execution_count": 39,
   "id": "45e3aeac",
   "metadata": {},
   "outputs": [
    {
     "name": "stdout",
     "output_type": "stream",
     "text": [
      "b'+,Gt^E\\x8f\\xcc\\xdf\\x14\\xc6\\xd1\\xd7[\\x10\\tm\\x9d\\xca\\xb5\\xdf\\xfd\\x0bx\\xfc\\xc3\\xfe\\xf7\\x96\\x9e\\xc7\\xb4'\n",
      "AttributeDict({'transactionHash': HexBytes('0xc0a1b32f2d015e5b665071bc5ef396808fb2e18f0f36514987a1bcdcffddce0c'), 'transactionIndex': 0, 'blockNumber': 3, 'blockHash': HexBytes('0x3ce0436ff34c9c1696e19db455de2aaa6302bc4002687bd36aecec8cf3332a7a'), 'from': '0x85BF50788c3f3b3dF633F069057E82519a515629', 'to': '0x70fB2ac1E235aDfeE882C064FBC9799bF9E6a185', 'cumulativeGasUsed': 26452, 'gasUsed': 26452, 'contractAddress': None, 'logs': [], 'logsBloom': HexBytes('0x00000000000000000000000000000000000000000000000000000000000000000000000000000000000000000000000000000000000000000000000000000000000000000000000000000000000000000000000000000000000000000000000000000000000000000000000000000000000000000000000000000000000000000000000000000000000000000000000000000000000000000000000000000000000000000000000000000000000000000000000000000000000000000000000000000000000000000000000000000000000000000000000000000000000000000000000000000000000000000000000000000000000000000000000000000000'), 'status': 1, 'effectiveGasPrice': 856855731, 'type': '0x2'})\n"
     ]
    }
   ],
   "source": [
    "withdraw_Hash = Bankcontract.functions.withdraw(100).transact()\n",
    "print(deposit_Hash)\n",
    "withdraw_receipt = w3.eth.wait_for_transaction_receipt(withdraw_Hash)\n",
    "print(withdraw_receipt)"
   ]
  },
  {
   "cell_type": "code",
   "execution_count": 81,
   "id": "d506ec11",
   "metadata": {},
   "outputs": [
    {
     "name": "stdout",
     "output_type": "stream",
     "text": [
      "<stdin>:Bank\n",
      "6080604052600a600055606460015534801561001a57600080fd5b506102448061002a6000396000f3fe608060405234801561001057600080fd5b50600436106100625760003560e01c806312065fe0146100675780632e1a7d4d146100855780633d79d1c8146100b3578063b69ef8a8146100d1578063b6b55f25146100ef578063ef5fb05b1461011d575b600080fd5b61006f6101a0565b6040518082815260200191505060405180910390f35b6100b16004803603602081101561009b57600080fd5b81019080803590602001909291905050506101a9565b005b6100bb6101b7565b6040518082815260200191505060405180910390f35b6100d96101bd565b6040518082815260200191505060405180910390f35b61011b6004803603602081101561010557600080fd5b81019080803590602001909291905050506101c3565b005b6101256101d1565b6040518080602001828103825283818151815260200191508051906020019080838360005b8381101561016557808201518184015260208101905061014a565b50505050905090810190601f1680156101925780820380516001836020036101000a031916815260200191505b509250505060405180910390f35b60008054905090565b806000540360008190555050565b60005481565b60015481565b806000540160008190555050565b60606040518060400160405280600581526020017f68656c6c6f00000000000000000000000000000000000000000000000000000081525090509056fea26469706673582212205ed3cfdbd6ea3b90d73d01b812076ba805e69a72e94de7113f3a83c12997547364736f6c63430006000033\n",
      "<class 'web3._utils.datatypes.Contract'>\n",
      "b'\\xe4\\x94rZ\\xdd\\xf7\\x07\\x15\\xcb\\xf1\\xdd,\\xec#\\x82\\x1f-\\x8b\\xc2=\\xb8\\x9bWxo\\xa6\\\\\\r\\xc5t-P'\n",
      "AttributeDict({'transactionHash': HexBytes('0xe494725addf70715cbf1dd2cec23821f2d8bc23db89b57786fa65c0dc5742d50'), 'transactionIndex': 0, 'blockNumber': 133, 'blockHash': HexBytes('0x1f60399fb0cce80474ca38ce8cea87b38c1168a901fa0f442a7cb231de61004b'), 'from': '0x77e26c93801d33419f574B67EdDa1246dd2e25E2', 'to': None, 'cumulativeGasUsed': 222573, 'gasUsed': 222573, 'contractAddress': '0x09BbF6053C337E3c9Db9B589bB2aF51FDC76ABc1', 'logs': [], 'logsBloom': HexBytes('0x00000000000000000000000000000000000000000000000000000000000000000000000000000000000000000000000000000000000000000000000000000000000000000000000000000000000000000000000000000000000000000000000000000000000000000000000000000000000000000000000000000000000000000000000000000000000000000000000000000000000000000000000000000000000000000000000000000000000000000000000000000000000000000000000000000000000000000000000000000000000000000000000000000000000000000000000000000000000000000000000000000000000000000000000000000000'), 'status': 1, 'effectiveGasPrice': 119, 'type': '0x2'})\n",
      "b'x|\\x0f\\xba\\x0bp\\x97\\x06\\xf7\\xd3;*`MB\\xc0\\xa9<\\xb1\\xff\\x86w<\\xea?\\xa7\\xf4v\\xba\\xab\\xbeL'\n",
      "AttributeDict({'transactionHash': HexBytes('0x787c0fba0b709706f7d33b2a604d42c0a93cb1ff86773cea3fa7f476baabbe4c'), 'transactionIndex': 0, 'blockNumber': 134, 'blockHash': HexBytes('0x8d3c3f71cbf190b5ec30ff835aa73bad77e28f9506ed16fbf739d61e8b1277af'), 'from': '0x77e26c93801d33419f574B67EdDa1246dd2e25E2', 'to': '0x09BbF6053C337E3c9Db9B589bB2aF51FDC76ABc1', 'cumulativeGasUsed': 26518, 'gasUsed': 26518, 'contractAddress': None, 'logs': [], 'logsBloom': HexBytes('0x00000000000000000000000000000000000000000000000000000000000000000000000000000000000000000000000000000000000000000000000000000000000000000000000000000000000000000000000000000000000000000000000000000000000000000000000000000000000000000000000000000000000000000000000000000000000000000000000000000000000000000000000000000000000000000000000000000000000000000000000000000000000000000000000000000000000000000000000000000000000000000000000000000000000000000000000000000000000000000000000000000000000000000000000000000000'), 'status': 1, 'effectiveGasPrice': 105, 'type': '0x2'})\n",
      "b'x|\\x0f\\xba\\x0bp\\x97\\x06\\xf7\\xd3;*`MB\\xc0\\xa9<\\xb1\\xff\\x86w<\\xea?\\xa7\\xf4v\\xba\\xab\\xbeL'\n",
      "AttributeDict({'transactionHash': HexBytes('0x00ee8c99c64cf66b21066fe256d2833eb23af601baac1b2a1d210d03b0718480'), 'transactionIndex': 0, 'blockNumber': 135, 'blockHash': HexBytes('0x7ce26f110023a927ed1fc3861577f439216d97332248efe83d13a8bc2848db65'), 'from': '0x77e26c93801d33419f574B67EdDa1246dd2e25E2', 'to': '0x09BbF6053C337E3c9Db9B589bB2aF51FDC76ABc1', 'cumulativeGasUsed': 26452, 'gasUsed': 26452, 'contractAddress': None, 'logs': [], 'logsBloom': HexBytes('0x00000000000000000000000000000000000000000000000000000000000000000000000000000000000000000000000000000000000000000000000000000000000000000000000000000000000000000000000000000000000000000000000000000000000000000000000000000000000000000000000000000000000000000000000000000000000000000000000000000000000000000000000000000000000000000000000000000000000000000000000000000000000000000000000000000000000000000000000000000000000000000000000000000000000000000000000000000000000000000000000000000000000000000000000000000000'), 'status': 1, 'effectiveGasPrice': 93, 'type': '0x2'})\n"
     ]
    }
   ],
   "source": [
    "## Compiling Contract\n",
    "\n",
    "from solcx import compile_source\n",
    "\n",
    "cs = compile_source(\n",
    "'''\n",
    "pragma solidity >0.4.25;\n",
    "\n",
    "contract Bank\n",
    "{\n",
    "    uint256 public bal = 10;\n",
    "    uint256 public balance = 100;\n",
    "\n",
    "    \n",
    "    function getBalance() view public returns(uint256)\n",
    "    {\n",
    "\n",
    "        return bal;\n",
    "       \n",
    "    }\n",
    "\n",
    "    function withdraw(uint256 amt) public\n",
    "    {\n",
    "        bal = bal - amt;\n",
    "\n",
    "    }\n",
    "\n",
    "     function deposit(uint256 amt) public\n",
    "    {\n",
    "        bal = bal + amt;\n",
    "\n",
    "    }\n",
    "\n",
    "    function sayHello() view public returns(string memory newName)\n",
    "    {\n",
    "    newName = \"hello\";\n",
    "    }\n",
    "}\n",
    "\n",
    "''', output_values=['abi','bin']\n",
    "\n",
    ")\n",
    "\n",
    "contract_id, contract_interface = cs.popitem()\n",
    "\n",
    "print(contract_id)\n",
    "\n",
    "print(contract_interface['bin'])\n",
    "\n",
    "## Deploying Contract to LocalHost Blockchain\n",
    "\n",
    "from web3 import Web3\n",
    "w3 = Web3(Web3.HTTPProvider('http://127.0.0.1:7545'))\n",
    "w3.isConnected()\n",
    "w3.eth.default_account = w3.eth.accounts[0]\n",
    "abi = contract_interface['abi']\n",
    "bytecode = contract_interface['bin']\n",
    "Bank = w3.eth.contract(abi=abi, bytecode = bytecode)\n",
    "print(Bank)\n",
    "\n",
    "transcation_Hash = Bank.constructor().transact()\n",
    "print(transcation_Hash)\n",
    "\n",
    "transcation_receipt = w3.eth.wait_for_transaction_receipt(transcation_Hash)\n",
    "print(transcation_receipt)\n",
    "\n",
    "##Calling Function To Print Values\n",
    "\n",
    "Bankcontract = w3.eth.contract(address = transcation_receipt.contractAddress, abi=abi)\n",
    "\n",
    "Bankcontract.functions.getBalance().call()\n",
    "\n",
    "##Doing Transcation with Deposit Call Function\n",
    "\n",
    "deposit_Hash = Bankcontract.functions.deposit(100).transact()\n",
    "print(deposit_Hash)\n",
    "deposit_receipt = w3.eth.wait_for_transaction_receipt(deposit_Hash)\n",
    "print(deposit_receipt)\n",
    "\n",
    "##Doing Transcation with withdraw Call Function\n",
    "\n",
    "withdraw_Hash = Bankcontract.functions.withdraw(100).transact()\n",
    "print(deposit_Hash)\n",
    "withdraw_receipt = w3.eth.wait_for_transaction_receipt(withdraw_Hash)\n",
    "print(withdraw_receipt)"
   ]
  },
  {
   "cell_type": "code",
   "execution_count": null,
   "id": "0ce0608d",
   "metadata": {},
   "outputs": [],
   "source": [
    "################## Python Dataencapsulation #####################"
   ]
  },
  {
   "cell_type": "code",
   "execution_count": 1,
   "id": "18429dcf",
   "metadata": {},
   "outputs": [
    {
     "ename": "SolcError",
     "evalue": "An error occurred during execution\n> command: `/Users/dipenbhuva/.solcx/solc-v0.6.0 --combined-json abi,bin -`\n> return code: `1`\n> stdout:\n\n> stderr:\nError: Expected ';' but got '='\n --> <stdin>:8:22:\n  |\n8 |         string master=0xf43c7B89A21d77Fe2Cd28951e8A1f2b2eAf9dd2B;\n  |                      ^",
     "output_type": "error",
     "traceback": [
      "\u001b[0;31m---------------------------------------------------------------------------\u001b[0m",
      "\u001b[0;31mSolcError\u001b[0m                                 Traceback (most recent call last)",
      "Cell \u001b[0;32mIn [1], line 14\u001b[0m\n\u001b[1;32m     12\u001b[0m \u001b[38;5;28;01mwith\u001b[39;00m \u001b[38;5;28mopen\u001b[39m(\u001b[38;5;124m'\u001b[39m\u001b[38;5;124mdata.sol\u001b[39m\u001b[38;5;124m'\u001b[39m, \u001b[38;5;124m'\u001b[39m\u001b[38;5;124mr\u001b[39m\u001b[38;5;124m'\u001b[39m) \u001b[38;5;28;01mas\u001b[39;00m f:\n\u001b[1;32m     13\u001b[0m     contract_source_code \u001b[38;5;241m=\u001b[39m f\u001b[38;5;241m.\u001b[39mread()\n\u001b[0;32m---> 14\u001b[0m     contract_compiled \u001b[38;5;241m=\u001b[39m compile_source(contract_source_code, output_values\u001b[38;5;241m=\u001b[39m[\u001b[38;5;124m'\u001b[39m\u001b[38;5;124mabi\u001b[39m\u001b[38;5;124m'\u001b[39m,\u001b[38;5;124m'\u001b[39m\u001b[38;5;124mbin\u001b[39m\u001b[38;5;124m'\u001b[39m])\n\u001b[1;32m     15\u001b[0m     contract_id, contract_interface \u001b[38;5;241m=\u001b[39m contract_compiled\u001b[38;5;241m.\u001b[39mpopitem()\n\u001b[1;32m     16\u001b[0m \u001b[38;5;66;03m# Deploy the contract\u001b[39;00m\n",
      "File \u001b[0;32m/Library/Frameworks/Python.framework/Versions/3.9/lib/python3.9/site-packages/solcx/main.py:112\u001b[0m, in \u001b[0;36mcompile_source\u001b[0;34m(source, output_values, import_remappings, base_path, allow_paths, output_dir, overwrite, evm_version, revert_strings, metadata_hash, metadata_literal, optimize, optimize_runs, optimize_yul, no_optimize_yul, yul_optimizations, solc_binary, solc_version, allow_empty)\u001b[0m\n\u001b[1;32m     30\u001b[0m \u001b[38;5;28;01mdef\u001b[39;00m \u001b[38;5;21mcompile_source\u001b[39m(\n\u001b[1;32m     31\u001b[0m     source: \u001b[38;5;28mstr\u001b[39m,\n\u001b[1;32m     32\u001b[0m     output_values: List \u001b[38;5;241m=\u001b[39m \u001b[38;5;28;01mNone\u001b[39;00m,\n\u001b[0;32m   (...)\u001b[0m\n\u001b[1;32m     49\u001b[0m     allow_empty: \u001b[38;5;28mbool\u001b[39m \u001b[38;5;241m=\u001b[39m \u001b[38;5;28;01mFalse\u001b[39;00m,\n\u001b[1;32m     50\u001b[0m ) \u001b[38;5;241m-\u001b[39m\u001b[38;5;241m>\u001b[39m Dict:\n\u001b[1;32m     51\u001b[0m     \u001b[38;5;124;03m\"\"\"\u001b[39;00m\n\u001b[1;32m     52\u001b[0m \u001b[38;5;124;03m    Compile a Solidity contract.\u001b[39;00m\n\u001b[1;32m     53\u001b[0m \n\u001b[0;32m   (...)\u001b[0m\n\u001b[1;32m    110\u001b[0m \u001b[38;5;124;03m        Compiler output. The source file name is given as `<stdin>`.\u001b[39;00m\n\u001b[1;32m    111\u001b[0m \u001b[38;5;124;03m    \"\"\"\u001b[39;00m\n\u001b[0;32m--> 112\u001b[0m     \u001b[38;5;28;01mreturn\u001b[39;00m \u001b[43m_compile_combined_json\u001b[49m\u001b[43m(\u001b[49m\n\u001b[1;32m    113\u001b[0m \u001b[43m        \u001b[49m\u001b[43msolc_binary\u001b[49m\u001b[38;5;241;43m=\u001b[39;49m\u001b[43msolc_binary\u001b[49m\u001b[43m,\u001b[49m\n\u001b[1;32m    114\u001b[0m \u001b[43m        \u001b[49m\u001b[43msolc_version\u001b[49m\u001b[38;5;241;43m=\u001b[39;49m\u001b[43msolc_version\u001b[49m\u001b[43m,\u001b[49m\n\u001b[1;32m    115\u001b[0m \u001b[43m        \u001b[49m\u001b[43mstdin\u001b[49m\u001b[38;5;241;43m=\u001b[39;49m\u001b[43msource\u001b[49m\u001b[43m,\u001b[49m\n\u001b[1;32m    116\u001b[0m \u001b[43m        \u001b[49m\u001b[43moutput_values\u001b[49m\u001b[38;5;241;43m=\u001b[39;49m\u001b[43moutput_values\u001b[49m\u001b[43m,\u001b[49m\n\u001b[1;32m    117\u001b[0m \u001b[43m        \u001b[49m\u001b[43mimport_remappings\u001b[49m\u001b[38;5;241;43m=\u001b[39;49m\u001b[43mimport_remappings\u001b[49m\u001b[43m,\u001b[49m\n\u001b[1;32m    118\u001b[0m \u001b[43m        \u001b[49m\u001b[43mbase_path\u001b[49m\u001b[38;5;241;43m=\u001b[39;49m\u001b[43mbase_path\u001b[49m\u001b[43m,\u001b[49m\n\u001b[1;32m    119\u001b[0m \u001b[43m        \u001b[49m\u001b[43mallow_paths\u001b[49m\u001b[38;5;241;43m=\u001b[39;49m\u001b[43mallow_paths\u001b[49m\u001b[43m,\u001b[49m\n\u001b[1;32m    120\u001b[0m \u001b[43m        \u001b[49m\u001b[43moutput_dir\u001b[49m\u001b[38;5;241;43m=\u001b[39;49m\u001b[43moutput_dir\u001b[49m\u001b[43m,\u001b[49m\n\u001b[1;32m    121\u001b[0m \u001b[43m        \u001b[49m\u001b[43moverwrite\u001b[49m\u001b[38;5;241;43m=\u001b[39;49m\u001b[43moverwrite\u001b[49m\u001b[43m,\u001b[49m\n\u001b[1;32m    122\u001b[0m \u001b[43m        \u001b[49m\u001b[43mevm_version\u001b[49m\u001b[38;5;241;43m=\u001b[39;49m\u001b[43mevm_version\u001b[49m\u001b[43m,\u001b[49m\n\u001b[1;32m    123\u001b[0m \u001b[43m        \u001b[49m\u001b[43mrevert_strings\u001b[49m\u001b[38;5;241;43m=\u001b[39;49m\u001b[43mrevert_strings\u001b[49m\u001b[43m,\u001b[49m\n\u001b[1;32m    124\u001b[0m \u001b[43m        \u001b[49m\u001b[43mmetadata_hash\u001b[49m\u001b[38;5;241;43m=\u001b[39;49m\u001b[43mmetadata_hash\u001b[49m\u001b[43m,\u001b[49m\n\u001b[1;32m    125\u001b[0m \u001b[43m        \u001b[49m\u001b[43mmetadata_literal\u001b[49m\u001b[38;5;241;43m=\u001b[39;49m\u001b[43mmetadata_literal\u001b[49m\u001b[43m,\u001b[49m\n\u001b[1;32m    126\u001b[0m \u001b[43m        \u001b[49m\u001b[43moptimize\u001b[49m\u001b[38;5;241;43m=\u001b[39;49m\u001b[43moptimize\u001b[49m\u001b[43m,\u001b[49m\n\u001b[1;32m    127\u001b[0m \u001b[43m        \u001b[49m\u001b[43moptimize_runs\u001b[49m\u001b[38;5;241;43m=\u001b[39;49m\u001b[43moptimize_runs\u001b[49m\u001b[43m,\u001b[49m\n\u001b[1;32m    128\u001b[0m \u001b[43m        \u001b[49m\u001b[43mno_optimize_yul\u001b[49m\u001b[38;5;241;43m=\u001b[39;49m\u001b[43mno_optimize_yul\u001b[49m\u001b[43m,\u001b[49m\n\u001b[1;32m    129\u001b[0m \u001b[43m        \u001b[49m\u001b[43myul_optimizations\u001b[49m\u001b[38;5;241;43m=\u001b[39;49m\u001b[43myul_optimizations\u001b[49m\u001b[43m,\u001b[49m\n\u001b[1;32m    130\u001b[0m \u001b[43m        \u001b[49m\u001b[43mallow_empty\u001b[49m\u001b[38;5;241;43m=\u001b[39;49m\u001b[43mallow_empty\u001b[49m\u001b[43m,\u001b[49m\n\u001b[1;32m    131\u001b[0m \u001b[43m    \u001b[49m\u001b[43m)\u001b[49m\n",
      "File \u001b[0;32m/Library/Frameworks/Python.framework/Versions/3.9/lib/python3.9/site-packages/solcx/main.py:291\u001b[0m, in \u001b[0;36m_compile_combined_json\u001b[0;34m(output_values, solc_binary, solc_version, output_dir, overwrite, allow_empty, **kwargs)\u001b[0m\n\u001b[1;32m    286\u001b[0m         target_path \u001b[38;5;241m=\u001b[39m output_dir\u001b[38;5;241m.\u001b[39mjoinpath(\u001b[38;5;124m\"\u001b[39m\u001b[38;5;124mcombined.json\u001b[39m\u001b[38;5;124m\"\u001b[39m)\n\u001b[1;32m    287\u001b[0m         \u001b[38;5;28;01mraise\u001b[39;00m \u001b[38;5;167;01mFileExistsError\u001b[39;00m(\n\u001b[1;32m    288\u001b[0m             \u001b[38;5;124mf\u001b[39m\u001b[38;5;124m\"\u001b[39m\u001b[38;5;124mTarget output file \u001b[39m\u001b[38;5;132;01m{\u001b[39;00mtarget_path\u001b[38;5;132;01m}\u001b[39;00m\u001b[38;5;124m already exists - use overwrite=True to overwrite\u001b[39m\u001b[38;5;124m\"\u001b[39m\n\u001b[1;32m    289\u001b[0m         )\n\u001b[0;32m--> 291\u001b[0m stdoutdata, stderrdata, command, proc \u001b[38;5;241m=\u001b[39m \u001b[43mwrapper\u001b[49m\u001b[38;5;241;43m.\u001b[39;49m\u001b[43msolc_wrapper\u001b[49m\u001b[43m(\u001b[49m\n\u001b[1;32m    292\u001b[0m \u001b[43m    \u001b[49m\u001b[43msolc_binary\u001b[49m\u001b[38;5;241;43m=\u001b[39;49m\u001b[43msolc_binary\u001b[49m\u001b[43m,\u001b[49m\n\u001b[1;32m    293\u001b[0m \u001b[43m    \u001b[49m\u001b[43mcombined_json\u001b[49m\u001b[38;5;241;43m=\u001b[39;49m\u001b[43mcombined_json\u001b[49m\u001b[43m,\u001b[49m\n\u001b[1;32m    294\u001b[0m \u001b[43m    \u001b[49m\u001b[43moutput_dir\u001b[49m\u001b[38;5;241;43m=\u001b[39;49m\u001b[43moutput_dir\u001b[49m\u001b[43m,\u001b[49m\n\u001b[1;32m    295\u001b[0m \u001b[43m    \u001b[49m\u001b[43moverwrite\u001b[49m\u001b[38;5;241;43m=\u001b[39;49m\u001b[43moverwrite\u001b[49m\u001b[43m,\u001b[49m\n\u001b[1;32m    296\u001b[0m \u001b[43m    \u001b[49m\u001b[38;5;241;43m*\u001b[39;49m\u001b[38;5;241;43m*\u001b[39;49m\u001b[43mkwargs\u001b[49m\u001b[43m,\u001b[49m\n\u001b[1;32m    297\u001b[0m \u001b[43m\u001b[49m\u001b[43m)\u001b[49m\n\u001b[1;32m    299\u001b[0m \u001b[38;5;28;01mif\u001b[39;00m output_dir:\n\u001b[1;32m    300\u001b[0m     output_path \u001b[38;5;241m=\u001b[39m Path(output_dir)\u001b[38;5;241m.\u001b[39mjoinpath(\u001b[38;5;124m\"\u001b[39m\u001b[38;5;124mcombined.json\u001b[39m\u001b[38;5;124m\"\u001b[39m)\n",
      "File \u001b[0;32m/Library/Frameworks/Python.framework/Versions/3.9/lib/python3.9/site-packages/solcx/wrapper.py:158\u001b[0m, in \u001b[0;36msolc_wrapper\u001b[0;34m(solc_binary, stdin, source_files, import_remappings, success_return_code, **kwargs)\u001b[0m\n\u001b[1;32m    153\u001b[0m         flag \u001b[38;5;241m=\u001b[39m flag\u001b[38;5;241m.\u001b[39msplit(\u001b[38;5;124m\"\u001b[39m\u001b[38;5;124m \u001b[39m\u001b[38;5;124m\"\u001b[39m)[\u001b[38;5;241m-\u001b[39m\u001b[38;5;241m1\u001b[39m]\n\u001b[1;32m    154\u001b[0m         \u001b[38;5;28;01mraise\u001b[39;00m UnknownValue(\n\u001b[1;32m    155\u001b[0m             \u001b[38;5;124mf\u001b[39m\u001b[38;5;124m\"\u001b[39m\u001b[38;5;124msolc \u001b[39m\u001b[38;5;132;01m{\u001b[39;00msolc_version\u001b[38;5;132;01m}\u001b[39;00m\u001b[38;5;124m does not accept \u001b[39m\u001b[38;5;124m'\u001b[39m\u001b[38;5;132;01m{\u001b[39;00moption\u001b[38;5;132;01m}\u001b[39;00m\u001b[38;5;124m'\u001b[39m\u001b[38;5;124m as an option for the \u001b[39m\u001b[38;5;124m'\u001b[39m\u001b[38;5;132;01m{\u001b[39;00mflag\u001b[38;5;132;01m}\u001b[39;00m\u001b[38;5;124m'\u001b[39m\u001b[38;5;124m flag\u001b[39m\u001b[38;5;124m\"\u001b[39m\n\u001b[1;32m    156\u001b[0m         )\n\u001b[0;32m--> 158\u001b[0m     \u001b[38;5;28;01mraise\u001b[39;00m SolcError(\n\u001b[1;32m    159\u001b[0m         command\u001b[38;5;241m=\u001b[39mcommand,\n\u001b[1;32m    160\u001b[0m         return_code\u001b[38;5;241m=\u001b[39mproc\u001b[38;5;241m.\u001b[39mreturncode,\n\u001b[1;32m    161\u001b[0m         stdin_data\u001b[38;5;241m=\u001b[39mstdin,\n\u001b[1;32m    162\u001b[0m         stdout_data\u001b[38;5;241m=\u001b[39mstdoutdata,\n\u001b[1;32m    163\u001b[0m         stderr_data\u001b[38;5;241m=\u001b[39mstderrdata,\n\u001b[1;32m    164\u001b[0m     )\n\u001b[1;32m    166\u001b[0m \u001b[38;5;28;01mreturn\u001b[39;00m stdoutdata, stderrdata, command, proc\n",
      "\u001b[0;31mSolcError\u001b[0m: An error occurred during execution\n> command: `/Users/dipenbhuva/.solcx/solc-v0.6.0 --combined-json abi,bin -`\n> return code: `1`\n> stdout:\n\n> stderr:\nError: Expected ';' but got '='\n --> <stdin>:8:22:\n  |\n8 |         string master=0xf43c7B89A21d77Fe2Cd28951e8A1f2b2eAf9dd2B;\n  |                      ^"
     ]
    }
   ],
   "source": [
    "from web3 import Web3, HTTPProvider\n",
    "import json\n",
    "from solcx import compile_source\n",
    "import time\n",
    "\n",
    "# Connect to the blockchain network\n",
    "w3 = Web3(Web3.HTTPProvider('http://127.0.0.1:7545'))\n",
    "w3.isConnected()\n",
    "w3.eth.default_account = w3.eth.accounts[0]\n",
    "\n",
    "# Load and compile the Solidity contract\n",
    "with open('data.sol', 'r') as f:\n",
    "    contract_source_code = f.read()\n",
    "    contract_compiled = compile_source(contract_source_code, output_values=['abi','bin'])\n",
    "    contract_id, contract_interface = contract_compiled.popitem()\n",
    "# Deploy the contract\n",
    "\n",
    "abi = contract_interface['abi']\n",
    "bytecode = contract_interface['bin']\n",
    "data = w3.eth.contract(abi=abi, bytecode = bytecode)\n",
    "#print(Bank)\n",
    "\n",
    "transcation_Hash = data.constructor().transact()\n",
    "#print(transcation_Hash)\n",
    "\n",
    "transcation_receipt = w3.eth.wait_for_transaction_receipt(transcation_Hash)\n",
    "#print(transcation_receipt)\n",
    "\n",
    "##Calling Function To Print Values\n",
    "\n",
    "data = w3.eth.contract(address = transcation_receipt.contractAddress, abi=abi)\n",
    "# Define a class to encapsulate the data\n",
    "class Data:\n",
    "    def __init__(self, index, data_type, data):\n",
    "        self.index = index\n",
    "        self.timestamp = int(time.time())\n",
    "        self.data_type = data_type\n",
    "        self.data = data\n",
    "\n",
    "    def store(self):\n",
    "        \n",
    "        # Send a transaction to the blockchain to store the data\n",
    "        data = w3.eth.contract(address = transcation_receipt.contractAddress, abi=abi)\n",
    "        deposit_Hash = data.functions.storeData(self.index,self.timestamp,self.data_type,self.data).transact()\n",
    "        #print(deposit_Hash)\n",
    "        deposit_receipt = w3.eth.wait_for_transaction_receipt(deposit_Hash)\n",
    "        #print(deposit_receipt)\n",
    "\n",
    "    def retrieve(self, index):\n",
    "        # Call the blockchain to retrieve the data\n",
    "        data = w3.eth.contract(address = transcation_receipt.contractAddress, abi=abi)\n",
    "        print(data.functions.getData(index).call())\n",
    "        #print(data)\n",
    "\n",
    "# Create an instance of the Data class and store the data on the blockchain\n",
    "data = w3.eth.contract(address = transcation_receipt.contractAddress, abi=abi)\n",
    "deposit_Hash = data.functions.grantAccess('0xAAB0877ec9D3F4e08DF9F7fd785918A8d825dC7d').transact()\n",
    "#print(deposit_Hash)\n",
    "deposit_receipt = w3.eth.wait_for_transaction_receipt(deposit_Hash)\n",
    "#print(deposit_receipt)\n",
    "data = Data(1, 'string','Hello-world-from-sender')\n",
    "data.store()\n",
    "\n",
    "# Retrieve the data from the blockchain and print it\n",
    "#retrieved_data = data.retrieve(4)\n",
    "\n"
   ]
  },
  {
   "cell_type": "code",
   "execution_count": 143,
   "id": "16947688",
   "metadata": {},
   "outputs": [
    {
     "name": "stdout",
     "output_type": "stream",
     "text": [
      "[1679083514, 'string', 'Hello-world-from-receiver']\n"
     ]
    }
   ],
   "source": [
    "retrieved_data = data.retrieve(100)"
   ]
  },
  {
   "cell_type": "markdown",
   "id": "8c45176b",
   "metadata": {},
   "source": [
    "################################################################################################\n",
    "\n",
    "In this program, we define a class Data that encapsulates the data we want to store on the blockchain. The class has two methods: store() to send a transaction to the blockchain to store the data, and retrieve() to call the blockchain to retrieve the data.\n",
    "\n",
    "We connect to the blockchain network, load and compile the Solidity contract, and deploy the contract. We then create an instance of the Data class, store the data on the blockchain, and retrieve the data from the blockchain.\n",
    "\n",
    "Note that we will need to have a local blockchain network running and have the Solidity contract file saved on your local workstation for this program to work.\n",
    "################################################################################################"
   ]
  },
  {
   "cell_type": "code",
   "execution_count": null,
   "id": "ba6290a0",
   "metadata": {},
   "outputs": [],
   "source": [
    "## Reterive Data from Blockchain ##"
   ]
  },
  {
   "cell_type": "code",
   "execution_count": 141,
   "id": "e06b5058",
   "metadata": {},
   "outputs": [],
   "source": [
    "from web3 import Web3, HTTPProvider\n",
    "import json\n",
    "from solcx import compile_source\n",
    "import time\n",
    "\n",
    "# Connect to the blockchain network\n",
    "w3 = Web3(Web3.HTTPProvider('http://127.0.0.1:7545'))\n",
    "w3.isConnected()\n",
    "w3.eth.default_account = w3.eth.accounts[1]\n",
    "\n",
    "# Load and compile the Solidity contract\n",
    "with open('data.sol', 'r') as f:\n",
    "    contract_source_code = f.read()\n",
    "    contract_compiled = compile_source(contract_source_code, output_values=['abi','bin'])\n",
    "    contract_id, contract_interface = contract_compiled.popitem()\n",
    "# Deploy the contract\n",
    "\n",
    "abi = contract_interface['abi']\n",
    "bytecode = contract_interface['bin']\n",
    "data = w3.eth.contract(abi=abi, bytecode = bytecode)\n",
    "#print(Bank)\n",
    "\n",
    "transcation_Hash = data.constructor().transact()\n",
    "#print(transcation_Hash)\n",
    "\n",
    "transcation_receipt = w3.eth.wait_for_transaction_receipt(transcation_Hash)\n",
    "#print(transcation_receipt)\n",
    "\n",
    "##Calling Function To Print Values\n",
    "\n",
    "data = w3.eth.contract(address = transcation_receipt.contractAddress, abi=abi)\n",
    "# Define a class to encapsulate the data\n",
    "class Data:\n",
    "    def __init__(self, index, data_type, data):\n",
    "        self.index = index\n",
    "        self.timestamp = int(time.time())\n",
    "        self.data_type = data_type\n",
    "        self.data = data\n",
    "\n",
    "    def store(self):\n",
    "        \n",
    "        # Send a transaction to the blockchain to store the data\n",
    "        data = w3.eth.contract(address = transcation_receipt.contractAddress, abi=abi)\n",
    "        deposit_Hash = data.functions.storeData(self.index,self.timestamp,self.data_type,self.data).transact()\n",
    "        #print(deposit_Hash)\n",
    "        deposit_receipt = w3.eth.wait_for_transaction_receipt(deposit_Hash)\n",
    "        #print(deposit_receipt)\n",
    "\n",
    "    def retrieve(self, index):\n",
    "        # Call the blockchain to retrieve the data\n",
    "        data = w3.eth.contract(address = transcation_receipt.contractAddress, abi=abi)\n",
    "        print(data.functions.getData(index).call())\n",
    "        #print(data)\n",
    "\n",
    "# Create an instance of the Data class and store the data on the blockchain\n",
    "data = w3.eth.contract(address = transcation_receipt.contractAddress, abi=abi)\n",
    "deposit_Hash = data.functions.grantAccess('0xD8f13e20e4b2c9fA3a26D1946584Dd07770AbF62').transact()\n",
    "#print(deposit_Hash)\n",
    "deposit_receipt = w3.eth.wait_for_transaction_receipt(deposit_Hash)\n",
    "#print(deposit_receipt)\n",
    "data = Data(100, 'string','Hello-world-from-receiver')\n",
    "data.store()\n",
    "\n",
    "# Retrieve the data from the blockchain and print it\n",
    "#retrieved_data = data.retrieve(4)\n",
    "\n"
   ]
  },
  {
   "cell_type": "code",
   "execution_count": null,
   "id": "152e2a4b",
   "metadata": {},
   "outputs": [],
   "source": []
  },
  {
   "cell_type": "code",
   "execution_count": 86,
   "id": "44d8b330",
   "metadata": {},
   "outputs": [
    {
     "name": "stdout",
     "output_type": "stream",
     "text": [
      "[0, '', '', '', '0x0000000000000000000000000000000000000000', '0x0000000000000000000000000000000000000000']\n"
     ]
    }
   ],
   "source": [
    "retrieved_data = data.retrieve(1)"
   ]
  },
  {
   "cell_type": "code",
   "execution_count": null,
   "id": "661372eb",
   "metadata": {},
   "outputs": [],
   "source": [
    "### DATAV2 Contract ####"
   ]
  },
  {
   "cell_type": "code",
   "execution_count": 87,
   "id": "681497e2",
   "metadata": {},
   "outputs": [
    {
     "name": "stdout",
     "output_type": "stream",
     "text": [
      "[1680289821, 'string', 'gAAAAABkJzAd0e4YkjOGYuoHoYdx8PUPo_R_IeJ1xsygywqPEVfCJPEhQlPfC5uDCriwsV4mXcudulShuI7kt6pMWt1sOYg-s5ugBz0uAQAV3ZT2CBYAbVIwUJ7JDtTNN2c6wGWPeYkGfm4XR2736e8PzFUTp4c2TwfAcMByOYd1PyQX9UwIi12-pHvagFG7zxGFVdsLCL6KosiiHsl6xrTNKX5ym0pTO9TfAVaxpuD4p3KGycqXCqkBlQ2OC2fJ_7xSH4zXRNpoPjoOOpToJTlz4dpJXkDLqmlUcftj2yWbDwujA20wv-hcVkJXh6QGWwkbh17gPDMfuATnPtc3yQBsxujPup5QABtRUyBKxyGfQ8bXj60jgA6RxZ4rjSzEMxWGghsmKnkGr9CeQVho70KrkxuAjf-kxr2EwbD4fpLPq8Jir_fbvizjbq5rG0YiyxXJSdmU7Akkd8U1fe49pVb-eQtz4Eatjk-JUCLsqtSOAnKGjGvjuxzFZA-cU0mapIal-ZLqimeXptRsGm79YbcOEszDp62O3TgBMFY377sDGO4vS-ZoEgGD0HnutJK8ae8Ac1fYWmToyvoFMtW5x62qUhKwoMECpT1V5l3EJYOMySjYG8bHMjLJkk8FvVX4b_5cZGGxDqqmnzpQW7jloacMhnR0oaqHsC4wnGDFSQofcP572sMqvUNx2xu8L38mryjz6GaZCLpwPZ13T1IFxekcs7rAnaNW1OwWDchMu6MtiZ4lfKooEMYWLrE5TmTowMKrdfldIZtVr-d6AH2Hy9O7jaGFs3hlQhx2mr6dkS6AvVOAr-47WeZ-a9zZIB688UfR72z3dS1LCKKntvAEBy0o0bt7XZnmjBihjdUtA3mYf49CmG_atvQBjWAYz8vLpQ6TkUpoxJyD6DPES5yEb4XsOuP36xwbdgNQyix0xdZ4BjkhewgbUPMTMrH5LCopeMeT196CAATs5HMakZWSTZoeBb_w88EgGJz9Whx2k5N7xwkrhNFVOlftujZ78tLzRfb6Kx0e9AeuBrZWk7AaVTJCjq7SrzchekB-DBZoJOeUwyGcxMYTRyi4fqt75bhPRodk7Q66LEsWuMzWuvB3kCcM68h3YeJq7dQJKaGeQlMAx4JcTgLj5tXnCWIt8L7pJIay5JDWaV6QuR2Oiw2y9veHitOZoXbTK87mtW010cloY2EDrcPri3_JEWjzjoZgpohkMV7M3IOHNwxw2CmSG2Wkj7PzUiqJEspdi9xP5E6j-s-4_ImO0lEJDqtgEg2WnLHy8PWYkVSo0rvCOkjDsI4YmRV2qp3ishgLjbgDT_wczUtN7vN_WQLTsKKJ6NG7unY4XfeVmAcONbdXlnoy1L2JTufPIg9CS00nGUss6lI9M3OU1DmheYg=', 'BiXnnDdax7TMSCn_UJS3CgDfwV03BKjW9xl1rqu5kHA=', '0xC289FDa547493dA5D862c812f9B1E1C427681077', '0xFE3a69da7FAd481a23b2d3Ed3A65dCaa229DD8A0']\n"
     ]
    }
   ],
   "source": [
    "from web3 import Web3, HTTPProvider\n",
    "import json\n",
    "from solcx import compile_source\n",
    "import time\n",
    "from cryptography.fernet import Fernet\n",
    "import numpy as np\n",
    "\n",
    "# Connect to the blockchain network\n",
    "w3 = Web3(Web3.HTTPProvider('HTTP://172.20.41.77:7545'))\n",
    "w3.isConnected()\n",
    "w3.eth.default_account = w3.eth.accounts[0]\n",
    "\n",
    "# Load and compile the Solidity contract\n",
    "with open('datav2.sol', 'r') as f:\n",
    "    contract_source_code = f.read()\n",
    "    contract_compiled = compile_source(contract_source_code, output_values=['abi','bin'])\n",
    "    contract_id, contract_interface = contract_compiled.popitem()\n",
    "# Deploy the contract\n",
    "\n",
    "abi = contract_interface['abi']\n",
    "bytecode = contract_interface['bin']\n",
    "data = w3.eth.contract(abi=abi, bytecode = bytecode)\n",
    "#print(Bank)\n",
    "\n",
    "transcation_Hash = data.constructor().transact()\n",
    "#print(transcation_Hash)\n",
    "\n",
    "transcation_receipt = w3.eth.wait_for_transaction_receipt(transcation_Hash)\n",
    "#print(transcation_receipt)\n",
    "\n",
    "##Calling Function To Print Values\n",
    "\n",
    "data = w3.eth.contract(address = transcation_receipt.contractAddress, abi=abi)\n",
    "# Define a class to encapsulate the data\n",
    "def generate_key():\n",
    "    return Fernet.generate_key()\n",
    "\n",
    "def encrypt_data(plaintext, key):\n",
    "    cipher_suite = Fernet(key)\n",
    "    return cipher_suite.encrypt(plaintext.encode())\n",
    "\n",
    "def decrypt_data(ciphertext, key):\n",
    "    cipher_suite = Fernet(key)\n",
    "    return cipher_suite.decrypt(ciphertext).decode()\n",
    "\n",
    "class Data:\n",
    "    def __init__(self, index, data_type, data_hash):\n",
    "        self.index = index\n",
    "        self.timestamp = int(time.time())\n",
    "        self.data_type = data_type\n",
    "        self.data = data_hash\n",
    "        self.from_node = w3.eth.default_account\n",
    "        self.to_node = w3.eth.accounts[1]\n",
    "        self.key = key\n",
    "\n",
    "    def store(self):\n",
    "        \n",
    "        # Send a transaction to the blockchain to store the data\n",
    "        data = w3.eth.contract(address = transcation_receipt.contractAddress, abi=abi)\n",
    "        deposit_Hash = data.functions.storeData(self.index,self.timestamp,self.data_type,self.data,self.key,self.from_node,self.to_node).transact()\n",
    "        #print(deposit_Hash)\n",
    "        deposit_receipt = w3.eth.wait_for_transaction_receipt(deposit_Hash)\n",
    "        #print(deposit_receipt)\n",
    "\n",
    "    def retrieve(self, index):\n",
    "        # Call the blockchain to retrieve the data\n",
    "        data = w3.eth.contract(address = transcation_receipt.contractAddress, abi=abi)\n",
    "        print(data.functions.getData(index).call())\n",
    "        return data.functions.getData(index).call()\n",
    "    \n",
    "        \n",
    "    \n",
    "    \n",
    "# Create an instance of the Data class and grant access the data transcation on the blockchain\n",
    "data = w3.eth.contract(address = transcation_receipt.contractAddress, abi=abi)\n",
    "deposit_Hash = data.functions.grantAccess('0xC289FDa547493dA5D862c812f9B1E1C427681077').transact()\n",
    "#print(deposit_Hash)\n",
    "deposit_receipt = w3.eth.wait_for_transaction_receipt(deposit_Hash)\n",
    "key = generate_key()\n",
    "demoString = str(excel_data_df.head().astype(str))\n",
    "# Encrypt data before storing it on the blockchain\n",
    "encrypted_data = encrypt_data(demoString, key)\n",
    "\n",
    "# Create an instance of the Data class and store the encrypted data on the blockchain\n",
    "data = Data(100, 'string', encrypted_data)\n",
    "data.store()\n",
    "\n",
    "#retrieved_data = np.array(6)\n",
    "# Retrieve the data from the blockchain and decrypt it\n",
    "retrieved_data = data.retrieve(100)\n",
    "#decrypted_data = decrypt_data(retrieved_data, key)\n",
    "#print(decrypted_data)\n",
    "\n",
    "\n",
    "\n",
    "# Retrieve the data from the blockchain and print it\n",
    "#retrieved_data = data.retrieve(4)\n",
    "\n"
   ]
  },
  {
   "cell_type": "code",
   "execution_count": 92,
   "id": "44f066d5",
   "metadata": {},
   "outputs": [
    {
     "name": "stdout",
     "output_type": "stream",
     "text": [
      "[0, '', '', '', '0x0000000000000000000000000000000000000000', '0x0000000000000000000000000000000000000000']\n"
     ]
    }
   ],
   "source": [
    "#print(retrieved_data[2])\n",
    "# Retrieve the raw data from the blockchain and print it\n",
    "#print(key)\n",
    "retrieved_data = data.retrieve(12)"
   ]
  },
  {
   "cell_type": "code",
   "execution_count": 90,
   "id": "bfb2b49d",
   "metadata": {},
   "outputs": [
    {
     "ename": "ValueError",
     "evalue": "Fernet key must be 32 url-safe base64-encoded bytes.",
     "output_type": "error",
     "traceback": [
      "\u001b[0;31m---------------------------------------------------------------------------\u001b[0m",
      "\u001b[0;31mValueError\u001b[0m                                Traceback (most recent call last)",
      "Cell \u001b[0;32mIn [90], line 1\u001b[0m\n\u001b[0;32m----> 1\u001b[0m decrypted_data \u001b[38;5;241m=\u001b[39m decrypt_data(retrieved_data[\u001b[38;5;241m2\u001b[39m], retrieved_data[\u001b[38;5;241m3\u001b[39m])\n\u001b[1;32m      2\u001b[0m \u001b[38;5;28mprint\u001b[39m(decrypted_data)\n",
      "Cell \u001b[0;32mIn [87], line 43\u001b[0m, in \u001b[0;36mdecrypt_data\u001b[0;34m(ciphertext, key)\u001b[0m\n\u001b[1;32m     42\u001b[0m \u001b[38;5;28;01mdef\u001b[39;00m \u001b[38;5;21mdecrypt_data\u001b[39m(ciphertext, key):\n\u001b[0;32m---> 43\u001b[0m     cipher_suite \u001b[38;5;241m=\u001b[39m \u001b[43mFernet\u001b[49m\u001b[43m(\u001b[49m\u001b[43mkey\u001b[49m\u001b[43m)\u001b[49m\n\u001b[1;32m     44\u001b[0m     \u001b[38;5;28;01mreturn\u001b[39;00m cipher_suite\u001b[38;5;241m.\u001b[39mdecrypt(ciphertext)\u001b[38;5;241m.\u001b[39mdecode()\n",
      "File \u001b[0;32m/Library/Frameworks/Python.framework/Versions/3.9/lib/python3.9/site-packages/cryptography/fernet.py:39\u001b[0m, in \u001b[0;36mFernet.__init__\u001b[0;34m(self, key, backend)\u001b[0m\n\u001b[1;32m     35\u001b[0m     \u001b[38;5;28;01mraise\u001b[39;00m \u001b[38;5;167;01mValueError\u001b[39;00m(\n\u001b[1;32m     36\u001b[0m         \u001b[38;5;124m\"\u001b[39m\u001b[38;5;124mFernet key must be 32 url-safe base64-encoded bytes.\u001b[39m\u001b[38;5;124m\"\u001b[39m\n\u001b[1;32m     37\u001b[0m     ) \u001b[38;5;28;01mfrom\u001b[39;00m \u001b[38;5;21;01mexc\u001b[39;00m\n\u001b[1;32m     38\u001b[0m \u001b[38;5;28;01mif\u001b[39;00m \u001b[38;5;28mlen\u001b[39m(key) \u001b[38;5;241m!=\u001b[39m \u001b[38;5;241m32\u001b[39m:\n\u001b[0;32m---> 39\u001b[0m     \u001b[38;5;28;01mraise\u001b[39;00m \u001b[38;5;167;01mValueError\u001b[39;00m(\n\u001b[1;32m     40\u001b[0m         \u001b[38;5;124m\"\u001b[39m\u001b[38;5;124mFernet key must be 32 url-safe base64-encoded bytes.\u001b[39m\u001b[38;5;124m\"\u001b[39m\n\u001b[1;32m     41\u001b[0m     )\n\u001b[1;32m     43\u001b[0m \u001b[38;5;28mself\u001b[39m\u001b[38;5;241m.\u001b[39m_signing_key \u001b[38;5;241m=\u001b[39m key[:\u001b[38;5;241m16\u001b[39m]\n\u001b[1;32m     44\u001b[0m \u001b[38;5;28mself\u001b[39m\u001b[38;5;241m.\u001b[39m_encryption_key \u001b[38;5;241m=\u001b[39m key[\u001b[38;5;241m16\u001b[39m:]\n",
      "\u001b[0;31mValueError\u001b[0m: Fernet key must be 32 url-safe base64-encoded bytes."
     ]
    }
   ],
   "source": [
    "decrypted_data = decrypt_data(retrieved_data[2], retrieved_data[3])\n",
    "print(decrypted_data)"
   ]
  },
  {
   "cell_type": "code",
   "execution_count": 69,
   "id": "59f9bbfd",
   "metadata": {
    "scrolled": true
   },
   "outputs": [
    {
     "name": "stdout",
     "output_type": "stream",
     "text": [
      "0x4E6AeE5E37D48a2593f5baFE880B14C318502ebe\n"
     ]
    }
   ],
   "source": [
    "print(transcation_receipt.contractAddress)"
   ]
  },
  {
   "cell_type": "code",
   "execution_count": 66,
   "id": "638e3216",
   "metadata": {},
   "outputs": [
    {
     "ename": "KeyError",
     "evalue": "'31'",
     "output_type": "error",
     "traceback": [
      "\u001b[0;31m---------------------------------------------------------------------------\u001b[0m",
      "\u001b[0;31mKeyError\u001b[0m                                  Traceback (most recent call last)",
      "File \u001b[0;32m/Library/Frameworks/Python.framework/Versions/3.9/lib/python3.9/site-packages/pandas/core/indexes/base.py:3361\u001b[0m, in \u001b[0;36mIndex.get_loc\u001b[0;34m(self, key, method, tolerance)\u001b[0m\n\u001b[1;32m   3360\u001b[0m \u001b[38;5;28;01mtry\u001b[39;00m:\n\u001b[0;32m-> 3361\u001b[0m     \u001b[38;5;28;01mreturn\u001b[39;00m \u001b[38;5;28;43mself\u001b[39;49m\u001b[38;5;241;43m.\u001b[39;49m\u001b[43m_engine\u001b[49m\u001b[38;5;241;43m.\u001b[39;49m\u001b[43mget_loc\u001b[49m\u001b[43m(\u001b[49m\u001b[43mcasted_key\u001b[49m\u001b[43m)\u001b[49m\n\u001b[1;32m   3362\u001b[0m \u001b[38;5;28;01mexcept\u001b[39;00m \u001b[38;5;167;01mKeyError\u001b[39;00m \u001b[38;5;28;01mas\u001b[39;00m err:\n",
      "File \u001b[0;32m/Library/Frameworks/Python.framework/Versions/3.9/lib/python3.9/site-packages/pandas/_libs/index.pyx:76\u001b[0m, in \u001b[0;36mpandas._libs.index.IndexEngine.get_loc\u001b[0;34m()\u001b[0m\n",
      "File \u001b[0;32m/Library/Frameworks/Python.framework/Versions/3.9/lib/python3.9/site-packages/pandas/_libs/index.pyx:108\u001b[0m, in \u001b[0;36mpandas._libs.index.IndexEngine.get_loc\u001b[0;34m()\u001b[0m\n",
      "File \u001b[0;32mpandas/_libs/hashtable_class_helper.pxi:5198\u001b[0m, in \u001b[0;36mpandas._libs.hashtable.PyObjectHashTable.get_item\u001b[0;34m()\u001b[0m\n",
      "File \u001b[0;32mpandas/_libs/hashtable_class_helper.pxi:5206\u001b[0m, in \u001b[0;36mpandas._libs.hashtable.PyObjectHashTable.get_item\u001b[0;34m()\u001b[0m\n",
      "\u001b[0;31mKeyError\u001b[0m: '31'",
      "\nThe above exception was the direct cause of the following exception:\n",
      "\u001b[0;31mKeyError\u001b[0m                                  Traceback (most recent call last)",
      "Cell \u001b[0;32mIn [66], line 6\u001b[0m\n\u001b[1;32m      4\u001b[0m url \u001b[38;5;241m=\u001b[39m \u001b[38;5;124m'\u001b[39m\u001b[38;5;124mhttps://raw.githubusercontent.com/kun9717/STIN-data-set/main/SAT20.csv\u001b[39m\u001b[38;5;124m'\u001b[39m\n\u001b[1;32m      5\u001b[0m df \u001b[38;5;241m=\u001b[39m pd\u001b[38;5;241m.\u001b[39mread_csv(url, index_col\u001b[38;5;241m=\u001b[39m\u001b[38;5;241m0\u001b[39m)\n\u001b[0;32m----> 6\u001b[0m dlf \u001b[38;5;241m=\u001b[39m df[\u001b[38;5;124m'\u001b[39m\u001b[38;5;124m31\u001b[39m\u001b[38;5;124m'\u001b[39m]\n\u001b[1;32m      7\u001b[0m \u001b[38;5;28mprint\u001b[39m(dlf\u001b[38;5;241m.\u001b[39mhead(\u001b[38;5;241m1\u001b[39m))\n",
      "File \u001b[0;32m/Library/Frameworks/Python.framework/Versions/3.9/lib/python3.9/site-packages/pandas/core/frame.py:3458\u001b[0m, in \u001b[0;36mDataFrame.__getitem__\u001b[0;34m(self, key)\u001b[0m\n\u001b[1;32m   3456\u001b[0m \u001b[38;5;28;01mif\u001b[39;00m \u001b[38;5;28mself\u001b[39m\u001b[38;5;241m.\u001b[39mcolumns\u001b[38;5;241m.\u001b[39mnlevels \u001b[38;5;241m>\u001b[39m \u001b[38;5;241m1\u001b[39m:\n\u001b[1;32m   3457\u001b[0m     \u001b[38;5;28;01mreturn\u001b[39;00m \u001b[38;5;28mself\u001b[39m\u001b[38;5;241m.\u001b[39m_getitem_multilevel(key)\n\u001b[0;32m-> 3458\u001b[0m indexer \u001b[38;5;241m=\u001b[39m \u001b[38;5;28;43mself\u001b[39;49m\u001b[38;5;241;43m.\u001b[39;49m\u001b[43mcolumns\u001b[49m\u001b[38;5;241;43m.\u001b[39;49m\u001b[43mget_loc\u001b[49m\u001b[43m(\u001b[49m\u001b[43mkey\u001b[49m\u001b[43m)\u001b[49m\n\u001b[1;32m   3459\u001b[0m \u001b[38;5;28;01mif\u001b[39;00m is_integer(indexer):\n\u001b[1;32m   3460\u001b[0m     indexer \u001b[38;5;241m=\u001b[39m [indexer]\n",
      "File \u001b[0;32m/Library/Frameworks/Python.framework/Versions/3.9/lib/python3.9/site-packages/pandas/core/indexes/base.py:3363\u001b[0m, in \u001b[0;36mIndex.get_loc\u001b[0;34m(self, key, method, tolerance)\u001b[0m\n\u001b[1;32m   3361\u001b[0m         \u001b[38;5;28;01mreturn\u001b[39;00m \u001b[38;5;28mself\u001b[39m\u001b[38;5;241m.\u001b[39m_engine\u001b[38;5;241m.\u001b[39mget_loc(casted_key)\n\u001b[1;32m   3362\u001b[0m     \u001b[38;5;28;01mexcept\u001b[39;00m \u001b[38;5;167;01mKeyError\u001b[39;00m \u001b[38;5;28;01mas\u001b[39;00m err:\n\u001b[0;32m-> 3363\u001b[0m         \u001b[38;5;28;01mraise\u001b[39;00m \u001b[38;5;167;01mKeyError\u001b[39;00m(key) \u001b[38;5;28;01mfrom\u001b[39;00m \u001b[38;5;21;01merr\u001b[39;00m\n\u001b[1;32m   3365\u001b[0m \u001b[38;5;28;01mif\u001b[39;00m is_scalar(key) \u001b[38;5;129;01mand\u001b[39;00m isna(key) \u001b[38;5;129;01mand\u001b[39;00m \u001b[38;5;129;01mnot\u001b[39;00m \u001b[38;5;28mself\u001b[39m\u001b[38;5;241m.\u001b[39mhasnans:\n\u001b[1;32m   3366\u001b[0m     \u001b[38;5;28;01mraise\u001b[39;00m \u001b[38;5;167;01mKeyError\u001b[39;00m(key)\n",
      "\u001b[0;31mKeyError\u001b[0m: '31'"
     ]
    }
   ],
   "source": [
    "import pandas as pd\n",
    "import ssl\n",
    "ssl._create_default_https_context = ssl._create_unverified_context\n",
    "url = 'https://raw.githubusercontent.com/kun9717/STIN-data-set/main/SAT20.csv'\n",
    "df = pd.read_csv(url, index_col=0)\n",
    "dlf = df['31']\n",
    "print(dlf.head(1))"
   ]
  },
  {
   "cell_type": "code",
   "execution_count": 9,
   "id": "d9d09258",
   "metadata": {},
   "outputs": [
    {
     "name": "stdout",
     "output_type": "stream",
     "text": [
      "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\n"
     ]
    }
   ],
   "source": [
    "print(bytecode)"
   ]
  },
  {
   "cell_type": "code",
   "execution_count": 61,
   "id": "98840793",
   "metadata": {},
   "outputs": [
    {
     "name": "stdout",
     "output_type": "stream",
     "text": [
      "525.896484375\n"
     ]
    },
    {
     "ename": "TypeError",
     "evalue": "'DataFrame' object is not callable",
     "output_type": "error",
     "traceback": [
      "\u001b[0;31m---------------------------------------------------------------------------\u001b[0m",
      "\u001b[0;31mTypeError\u001b[0m                                 Traceback (most recent call last)",
      "Cell \u001b[0;32mIn [61], line 12\u001b[0m\n\u001b[1;32m     10\u001b[0m \u001b[38;5;28mprint\u001b[39m(file_stats\u001b[38;5;241m.\u001b[39mst_size\u001b[38;5;241m/\u001b[39m(\u001b[38;5;241m1024\u001b[39m))\n\u001b[1;32m     11\u001b[0m \u001b[38;5;66;03m# print whole sheet data\u001b[39;00m\n\u001b[0;32m---> 12\u001b[0m \u001b[38;5;28mprint\u001b[39m(excel_data_df(\u001b[38;5;241m1\u001b[39m))\n",
      "\u001b[0;31mTypeError\u001b[0m: 'DataFrame' object is not callable"
     ]
    }
   ],
   "source": [
    "import pandas\n",
    "import os\n",
    "excel_data_df = pandas.read_excel('InSitu.xlsx', sheet_name='Sheet1')\n",
    "\n",
    "\n",
    "file_name = \"InSitu.xlsx\"\n",
    "#relative_path = os.open(\"/Users/dipenbhuva/Desktop/Blockc/contracts/\", os.O_RDONLY)\n",
    "\n",
    "file_stats = os.stat(file_name)\n",
    "print(file_stats.st_size/(1024))\n",
    "# print whole sheet data\n",
    "print(excel_data_df(1))"
   ]
  },
  {
   "cell_type": "code",
   "execution_count": 21,
   "id": "14fc93c1",
   "metadata": {},
   "outputs": [
    {
     "data": {
      "text/html": [
       "<div>\n",
       "<style scoped>\n",
       "    .dataframe tbody tr th:only-of-type {\n",
       "        vertical-align: middle;\n",
       "    }\n",
       "\n",
       "    .dataframe tbody tr th {\n",
       "        vertical-align: top;\n",
       "    }\n",
       "\n",
       "    .dataframe thead th {\n",
       "        text-align: right;\n",
       "    }\n",
       "</style>\n",
       "<table border=\"1\" class=\"dataframe\">\n",
       "  <thead>\n",
       "    <tr style=\"text-align: right;\">\n",
       "      <th></th>\n",
       "      <th>UTC_Mid</th>\n",
       "      <th>Time_Offset</th>\n",
       "      <th>Pressure_hPa</th>\n",
       "      <th>Altitude_mAGL</th>\n",
       "      <th>Temperature_C</th>\n",
       "      <th>RelHumidity_percent</th>\n",
       "      <th>Latitude_deg</th>\n",
       "      <th>Longitude_deg</th>\n",
       "      <th>WindSpeed_mps</th>\n",
       "      <th>WindDirection_deg</th>\n",
       "    </tr>\n",
       "  </thead>\n",
       "  <tbody>\n",
       "    <tr>\n",
       "      <th>0</th>\n",
       "      <td>73787</td>\n",
       "      <td>0</td>\n",
       "      <td>1014.0</td>\n",
       "      <td>0.0</td>\n",
       "      <td>17.1</td>\n",
       "      <td>91.4</td>\n",
       "      <td>41</td>\n",
       "      <td>64</td>\n",
       "      <td>7.7</td>\n",
       "      <td>130</td>\n",
       "    </tr>\n",
       "    <tr>\n",
       "      <th>1</th>\n",
       "      <td>73788</td>\n",
       "      <td>1</td>\n",
       "      <td>1013.36</td>\n",
       "      <td>7.6</td>\n",
       "      <td>16.54</td>\n",
       "      <td>94.81</td>\n",
       "      <td>41</td>\n",
       "      <td>64</td>\n",
       "      <td>7.4</td>\n",
       "      <td>161</td>\n",
       "    </tr>\n",
       "    <tr>\n",
       "      <th>2</th>\n",
       "      <td>73789</td>\n",
       "      <td>2</td>\n",
       "      <td>1012.99</td>\n",
       "      <td>10.9</td>\n",
       "      <td>16.41</td>\n",
       "      <td>97.53</td>\n",
       "      <td>41</td>\n",
       "      <td>64</td>\n",
       "      <td>7.4</td>\n",
       "      <td>161</td>\n",
       "    </tr>\n",
       "    <tr>\n",
       "      <th>3</th>\n",
       "      <td>73790</td>\n",
       "      <td>3</td>\n",
       "      <td>1012.65</td>\n",
       "      <td>13.5</td>\n",
       "      <td>16.54</td>\n",
       "      <td>99.1</td>\n",
       "      <td>41</td>\n",
       "      <td>64</td>\n",
       "      <td>7.3</td>\n",
       "      <td>162</td>\n",
       "    </tr>\n",
       "    <tr>\n",
       "      <th>4</th>\n",
       "      <td>73791</td>\n",
       "      <td>4</td>\n",
       "      <td>1012.3</td>\n",
       "      <td>16.2</td>\n",
       "      <td>16.74</td>\n",
       "      <td>99.49</td>\n",
       "      <td>41</td>\n",
       "      <td>64</td>\n",
       "      <td>7.3</td>\n",
       "      <td>163</td>\n",
       "    </tr>\n",
       "  </tbody>\n",
       "</table>\n",
       "</div>"
      ],
      "text/plain": [
       "  UTC_Mid  Time_Offset  Pressure_hPa  Altitude_mAGL  Temperature_C  \\\n",
       "0   73787            0        1014.0            0.0           17.1   \n",
       "1   73788            1       1013.36            7.6          16.54   \n",
       "2   73789            2       1012.99           10.9          16.41   \n",
       "3   73790            3       1012.65           13.5          16.54   \n",
       "4   73791            4        1012.3           16.2          16.74   \n",
       "\n",
       "   RelHumidity_percent  Latitude_deg  Longitude_deg  WindSpeed_mps  \\\n",
       "0                 91.4            41             64            7.7   \n",
       "1                94.81            41             64            7.4   \n",
       "2                97.53            41             64            7.4   \n",
       "3                 99.1            41             64            7.3   \n",
       "4                99.49            41             64            7.3   \n",
       "\n",
       "   WindDirection_deg  \n",
       "0                130  \n",
       "1                161  \n",
       "2                161  \n",
       "3                162  \n",
       "4                163  "
      ]
     },
     "execution_count": 21,
     "metadata": {},
     "output_type": "execute_result"
    }
   ],
   "source": [
    "excel_data_df.head().astype(str)"
   ]
  },
  {
   "cell_type": "code",
   "execution_count": 30,
   "id": "c2c87ed2",
   "metadata": {},
   "outputs": [
    {
     "name": "stdout",
     "output_type": "stream",
     "text": [
      "<class 'str'>\n"
     ]
    }
   ],
   "source": [
    "print(demoString)"
   ]
  },
  {
   "cell_type": "code",
   "execution_count": null,
   "id": "dc804b2a",
   "metadata": {},
   "outputs": [],
   "source": [
    "##Auto-vulneraability script"
   ]
  },
  {
   "cell_type": "code",
   "execution_count": 48,
   "id": "e481fe24",
   "metadata": {},
   "outputs": [
    {
     "name": "stdout",
     "output_type": "stream",
     "text": [
      "Vulnerabilities detected: improper_access_control\n",
      "Patched smart contract saved as PatchedSmartContract.sol\n"
     ]
    }
   ],
   "source": [
    "import os\n",
    "import re\n",
    "from solcx import compile_source, link_code\n",
    "from web3 import Web3\n",
    "\n",
    "# Connect to local Ethereum node\n",
    "w3 = Web3(Web3.HTTPProvider('http://localhost:8545'))\n",
    "\n",
    "def load_smart_contract(file_path):\n",
    "    with open(file_path, 'r') as f:\n",
    "        return f.read()\n",
    "\n",
    "def detect_vulnerabilities(contract_code):\n",
    "    vulnerabilities = []\n",
    "    \n",
    "    # Detect reentrancy vulnerabilities\n",
    "    if re.search(r'\\.call\\(', contract_code):\n",
    "        vulnerabilities.append('reentrancy')\n",
    "\n",
    "    # Detect integer overflow vulnerabilities\n",
    "    if re.search(r'\\+\\+|-\\-', contract_code):\n",
    "        vulnerabilities.append('integer_overflow')\n",
    "\n",
    "    # Detect improper access control vulnerabilities\n",
    "    if re.search(r'public', contract_code):\n",
    "        vulnerabilities.append('improper_access_control')\n",
    "\n",
    "    return vulnerabilities\n",
    "\n",
    "def generate_patch(vulnerability, contract_code):\n",
    "    patched_code = contract_code\n",
    "\n",
    "    if vulnerability == 'reentrancy':\n",
    "        patched_code = re.sub(r'\\.call\\(', '.transfer(', patched_code)\n",
    "    \n",
    "    if vulnerability == 'integer_overflow':\n",
    "        patched_code = re.sub(r'(\\+\\+|-\\-)', r'SafeMath.\\1', patched_code)\n",
    "    \n",
    "    if vulnerability == 'improper_access_control':\n",
    "        patched_code = re.sub(r'public', 'internal', patched_code)\n",
    "\n",
    "    return patched_code\n",
    "\n",
    "def main():\n",
    "    contract_file_path = 'datav2.sol'\n",
    "    contract_code = load_smart_contract(contract_file_path)\n",
    "    vulnerabilities = detect_vulnerabilities(contract_code)\n",
    "\n",
    "    if vulnerabilities:\n",
    "        print(f'Vulnerabilities detected: {\", \".join(vulnerabilities)}')\n",
    "        patched_code = contract_code\n",
    "\n",
    "        for vulnerability in vulnerabilities:\n",
    "            patched_code = generate_patch(vulnerability, patched_code)\n",
    "\n",
    "        with open('PatchedSmartContract.sol', 'w') as f:\n",
    "            f.write(patched_code)\n",
    "\n",
    "        print('Patched smart contract saved as PatchedSmartContract.sol')\n",
    "    else:\n",
    "        print('No vulnerabilities detected.')\n",
    "\n",
    "if __name__ == '__main__':\n",
    "    main()\n"
   ]
  },
  {
   "cell_type": "code",
   "execution_count": 101,
   "id": "d524f955",
   "metadata": {},
   "outputs": [
    {
     "name": "stdout",
     "output_type": "stream",
     "text": [
      "b'gAAAAABkMew00fqUtKmFqRPy4i3BT4SBiml0zLnf7eNGmbjufaZ9sfXxaN-kQBwL1dc09lTFtjR-oBHTa846fCScRuPH4zsOQTEEa5ULzi4SVb8jnnIJcWeEEAAMgEsUH_wPRbNPtkM1f7S3knEjNykML1b_ey9hu1L4qGAe1ZwcXSGIlgO0O1QvI_ih0B7dnV5EPs0HsKZ6RrfRpEOCwHTBCI2jb6N-apodoIoHeZPsskGK9T9kKL6diOmxFv25caYSYR9haPfkTXYdhYxC8JGfZ0zOFd6TfV56p9nsVcdOKx4gLdg4F6Y-o0IRCNq7O_r49QuRJMCFVRc9-N-eXj7nJK7BXz0TR9KnmNHrD6NzPwaLFcXs4USJonjGmlF5_rnA5ne8UBOgIYzpgSm8oSpPQe66hFHCVwKFzmSMcouxuQURyJFDW0nGhp-DvJ-VIhfmha_geep0WaqS2hDkKo8Y2ztMzMkH2_0uYT_5bXQhaHEr0h91uIgDX6s0mee8pHJt09tPm7jF9IHpDmsIsie7fN7-18NZ4rRB3m-fhWM5vIt3KbRLNZVDidkO-dTeCfgpMSZyjXc2mPiDIY0vxWtphMywvXnDr2OekbRs28Qxm2Y2ndN0fo2zcQ-lz0AN4PAJ45i92eZRfL_SfuoSYIGnhqUIPYKJBMza6gu93KpLGaK0SaXLpSuyVkABllky41ayF0FdUm5B-rzBBcjZXjCzZVxrl3TWs9z3xxEgqihtdaLODfPjA6u3uI2VwA8rMKhcgnJgVCYqv5C5sFQKxzu-rWEwtzD9RnzMndYYXcBMFHlDZZGsfIxsFXPBgN0GpI-eBz2ELjcyIV_JehUW1qfSW4v_uKPU-XwQmgPIEkQV5h3c_qQBwtlbHIWxTIH_rn_dyCOLsp3qQV02sBr2oXoL4kZN5Cgx8cjaMO1hyrIbe_VWaXxMqmhAY7YgUH7qPv4mI1Gm2_eNGhwz0uYJBmae-K2F12tWy8FzYlvo6JGY9pmMnvdiCp3B4qwgQKEgazufHh04YSmBA8kagmjz-KaQWgDtcfoiS8akIjg1JCjSgQIT-3dL0qPC5HyyVKSCz5xWYHjA8L3iMCHiRGQukqoGCMZqVX7sttNnAMRz7NEHsDG7zRQDqWkvmjpKXHO24mcYANEZgcOAemO7Oa2-joyzEqnZmdwseMe9KQbVQm_-iqyhX1tPccfZrktHDeNwL-OmPxBKtkz9Hl9B--uIzmwoHl6A84V7Cpuk-H_AElrq9glX2KAUK-nrWwOOwLIS815xP1mH4oBz-UZvEaakprhrY7IkuIn7zSI6BqQQO7nXwm01VuFhPkmCjd9ZqyBCzYMhd0DjVUEwJdJ-LK2P4MKGKP0nnowKJJAHIUjPHvdvgUN4i8V8VkpcghJws9q2IL4fReSD0TvFH_LB_0KAeVWEg_SErTUDY9Js8lt2pInEdSiJey9gJuzXPSXFnMdr7ptCDZNjcMAX_v5jpUNNFlqEFihLJDOnM07Py6Pe-pZZWbMhjQaAuOobigUqMMwNTcRDMjqAWrykMWtvyqvu2G8SzfTBzSrpp9cCVQJGuPLIuvKjmOmIyg7gI7O36Xxel9DVW0hIeHhp6qn8gPkRJthaa5FE1zyNxP3k0KovWeAGVkWmvkAbb4hfPt7YfrMjD90h57Pn81qNsVzbQbxO4wY_2HPxfKv4COCrPSH9ISobolLjAK8yrsv_7F2Hy4wsuAFykaDefzCsFiGMXzguxHruH6EQrk6e3BJjp8iOq2SLYYS1m6p6uPRye5Aarze_ILJ5DG3pPxvdCbJSPgLuL4Ibn6ffpFpmJDR_NX9_Lx-S0TRpi_w6tVSl0_CNgXfZMopMvrVUjK8r41T6-rEXCIyLUsvfy5wlKjKxdSDMU37YPQ1H_D0pvZR-c0AsBmJMe-ILnDC1yAJb1EpdVGenZHurRjr6IOKptvyKrOmZ1XTPw_EHQOCbs7mbPKfMsDl7UVnbLG6lC5jRbORIH6nfTwO3Amin6PrZJ4ij8AdFQts4lTm1VW0Ec8yG5B8Bd7zL-EmVMB05oH_IvMORM-25N9PTE6nDHEc441N1pfW92ShPohRem67rcTc9Ca8tutydxxPmV6SKIZFWi2KdlKZrak2kEKD4_CeJ0uTlI9vUNFrTU5t3i7Lu4YjsDy5S5jImMeizXnuOwVZyInasGXXCgQJwmwrtotWrfHVaqV1K1wOMDd-u_sjZbX_FXRW9eObxKQHwXksjlSYDtmlNHWZgCNy6VG1GI22iKh2dnIhl2Nb0BpcUu0VgAa1rxlcQo5denCeZZ5ruiRGRZ4lY8sYjDxzDxPkzLYEbZMP7jCRkcj9bT72ngUmXOOsUWaJiJQm22IW4uewusRN2no5-VzRDY3TBVqjoL7fGOF7gZx6Ew_MI61unSNLeg_MIYG8rtfpVVtLRwWQrNo2VI8vvEijbpCZTD-4VpAE-Cnyz6PWj5oV1YuhlBr9zQS3f3Sc-rbUWMdcU_A7oqVVg6zpF4jWUegVXEAP2IDUoGLtLtCkaxWe4hlV2awKUlg21YYXCDXWIgy2CBUT7p4kaQHbfMlaRjuuYSczHlRZuEReCWugrg4GZ59WZUIjc56CG6FXjIDqsoC4eWnbkm3ywR2dwb5LMrZEtnXSjbPc04RhmzVTiA1VSY7WI3o9mlSc6IoLe6ZBz9YkVhvfB8ohKhjk8kXdQvdofFuNy9Npmsg4YrceQbmTqss_s02WtQqoglGSM0E5GWvpcSEPLGNc-5zRfD5MuezbmF0kJrcm-_98y7vDE_O-cEKG0IQC7HKHIqjz6VtshFU4ZOIh-xCAnwMaZh6wGHL-8MhlhpOymJMwGIs2d5a9g-SwOQcDrARg='\n",
      "b'M-wj-3U6EY2yFrwoxRxaJetW7SBUw0AVfthLq12BsrE='\n"
     ]
    }
   ],
   "source": [
    "from cryptography.fernet import Fernet\n",
    "\n",
    "def generate_key():\n",
    "    return Fernet.generate_key()\n",
    "\n",
    "def encrypt_data(plaintext, key):\n",
    "    cipher_suite = Fernet(key)\n",
    "    return cipher_suite.encrypt(plaintext.encode())\n",
    "\n",
    "def decrypt_data(ciphertext, key):\n",
    "    cipher_suite = Fernet(key)\n",
    "    return cipher_suite.decrypt(ciphertext).decode()\n",
    "\n",
    "\n",
    "key = generate_key()\n",
    "demoString = str(\"ac 8a d6 ef e2 ce 6d 7c b9 26 72 8f 6 aa 67 86 b9 6b 44 8b b dc 10 7e f2 45 56 83 d7 61 40 0b a6 46 72 4c a9 ef 8f9c 8a a2 ba 7d 97 d9 a7 62 e4 d3 f2 92 a4 c1 9c 68 0c 94 27 de 0b 94 6c54 90 6f 24 ae 1a 13 44 89 2c cb 01 aa 2f d1 a8 3d c2 b3 fb f2 0c 7c 88 f2 49 c2 ec c3 3c 5e b8 c4 67 da 01 17 6a f2 c6 11 fc e7 18 11 5e 5a e4 6c dd 5b 97 f7 51 b4 3d ab cf 7f e6 4c e4 ae 18 60 31 48 ea 71 c4 ae 99 db c5 ae fc 54 a2 2f 89 69 51 37 04 62 26 29 a3 b5 9e be c1 b0 80 16 35 4e 66 4c 1e 77 df 1f 37 ad 56 0c a0 f2 5b b4 21 f4 34 dd 0e 08 cc 45 d4 fe 0b 29 be 3b 9c 7b 44 6f 37 3e 60 fe 6d 2f 2d cb 96 f6 0e 5b ba b5 e8 8d 36 b2 14 13 e6 3c dc c5 2b 30 82 7a 22 63 3f ee f9 1d bf c7 0a d6 62 fc 42 16 85 87 0a 31 0b 7e 71 dd 06 6f cf eb 22 e7 e8 31 b0 a9 56 83 dc fe 25 80 a5 32 9a 57 11 c3 e2 a5 9b 09 a5 50 31 a3 2a 0f d6 11 a3 67 a7 4d 32 04 e2 fa a7 ac a4 38 22 6e 66 79 7b ea cf 37 24 b4 7e 94 d6 19 8c 44 63 5d 04 4e bb 71 13 12 5c 57 d6 a0 33 ce 34 52 d2 d6 11 f6 74 87 8b 24 d4 ec 2c 79 ad 86 da fb c8 59 53 bf f5 0f 63 b4 f0 fe 62 77 0d 50 74 44 cc af 47 e5 3d 15 16 53 74 a3 1e f3 12 42 6c 6b 7a fe 42 20 65 d6 e5 07 de e8 3c 50 15 12 c7 4c f0 0d 7b 25 dc d7 e4 64 01 d0 7f b4 cf 0a 5f 17 7a e3 b2 0a 18 29 e5 97 b6 c9 07 7b b2 47 c4 55 53 e3 01 91 6a 1b 7c a5 c7 0a 9f dd 64 e1 f3 90 98 a5 a7 7f c3 38 b1 0c e2 a0 3c 07 1b 54 8d f4 ed 89 12 60 ed e3 05 be 12 2f af 25 5a 47 26 68 55 7d c2 1c 16 b7 b6 de 1e 37 ad 8b ad 55 46 6e 43 3a 3b ca fb a9 dc a1 81 e3 41 77 d0 c1 82 56 f6 fe 44 b2 c8 85 ed 98 6f 89 ce ed 67 f2 4e 1b 6f 8e 09 0e 90 4f 5b 43 fc d5 0a 6e a1 6d 32 61 5b d4 8c 97 74 42 9a a5 17 b9 e0 61 91 4c 07 f0 10 e3 b1 23 a8 ca 24 99 e0 eb 48 cf 82 80 5e c1 ac 34 c8 4b f0 84 16 ad 16 d3 cd cd e4 6d 8d 8b 67 ce c9 35 b8 82 fb 20 02 af e1 93 d2 ee 90 fe 08 9a 32 a3 7d 5c 91 54 5e 0f 55 56 96 78 11 e6 75 ad fb 32 bb 1c 85 05 b0 08 39 89 4d ed d9 75 07 c5 47 03 79 06 dd a4 00 01 4e 5a 47 0e 48 c0 00 53 a5 9c 09 55 36 0a 52 69 77 ea ba 8e 6a b0 94 22 86 88 db 5a cb 86 ea 3d fb 11 17 bd 3b 59 9c 9d 85 31 cb 40 f5 58 d4 66 b5 7e 8c a6 ac 14 08 96 0e 2d bc 51 ef de 6e b7 65 \")\n",
    "# Encrypt data before storing it on the blockchain\n",
    "encrypted_data = encrypt_data(demoString, key)\n",
    "\n",
    "print(encrypted_data)\n",
    "print(key)"
   ]
  },
  {
   "cell_type": "code",
   "execution_count": null,
   "id": "5f4a6875",
   "metadata": {},
   "outputs": [],
   "source": []
  }
 ],
 "metadata": {
  "kernelspec": {
   "display_name": "Python 3 (ipykernel)",
   "language": "python",
   "name": "python3"
  },
  "language_info": {
   "codemirror_mode": {
    "name": "ipython",
    "version": 3
   },
   "file_extension": ".py",
   "mimetype": "text/x-python",
   "name": "python",
   "nbconvert_exporter": "python",
   "pygments_lexer": "ipython3",
   "version": "3.9.4"
  }
 },
 "nbformat": 4,
 "nbformat_minor": 5
}
